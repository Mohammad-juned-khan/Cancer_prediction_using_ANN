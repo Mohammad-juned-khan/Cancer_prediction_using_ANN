{
  "nbformat": 4,
  "nbformat_minor": 5,
  "metadata": {
    "kernelspec": {
      "name": "python3",
      "display_name": "Python 3"
    },
    "colab": {
      "name": "Cancer ANN- M.Juned Khan_ All Model.ipynb",
      "provenance": [],
      "collapsed_sections": [],
      "include_colab_link": true
    },
    "language_info": {
      "name": "python"
    },
    "accelerator": "GPU"
  },
  "cells": [
    {
      "cell_type": "markdown",
      "metadata": {
        "id": "view-in-github",
        "colab_type": "text"
      },
      "source": [
        "<a href=\"https://colab.research.google.com/github/Mohammad-juned-khan/Cancer_prediction_using_ANN/blob/main/Cancer_ANN_M_Juned_Khan__All_Model.ipynb\" target=\"_parent\"><img src=\"https://colab.research.google.com/assets/colab-badge.svg\" alt=\"Open In Colab\"/></a>"
      ]
    },
    {
      "cell_type": "code",
      "metadata": {
        "id": "assigned-beach"
      },
      "source": [
        "#import Libraries\n",
        "import pandas as pd\n",
        "import numpy as np \n",
        "import matplotlib.pyplot as plt\n",
        "%matplotlib inline"
      ],
      "id": "assigned-beach",
      "execution_count": null,
      "outputs": []
    },
    {
      "cell_type": "code",
      "metadata": {
        "colab": {
          "resources": {
            "http://localhost:8080/nbextensions/google.colab/files.js": {
              "data": "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",
              "ok": true,
              "headers": [
                [
                  "content-type",
                  "application/javascript"
                ]
              ],
              "status": 200,
              "status_text": "OK"
            }
          },
          "base_uri": "https://localhost:8080/",
          "height": 77
        },
        "id": "8UcLhY0Q2BmJ",
        "outputId": "b69830e4-f033-4c50-c759-ce648bedcd96"
      },
      "source": [
        "from google.colab import files\n",
        "upload=files.upload()"
      ],
      "id": "8UcLhY0Q2BmJ",
      "execution_count": null,
      "outputs": [
        {
          "output_type": "display_data",
          "data": {
            "text/html": [
              "\n",
              "     <input type=\"file\" id=\"files-5c73a60e-fd75-48f7-9be5-2482020955f1\" name=\"files[]\" multiple disabled\n",
              "        style=\"border:none\" />\n",
              "     <output id=\"result-5c73a60e-fd75-48f7-9be5-2482020955f1\">\n",
              "      Upload widget is only available when the cell has been executed in the\n",
              "      current browser session. Please rerun this cell to enable.\n",
              "      </output>\n",
              "      <script src=\"/nbextensions/google.colab/files.js\"></script> "
            ],
            "text/plain": [
              "<IPython.core.display.HTML object>"
            ]
          },
          "metadata": {
            "tags": []
          }
        },
        {
          "output_type": "stream",
          "text": [
            "Saving Cancer.csv to Cancer (1).csv\n"
          ],
          "name": "stdout"
        }
      ]
    },
    {
      "cell_type": "code",
      "metadata": {
        "colab": {
          "base_uri": "https://localhost:8080/",
          "height": 244
        },
        "id": "indonesian-academy",
        "outputId": "500551be-83f9-4595-d813-8de97990dca2"
      },
      "source": [
        "# read the data set\n",
        "data=pd.read_csv(\"Cancer.csv\")\n",
        "data.head()"
      ],
      "id": "indonesian-academy",
      "execution_count": null,
      "outputs": [
        {
          "output_type": "execute_result",
          "data": {
            "text/html": [
              "<div>\n",
              "<style scoped>\n",
              "    .dataframe tbody tr th:only-of-type {\n",
              "        vertical-align: middle;\n",
              "    }\n",
              "\n",
              "    .dataframe tbody tr th {\n",
              "        vertical-align: top;\n",
              "    }\n",
              "\n",
              "    .dataframe thead th {\n",
              "        text-align: right;\n",
              "    }\n",
              "</style>\n",
              "<table border=\"1\" class=\"dataframe\">\n",
              "  <thead>\n",
              "    <tr style=\"text-align: right;\">\n",
              "      <th></th>\n",
              "      <th>id</th>\n",
              "      <th>diagnosis</th>\n",
              "      <th>radius_mean</th>\n",
              "      <th>texture_mean</th>\n",
              "      <th>perimeter_mean</th>\n",
              "      <th>area_mean</th>\n",
              "      <th>smoothness_mean</th>\n",
              "      <th>compactness_mean</th>\n",
              "      <th>concavity_mean</th>\n",
              "      <th>concave points_mean</th>\n",
              "      <th>symmetry_mean</th>\n",
              "      <th>fractal_dimension_mean</th>\n",
              "      <th>radius_se</th>\n",
              "      <th>texture_se</th>\n",
              "      <th>perimeter_se</th>\n",
              "      <th>area_se</th>\n",
              "      <th>smoothness_se</th>\n",
              "      <th>compactness_se</th>\n",
              "      <th>concavity_se</th>\n",
              "      <th>concave points_se</th>\n",
              "      <th>symmetry_se</th>\n",
              "      <th>fractal_dimension_se</th>\n",
              "      <th>radius_worst</th>\n",
              "      <th>texture_worst</th>\n",
              "      <th>perimeter_worst</th>\n",
              "      <th>area_worst</th>\n",
              "      <th>smoothness_worst</th>\n",
              "      <th>compactness_worst</th>\n",
              "      <th>concavity_worst</th>\n",
              "      <th>concave points_worst</th>\n",
              "      <th>symmetry_worst</th>\n",
              "      <th>fractal_dimension_worst</th>\n",
              "      <th>Unnamed: 32</th>\n",
              "    </tr>\n",
              "  </thead>\n",
              "  <tbody>\n",
              "    <tr>\n",
              "      <th>0</th>\n",
              "      <td>842302</td>\n",
              "      <td>M</td>\n",
              "      <td>17.99</td>\n",
              "      <td>10.38</td>\n",
              "      <td>122.80</td>\n",
              "      <td>1001.0</td>\n",
              "      <td>0.11840</td>\n",
              "      <td>0.27760</td>\n",
              "      <td>0.3001</td>\n",
              "      <td>0.14710</td>\n",
              "      <td>0.2419</td>\n",
              "      <td>0.07871</td>\n",
              "      <td>1.0950</td>\n",
              "      <td>0.9053</td>\n",
              "      <td>8.589</td>\n",
              "      <td>153.40</td>\n",
              "      <td>0.006399</td>\n",
              "      <td>0.04904</td>\n",
              "      <td>0.05373</td>\n",
              "      <td>0.01587</td>\n",
              "      <td>0.03003</td>\n",
              "      <td>0.006193</td>\n",
              "      <td>25.38</td>\n",
              "      <td>17.33</td>\n",
              "      <td>184.60</td>\n",
              "      <td>2019.0</td>\n",
              "      <td>0.1622</td>\n",
              "      <td>0.6656</td>\n",
              "      <td>0.7119</td>\n",
              "      <td>0.2654</td>\n",
              "      <td>0.4601</td>\n",
              "      <td>0.11890</td>\n",
              "      <td>NaN</td>\n",
              "    </tr>\n",
              "    <tr>\n",
              "      <th>1</th>\n",
              "      <td>842517</td>\n",
              "      <td>M</td>\n",
              "      <td>20.57</td>\n",
              "      <td>17.77</td>\n",
              "      <td>132.90</td>\n",
              "      <td>1326.0</td>\n",
              "      <td>0.08474</td>\n",
              "      <td>0.07864</td>\n",
              "      <td>0.0869</td>\n",
              "      <td>0.07017</td>\n",
              "      <td>0.1812</td>\n",
              "      <td>0.05667</td>\n",
              "      <td>0.5435</td>\n",
              "      <td>0.7339</td>\n",
              "      <td>3.398</td>\n",
              "      <td>74.08</td>\n",
              "      <td>0.005225</td>\n",
              "      <td>0.01308</td>\n",
              "      <td>0.01860</td>\n",
              "      <td>0.01340</td>\n",
              "      <td>0.01389</td>\n",
              "      <td>0.003532</td>\n",
              "      <td>24.99</td>\n",
              "      <td>23.41</td>\n",
              "      <td>158.80</td>\n",
              "      <td>1956.0</td>\n",
              "      <td>0.1238</td>\n",
              "      <td>0.1866</td>\n",
              "      <td>0.2416</td>\n",
              "      <td>0.1860</td>\n",
              "      <td>0.2750</td>\n",
              "      <td>0.08902</td>\n",
              "      <td>NaN</td>\n",
              "    </tr>\n",
              "    <tr>\n",
              "      <th>2</th>\n",
              "      <td>84300903</td>\n",
              "      <td>M</td>\n",
              "      <td>19.69</td>\n",
              "      <td>21.25</td>\n",
              "      <td>130.00</td>\n",
              "      <td>1203.0</td>\n",
              "      <td>0.10960</td>\n",
              "      <td>0.15990</td>\n",
              "      <td>0.1974</td>\n",
              "      <td>0.12790</td>\n",
              "      <td>0.2069</td>\n",
              "      <td>0.05999</td>\n",
              "      <td>0.7456</td>\n",
              "      <td>0.7869</td>\n",
              "      <td>4.585</td>\n",
              "      <td>94.03</td>\n",
              "      <td>0.006150</td>\n",
              "      <td>0.04006</td>\n",
              "      <td>0.03832</td>\n",
              "      <td>0.02058</td>\n",
              "      <td>0.02250</td>\n",
              "      <td>0.004571</td>\n",
              "      <td>23.57</td>\n",
              "      <td>25.53</td>\n",
              "      <td>152.50</td>\n",
              "      <td>1709.0</td>\n",
              "      <td>0.1444</td>\n",
              "      <td>0.4245</td>\n",
              "      <td>0.4504</td>\n",
              "      <td>0.2430</td>\n",
              "      <td>0.3613</td>\n",
              "      <td>0.08758</td>\n",
              "      <td>NaN</td>\n",
              "    </tr>\n",
              "    <tr>\n",
              "      <th>3</th>\n",
              "      <td>84348301</td>\n",
              "      <td>M</td>\n",
              "      <td>11.42</td>\n",
              "      <td>20.38</td>\n",
              "      <td>77.58</td>\n",
              "      <td>386.1</td>\n",
              "      <td>0.14250</td>\n",
              "      <td>0.28390</td>\n",
              "      <td>0.2414</td>\n",
              "      <td>0.10520</td>\n",
              "      <td>0.2597</td>\n",
              "      <td>0.09744</td>\n",
              "      <td>0.4956</td>\n",
              "      <td>1.1560</td>\n",
              "      <td>3.445</td>\n",
              "      <td>27.23</td>\n",
              "      <td>0.009110</td>\n",
              "      <td>0.07458</td>\n",
              "      <td>0.05661</td>\n",
              "      <td>0.01867</td>\n",
              "      <td>0.05963</td>\n",
              "      <td>0.009208</td>\n",
              "      <td>14.91</td>\n",
              "      <td>26.50</td>\n",
              "      <td>98.87</td>\n",
              "      <td>567.7</td>\n",
              "      <td>0.2098</td>\n",
              "      <td>0.8663</td>\n",
              "      <td>0.6869</td>\n",
              "      <td>0.2575</td>\n",
              "      <td>0.6638</td>\n",
              "      <td>0.17300</td>\n",
              "      <td>NaN</td>\n",
              "    </tr>\n",
              "    <tr>\n",
              "      <th>4</th>\n",
              "      <td>84358402</td>\n",
              "      <td>M</td>\n",
              "      <td>20.29</td>\n",
              "      <td>14.34</td>\n",
              "      <td>135.10</td>\n",
              "      <td>1297.0</td>\n",
              "      <td>0.10030</td>\n",
              "      <td>0.13280</td>\n",
              "      <td>0.1980</td>\n",
              "      <td>0.10430</td>\n",
              "      <td>0.1809</td>\n",
              "      <td>0.05883</td>\n",
              "      <td>0.7572</td>\n",
              "      <td>0.7813</td>\n",
              "      <td>5.438</td>\n",
              "      <td>94.44</td>\n",
              "      <td>0.011490</td>\n",
              "      <td>0.02461</td>\n",
              "      <td>0.05688</td>\n",
              "      <td>0.01885</td>\n",
              "      <td>0.01756</td>\n",
              "      <td>0.005115</td>\n",
              "      <td>22.54</td>\n",
              "      <td>16.67</td>\n",
              "      <td>152.20</td>\n",
              "      <td>1575.0</td>\n",
              "      <td>0.1374</td>\n",
              "      <td>0.2050</td>\n",
              "      <td>0.4000</td>\n",
              "      <td>0.1625</td>\n",
              "      <td>0.2364</td>\n",
              "      <td>0.07678</td>\n",
              "      <td>NaN</td>\n",
              "    </tr>\n",
              "  </tbody>\n",
              "</table>\n",
              "</div>"
            ],
            "text/plain": [
              "         id diagnosis  ...  fractal_dimension_worst  Unnamed: 32\n",
              "0    842302         M  ...                  0.11890          NaN\n",
              "1    842517         M  ...                  0.08902          NaN\n",
              "2  84300903         M  ...                  0.08758          NaN\n",
              "3  84348301         M  ...                  0.17300          NaN\n",
              "4  84358402         M  ...                  0.07678          NaN\n",
              "\n",
              "[5 rows x 33 columns]"
            ]
          },
          "metadata": {
            "tags": []
          },
          "execution_count": 3
        }
      ]
    },
    {
      "cell_type": "code",
      "metadata": {
        "colab": {
          "base_uri": "https://localhost:8080/"
        },
        "id": "ignored-surname",
        "outputId": "0f6e4c4d-82ca-4b74-ce6e-497a64ff53e3"
      },
      "source": [
        "# get basic info of data\n",
        "data.info()"
      ],
      "id": "ignored-surname",
      "execution_count": null,
      "outputs": [
        {
          "output_type": "stream",
          "text": [
            "<class 'pandas.core.frame.DataFrame'>\n",
            "RangeIndex: 569 entries, 0 to 568\n",
            "Data columns (total 33 columns):\n",
            " #   Column                   Non-Null Count  Dtype  \n",
            "---  ------                   --------------  -----  \n",
            " 0   id                       569 non-null    int64  \n",
            " 1   diagnosis                569 non-null    object \n",
            " 2   radius_mean              569 non-null    float64\n",
            " 3   texture_mean             569 non-null    float64\n",
            " 4   perimeter_mean           569 non-null    float64\n",
            " 5   area_mean                569 non-null    float64\n",
            " 6   smoothness_mean          569 non-null    float64\n",
            " 7   compactness_mean         569 non-null    float64\n",
            " 8   concavity_mean           569 non-null    float64\n",
            " 9   concave points_mean      569 non-null    float64\n",
            " 10  symmetry_mean            569 non-null    float64\n",
            " 11  fractal_dimension_mean   569 non-null    float64\n",
            " 12  radius_se                569 non-null    float64\n",
            " 13  texture_se               569 non-null    float64\n",
            " 14  perimeter_se             569 non-null    float64\n",
            " 15  area_se                  569 non-null    float64\n",
            " 16  smoothness_se            569 non-null    float64\n",
            " 17  compactness_se           569 non-null    float64\n",
            " 18  concavity_se             569 non-null    float64\n",
            " 19  concave points_se        569 non-null    float64\n",
            " 20  symmetry_se              569 non-null    float64\n",
            " 21  fractal_dimension_se     569 non-null    float64\n",
            " 22  radius_worst             569 non-null    float64\n",
            " 23  texture_worst            569 non-null    float64\n",
            " 24  perimeter_worst          569 non-null    float64\n",
            " 25  area_worst               569 non-null    float64\n",
            " 26  smoothness_worst         569 non-null    float64\n",
            " 27  compactness_worst        569 non-null    float64\n",
            " 28  concavity_worst          569 non-null    float64\n",
            " 29  concave points_worst     569 non-null    float64\n",
            " 30  symmetry_worst           569 non-null    float64\n",
            " 31  fractal_dimension_worst  569 non-null    float64\n",
            " 32  Unnamed: 32              0 non-null      float64\n",
            "dtypes: float64(31), int64(1), object(1)\n",
            "memory usage: 146.8+ KB\n"
          ],
          "name": "stdout"
        }
      ]
    },
    {
      "cell_type": "code",
      "metadata": {
        "colab": {
          "base_uri": "https://localhost:8080/"
        },
        "id": "center-identification",
        "outputId": "e9fd94b9-46d0-4b6a-8142-01a87bf5016d"
      },
      "source": [
        "# check missing values in data\n",
        "data.isnull().sum()"
      ],
      "id": "center-identification",
      "execution_count": null,
      "outputs": [
        {
          "output_type": "execute_result",
          "data": {
            "text/plain": [
              "id                           0\n",
              "diagnosis                    0\n",
              "radius_mean                  0\n",
              "texture_mean                 0\n",
              "perimeter_mean               0\n",
              "area_mean                    0\n",
              "smoothness_mean              0\n",
              "compactness_mean             0\n",
              "concavity_mean               0\n",
              "concave points_mean          0\n",
              "symmetry_mean                0\n",
              "fractal_dimension_mean       0\n",
              "radius_se                    0\n",
              "texture_se                   0\n",
              "perimeter_se                 0\n",
              "area_se                      0\n",
              "smoothness_se                0\n",
              "compactness_se               0\n",
              "concavity_se                 0\n",
              "concave points_se            0\n",
              "symmetry_se                  0\n",
              "fractal_dimension_se         0\n",
              "radius_worst                 0\n",
              "texture_worst                0\n",
              "perimeter_worst              0\n",
              "area_worst                   0\n",
              "smoothness_worst             0\n",
              "compactness_worst            0\n",
              "concavity_worst              0\n",
              "concave points_worst         0\n",
              "symmetry_worst               0\n",
              "fractal_dimension_worst      0\n",
              "Unnamed: 32                569\n",
              "dtype: int64"
            ]
          },
          "metadata": {
            "tags": []
          },
          "execution_count": 5
        }
      ]
    },
    {
      "cell_type": "code",
      "metadata": {
        "id": "annoying-burton"
      },
      "source": [
        "#remove Column Unnamed: 32 it consist of all missing values rest of the columns have no missing value.\n",
        "data.drop(columns=[\"Unnamed: 32\"], inplace=True)"
      ],
      "id": "annoying-burton",
      "execution_count": null,
      "outputs": []
    },
    {
      "cell_type": "code",
      "metadata": {
        "id": "sensitive-google"
      },
      "source": [
        "# set index to ID \n",
        "data.set_index(\"id\", inplace=True)"
      ],
      "id": "sensitive-google",
      "execution_count": null,
      "outputs": []
    },
    {
      "cell_type": "code",
      "metadata": {
        "scrolled": true,
        "colab": {
          "base_uri": "https://localhost:8080/"
        },
        "id": "classified-showcase",
        "outputId": "335db184-18c1-4b36-e211-5bf26b7100d7"
      },
      "source": [
        "#Most of the columns are Numerical and only one categorical columns \"diagnosis\"\n",
        "data.diagnosis.value_counts()"
      ],
      "id": "classified-showcase",
      "execution_count": null,
      "outputs": [
        {
          "output_type": "execute_result",
          "data": {
            "text/plain": [
              "B    357\n",
              "M    212\n",
              "Name: diagnosis, dtype: int64"
            ]
          },
          "metadata": {
            "tags": []
          },
          "execution_count": 8
        }
      ]
    },
    {
      "cell_type": "code",
      "metadata": {
        "colab": {
          "base_uri": "https://localhost:8080/",
          "height": 338
        },
        "id": "waiting-rochester",
        "outputId": "9e640223-4ef3-4d30-f71f-883fe5dbf9e3"
      },
      "source": [
        "data.describe()"
      ],
      "id": "waiting-rochester",
      "execution_count": null,
      "outputs": [
        {
          "output_type": "execute_result",
          "data": {
            "text/html": [
              "<div>\n",
              "<style scoped>\n",
              "    .dataframe tbody tr th:only-of-type {\n",
              "        vertical-align: middle;\n",
              "    }\n",
              "\n",
              "    .dataframe tbody tr th {\n",
              "        vertical-align: top;\n",
              "    }\n",
              "\n",
              "    .dataframe thead th {\n",
              "        text-align: right;\n",
              "    }\n",
              "</style>\n",
              "<table border=\"1\" class=\"dataframe\">\n",
              "  <thead>\n",
              "    <tr style=\"text-align: right;\">\n",
              "      <th></th>\n",
              "      <th>radius_mean</th>\n",
              "      <th>texture_mean</th>\n",
              "      <th>perimeter_mean</th>\n",
              "      <th>area_mean</th>\n",
              "      <th>smoothness_mean</th>\n",
              "      <th>compactness_mean</th>\n",
              "      <th>concavity_mean</th>\n",
              "      <th>concave points_mean</th>\n",
              "      <th>symmetry_mean</th>\n",
              "      <th>fractal_dimension_mean</th>\n",
              "      <th>radius_se</th>\n",
              "      <th>texture_se</th>\n",
              "      <th>perimeter_se</th>\n",
              "      <th>area_se</th>\n",
              "      <th>smoothness_se</th>\n",
              "      <th>compactness_se</th>\n",
              "      <th>concavity_se</th>\n",
              "      <th>concave points_se</th>\n",
              "      <th>symmetry_se</th>\n",
              "      <th>fractal_dimension_se</th>\n",
              "      <th>radius_worst</th>\n",
              "      <th>texture_worst</th>\n",
              "      <th>perimeter_worst</th>\n",
              "      <th>area_worst</th>\n",
              "      <th>smoothness_worst</th>\n",
              "      <th>compactness_worst</th>\n",
              "      <th>concavity_worst</th>\n",
              "      <th>concave points_worst</th>\n",
              "      <th>symmetry_worst</th>\n",
              "      <th>fractal_dimension_worst</th>\n",
              "    </tr>\n",
              "  </thead>\n",
              "  <tbody>\n",
              "    <tr>\n",
              "      <th>count</th>\n",
              "      <td>569.000000</td>\n",
              "      <td>569.000000</td>\n",
              "      <td>569.000000</td>\n",
              "      <td>569.000000</td>\n",
              "      <td>569.000000</td>\n",
              "      <td>569.000000</td>\n",
              "      <td>569.000000</td>\n",
              "      <td>569.000000</td>\n",
              "      <td>569.000000</td>\n",
              "      <td>569.000000</td>\n",
              "      <td>569.000000</td>\n",
              "      <td>569.000000</td>\n",
              "      <td>569.000000</td>\n",
              "      <td>569.000000</td>\n",
              "      <td>569.000000</td>\n",
              "      <td>569.000000</td>\n",
              "      <td>569.000000</td>\n",
              "      <td>569.000000</td>\n",
              "      <td>569.000000</td>\n",
              "      <td>569.000000</td>\n",
              "      <td>569.000000</td>\n",
              "      <td>569.000000</td>\n",
              "      <td>569.000000</td>\n",
              "      <td>569.000000</td>\n",
              "      <td>569.000000</td>\n",
              "      <td>569.000000</td>\n",
              "      <td>569.000000</td>\n",
              "      <td>569.000000</td>\n",
              "      <td>569.000000</td>\n",
              "      <td>569.000000</td>\n",
              "    </tr>\n",
              "    <tr>\n",
              "      <th>mean</th>\n",
              "      <td>14.127292</td>\n",
              "      <td>19.289649</td>\n",
              "      <td>91.969033</td>\n",
              "      <td>654.889104</td>\n",
              "      <td>0.096360</td>\n",
              "      <td>0.104341</td>\n",
              "      <td>0.088799</td>\n",
              "      <td>0.048919</td>\n",
              "      <td>0.181162</td>\n",
              "      <td>0.062798</td>\n",
              "      <td>0.405172</td>\n",
              "      <td>1.216853</td>\n",
              "      <td>2.866059</td>\n",
              "      <td>40.337079</td>\n",
              "      <td>0.007041</td>\n",
              "      <td>0.025478</td>\n",
              "      <td>0.031894</td>\n",
              "      <td>0.011796</td>\n",
              "      <td>0.020542</td>\n",
              "      <td>0.003795</td>\n",
              "      <td>16.269190</td>\n",
              "      <td>25.677223</td>\n",
              "      <td>107.261213</td>\n",
              "      <td>880.583128</td>\n",
              "      <td>0.132369</td>\n",
              "      <td>0.254265</td>\n",
              "      <td>0.272188</td>\n",
              "      <td>0.114606</td>\n",
              "      <td>0.290076</td>\n",
              "      <td>0.083946</td>\n",
              "    </tr>\n",
              "    <tr>\n",
              "      <th>std</th>\n",
              "      <td>3.524049</td>\n",
              "      <td>4.301036</td>\n",
              "      <td>24.298981</td>\n",
              "      <td>351.914129</td>\n",
              "      <td>0.014064</td>\n",
              "      <td>0.052813</td>\n",
              "      <td>0.079720</td>\n",
              "      <td>0.038803</td>\n",
              "      <td>0.027414</td>\n",
              "      <td>0.007060</td>\n",
              "      <td>0.277313</td>\n",
              "      <td>0.551648</td>\n",
              "      <td>2.021855</td>\n",
              "      <td>45.491006</td>\n",
              "      <td>0.003003</td>\n",
              "      <td>0.017908</td>\n",
              "      <td>0.030186</td>\n",
              "      <td>0.006170</td>\n",
              "      <td>0.008266</td>\n",
              "      <td>0.002646</td>\n",
              "      <td>4.833242</td>\n",
              "      <td>6.146258</td>\n",
              "      <td>33.602542</td>\n",
              "      <td>569.356993</td>\n",
              "      <td>0.022832</td>\n",
              "      <td>0.157336</td>\n",
              "      <td>0.208624</td>\n",
              "      <td>0.065732</td>\n",
              "      <td>0.061867</td>\n",
              "      <td>0.018061</td>\n",
              "    </tr>\n",
              "    <tr>\n",
              "      <th>min</th>\n",
              "      <td>6.981000</td>\n",
              "      <td>9.710000</td>\n",
              "      <td>43.790000</td>\n",
              "      <td>143.500000</td>\n",
              "      <td>0.052630</td>\n",
              "      <td>0.019380</td>\n",
              "      <td>0.000000</td>\n",
              "      <td>0.000000</td>\n",
              "      <td>0.106000</td>\n",
              "      <td>0.049960</td>\n",
              "      <td>0.111500</td>\n",
              "      <td>0.360200</td>\n",
              "      <td>0.757000</td>\n",
              "      <td>6.802000</td>\n",
              "      <td>0.001713</td>\n",
              "      <td>0.002252</td>\n",
              "      <td>0.000000</td>\n",
              "      <td>0.000000</td>\n",
              "      <td>0.007882</td>\n",
              "      <td>0.000895</td>\n",
              "      <td>7.930000</td>\n",
              "      <td>12.020000</td>\n",
              "      <td>50.410000</td>\n",
              "      <td>185.200000</td>\n",
              "      <td>0.071170</td>\n",
              "      <td>0.027290</td>\n",
              "      <td>0.000000</td>\n",
              "      <td>0.000000</td>\n",
              "      <td>0.156500</td>\n",
              "      <td>0.055040</td>\n",
              "    </tr>\n",
              "    <tr>\n",
              "      <th>25%</th>\n",
              "      <td>11.700000</td>\n",
              "      <td>16.170000</td>\n",
              "      <td>75.170000</td>\n",
              "      <td>420.300000</td>\n",
              "      <td>0.086370</td>\n",
              "      <td>0.064920</td>\n",
              "      <td>0.029560</td>\n",
              "      <td>0.020310</td>\n",
              "      <td>0.161900</td>\n",
              "      <td>0.057700</td>\n",
              "      <td>0.232400</td>\n",
              "      <td>0.833900</td>\n",
              "      <td>1.606000</td>\n",
              "      <td>17.850000</td>\n",
              "      <td>0.005169</td>\n",
              "      <td>0.013080</td>\n",
              "      <td>0.015090</td>\n",
              "      <td>0.007638</td>\n",
              "      <td>0.015160</td>\n",
              "      <td>0.002248</td>\n",
              "      <td>13.010000</td>\n",
              "      <td>21.080000</td>\n",
              "      <td>84.110000</td>\n",
              "      <td>515.300000</td>\n",
              "      <td>0.116600</td>\n",
              "      <td>0.147200</td>\n",
              "      <td>0.114500</td>\n",
              "      <td>0.064930</td>\n",
              "      <td>0.250400</td>\n",
              "      <td>0.071460</td>\n",
              "    </tr>\n",
              "    <tr>\n",
              "      <th>50%</th>\n",
              "      <td>13.370000</td>\n",
              "      <td>18.840000</td>\n",
              "      <td>86.240000</td>\n",
              "      <td>551.100000</td>\n",
              "      <td>0.095870</td>\n",
              "      <td>0.092630</td>\n",
              "      <td>0.061540</td>\n",
              "      <td>0.033500</td>\n",
              "      <td>0.179200</td>\n",
              "      <td>0.061540</td>\n",
              "      <td>0.324200</td>\n",
              "      <td>1.108000</td>\n",
              "      <td>2.287000</td>\n",
              "      <td>24.530000</td>\n",
              "      <td>0.006380</td>\n",
              "      <td>0.020450</td>\n",
              "      <td>0.025890</td>\n",
              "      <td>0.010930</td>\n",
              "      <td>0.018730</td>\n",
              "      <td>0.003187</td>\n",
              "      <td>14.970000</td>\n",
              "      <td>25.410000</td>\n",
              "      <td>97.660000</td>\n",
              "      <td>686.500000</td>\n",
              "      <td>0.131300</td>\n",
              "      <td>0.211900</td>\n",
              "      <td>0.226700</td>\n",
              "      <td>0.099930</td>\n",
              "      <td>0.282200</td>\n",
              "      <td>0.080040</td>\n",
              "    </tr>\n",
              "    <tr>\n",
              "      <th>75%</th>\n",
              "      <td>15.780000</td>\n",
              "      <td>21.800000</td>\n",
              "      <td>104.100000</td>\n",
              "      <td>782.700000</td>\n",
              "      <td>0.105300</td>\n",
              "      <td>0.130400</td>\n",
              "      <td>0.130700</td>\n",
              "      <td>0.074000</td>\n",
              "      <td>0.195700</td>\n",
              "      <td>0.066120</td>\n",
              "      <td>0.478900</td>\n",
              "      <td>1.474000</td>\n",
              "      <td>3.357000</td>\n",
              "      <td>45.190000</td>\n",
              "      <td>0.008146</td>\n",
              "      <td>0.032450</td>\n",
              "      <td>0.042050</td>\n",
              "      <td>0.014710</td>\n",
              "      <td>0.023480</td>\n",
              "      <td>0.004558</td>\n",
              "      <td>18.790000</td>\n",
              "      <td>29.720000</td>\n",
              "      <td>125.400000</td>\n",
              "      <td>1084.000000</td>\n",
              "      <td>0.146000</td>\n",
              "      <td>0.339100</td>\n",
              "      <td>0.382900</td>\n",
              "      <td>0.161400</td>\n",
              "      <td>0.317900</td>\n",
              "      <td>0.092080</td>\n",
              "    </tr>\n",
              "    <tr>\n",
              "      <th>max</th>\n",
              "      <td>28.110000</td>\n",
              "      <td>39.280000</td>\n",
              "      <td>188.500000</td>\n",
              "      <td>2501.000000</td>\n",
              "      <td>0.163400</td>\n",
              "      <td>0.345400</td>\n",
              "      <td>0.426800</td>\n",
              "      <td>0.201200</td>\n",
              "      <td>0.304000</td>\n",
              "      <td>0.097440</td>\n",
              "      <td>2.873000</td>\n",
              "      <td>4.885000</td>\n",
              "      <td>21.980000</td>\n",
              "      <td>542.200000</td>\n",
              "      <td>0.031130</td>\n",
              "      <td>0.135400</td>\n",
              "      <td>0.396000</td>\n",
              "      <td>0.052790</td>\n",
              "      <td>0.078950</td>\n",
              "      <td>0.029840</td>\n",
              "      <td>36.040000</td>\n",
              "      <td>49.540000</td>\n",
              "      <td>251.200000</td>\n",
              "      <td>4254.000000</td>\n",
              "      <td>0.222600</td>\n",
              "      <td>1.058000</td>\n",
              "      <td>1.252000</td>\n",
              "      <td>0.291000</td>\n",
              "      <td>0.663800</td>\n",
              "      <td>0.207500</td>\n",
              "    </tr>\n",
              "  </tbody>\n",
              "</table>\n",
              "</div>"
            ],
            "text/plain": [
              "       radius_mean  texture_mean  ...  symmetry_worst  fractal_dimension_worst\n",
              "count   569.000000    569.000000  ...      569.000000               569.000000\n",
              "mean     14.127292     19.289649  ...        0.290076                 0.083946\n",
              "std       3.524049      4.301036  ...        0.061867                 0.018061\n",
              "min       6.981000      9.710000  ...        0.156500                 0.055040\n",
              "25%      11.700000     16.170000  ...        0.250400                 0.071460\n",
              "50%      13.370000     18.840000  ...        0.282200                 0.080040\n",
              "75%      15.780000     21.800000  ...        0.317900                 0.092080\n",
              "max      28.110000     39.280000  ...        0.663800                 0.207500\n",
              "\n",
              "[8 rows x 30 columns]"
            ]
          },
          "metadata": {
            "tags": []
          },
          "execution_count": 9
        }
      ]
    },
    {
      "cell_type": "code",
      "metadata": {
        "id": "5uWrcPOzXFzB"
      },
      "source": [
        "from sklearn.preprocessing import LabelEncoder\n",
        "label_encoder=LabelEncoder()"
      ],
      "id": "5uWrcPOzXFzB",
      "execution_count": null,
      "outputs": []
    },
    {
      "cell_type": "code",
      "metadata": {
        "id": "DGO-iDaoXF_Z"
      },
      "source": [
        "#diagnosis\n",
        "data[\"diagnosis\"]=label_encoder.fit_transform(data[\"diagnosis\"])"
      ],
      "id": "DGO-iDaoXF_Z",
      "execution_count": null,
      "outputs": []
    },
    {
      "cell_type": "code",
      "metadata": {
        "colab": {
          "base_uri": "https://localhost:8080/",
          "height": 275
        },
        "id": "wO8nqzXgYOgr",
        "outputId": "4d698c6b-472d-4ec8-d2b6-8bd1e0527356"
      },
      "source": [
        "x=data.iloc[:,1:]\n",
        "x.head()"
      ],
      "id": "wO8nqzXgYOgr",
      "execution_count": null,
      "outputs": [
        {
          "output_type": "execute_result",
          "data": {
            "text/html": [
              "<div>\n",
              "<style scoped>\n",
              "    .dataframe tbody tr th:only-of-type {\n",
              "        vertical-align: middle;\n",
              "    }\n",
              "\n",
              "    .dataframe tbody tr th {\n",
              "        vertical-align: top;\n",
              "    }\n",
              "\n",
              "    .dataframe thead th {\n",
              "        text-align: right;\n",
              "    }\n",
              "</style>\n",
              "<table border=\"1\" class=\"dataframe\">\n",
              "  <thead>\n",
              "    <tr style=\"text-align: right;\">\n",
              "      <th></th>\n",
              "      <th>radius_mean</th>\n",
              "      <th>texture_mean</th>\n",
              "      <th>perimeter_mean</th>\n",
              "      <th>area_mean</th>\n",
              "      <th>smoothness_mean</th>\n",
              "      <th>compactness_mean</th>\n",
              "      <th>concavity_mean</th>\n",
              "      <th>concave points_mean</th>\n",
              "      <th>symmetry_mean</th>\n",
              "      <th>fractal_dimension_mean</th>\n",
              "      <th>radius_se</th>\n",
              "      <th>texture_se</th>\n",
              "      <th>perimeter_se</th>\n",
              "      <th>area_se</th>\n",
              "      <th>smoothness_se</th>\n",
              "      <th>compactness_se</th>\n",
              "      <th>concavity_se</th>\n",
              "      <th>concave points_se</th>\n",
              "      <th>symmetry_se</th>\n",
              "      <th>fractal_dimension_se</th>\n",
              "      <th>radius_worst</th>\n",
              "      <th>texture_worst</th>\n",
              "      <th>perimeter_worst</th>\n",
              "      <th>area_worst</th>\n",
              "      <th>smoothness_worst</th>\n",
              "      <th>compactness_worst</th>\n",
              "      <th>concavity_worst</th>\n",
              "      <th>concave points_worst</th>\n",
              "      <th>symmetry_worst</th>\n",
              "      <th>fractal_dimension_worst</th>\n",
              "    </tr>\n",
              "    <tr>\n",
              "      <th>id</th>\n",
              "      <th></th>\n",
              "      <th></th>\n",
              "      <th></th>\n",
              "      <th></th>\n",
              "      <th></th>\n",
              "      <th></th>\n",
              "      <th></th>\n",
              "      <th></th>\n",
              "      <th></th>\n",
              "      <th></th>\n",
              "      <th></th>\n",
              "      <th></th>\n",
              "      <th></th>\n",
              "      <th></th>\n",
              "      <th></th>\n",
              "      <th></th>\n",
              "      <th></th>\n",
              "      <th></th>\n",
              "      <th></th>\n",
              "      <th></th>\n",
              "      <th></th>\n",
              "      <th></th>\n",
              "      <th></th>\n",
              "      <th></th>\n",
              "      <th></th>\n",
              "      <th></th>\n",
              "      <th></th>\n",
              "      <th></th>\n",
              "      <th></th>\n",
              "      <th></th>\n",
              "    </tr>\n",
              "  </thead>\n",
              "  <tbody>\n",
              "    <tr>\n",
              "      <th>842302</th>\n",
              "      <td>17.99</td>\n",
              "      <td>10.38</td>\n",
              "      <td>122.80</td>\n",
              "      <td>1001.0</td>\n",
              "      <td>0.11840</td>\n",
              "      <td>0.27760</td>\n",
              "      <td>0.3001</td>\n",
              "      <td>0.14710</td>\n",
              "      <td>0.2419</td>\n",
              "      <td>0.07871</td>\n",
              "      <td>1.0950</td>\n",
              "      <td>0.9053</td>\n",
              "      <td>8.589</td>\n",
              "      <td>153.40</td>\n",
              "      <td>0.006399</td>\n",
              "      <td>0.04904</td>\n",
              "      <td>0.05373</td>\n",
              "      <td>0.01587</td>\n",
              "      <td>0.03003</td>\n",
              "      <td>0.006193</td>\n",
              "      <td>25.38</td>\n",
              "      <td>17.33</td>\n",
              "      <td>184.60</td>\n",
              "      <td>2019.0</td>\n",
              "      <td>0.1622</td>\n",
              "      <td>0.6656</td>\n",
              "      <td>0.7119</td>\n",
              "      <td>0.2654</td>\n",
              "      <td>0.4601</td>\n",
              "      <td>0.11890</td>\n",
              "    </tr>\n",
              "    <tr>\n",
              "      <th>842517</th>\n",
              "      <td>20.57</td>\n",
              "      <td>17.77</td>\n",
              "      <td>132.90</td>\n",
              "      <td>1326.0</td>\n",
              "      <td>0.08474</td>\n",
              "      <td>0.07864</td>\n",
              "      <td>0.0869</td>\n",
              "      <td>0.07017</td>\n",
              "      <td>0.1812</td>\n",
              "      <td>0.05667</td>\n",
              "      <td>0.5435</td>\n",
              "      <td>0.7339</td>\n",
              "      <td>3.398</td>\n",
              "      <td>74.08</td>\n",
              "      <td>0.005225</td>\n",
              "      <td>0.01308</td>\n",
              "      <td>0.01860</td>\n",
              "      <td>0.01340</td>\n",
              "      <td>0.01389</td>\n",
              "      <td>0.003532</td>\n",
              "      <td>24.99</td>\n",
              "      <td>23.41</td>\n",
              "      <td>158.80</td>\n",
              "      <td>1956.0</td>\n",
              "      <td>0.1238</td>\n",
              "      <td>0.1866</td>\n",
              "      <td>0.2416</td>\n",
              "      <td>0.1860</td>\n",
              "      <td>0.2750</td>\n",
              "      <td>0.08902</td>\n",
              "    </tr>\n",
              "    <tr>\n",
              "      <th>84300903</th>\n",
              "      <td>19.69</td>\n",
              "      <td>21.25</td>\n",
              "      <td>130.00</td>\n",
              "      <td>1203.0</td>\n",
              "      <td>0.10960</td>\n",
              "      <td>0.15990</td>\n",
              "      <td>0.1974</td>\n",
              "      <td>0.12790</td>\n",
              "      <td>0.2069</td>\n",
              "      <td>0.05999</td>\n",
              "      <td>0.7456</td>\n",
              "      <td>0.7869</td>\n",
              "      <td>4.585</td>\n",
              "      <td>94.03</td>\n",
              "      <td>0.006150</td>\n",
              "      <td>0.04006</td>\n",
              "      <td>0.03832</td>\n",
              "      <td>0.02058</td>\n",
              "      <td>0.02250</td>\n",
              "      <td>0.004571</td>\n",
              "      <td>23.57</td>\n",
              "      <td>25.53</td>\n",
              "      <td>152.50</td>\n",
              "      <td>1709.0</td>\n",
              "      <td>0.1444</td>\n",
              "      <td>0.4245</td>\n",
              "      <td>0.4504</td>\n",
              "      <td>0.2430</td>\n",
              "      <td>0.3613</td>\n",
              "      <td>0.08758</td>\n",
              "    </tr>\n",
              "    <tr>\n",
              "      <th>84348301</th>\n",
              "      <td>11.42</td>\n",
              "      <td>20.38</td>\n",
              "      <td>77.58</td>\n",
              "      <td>386.1</td>\n",
              "      <td>0.14250</td>\n",
              "      <td>0.28390</td>\n",
              "      <td>0.2414</td>\n",
              "      <td>0.10520</td>\n",
              "      <td>0.2597</td>\n",
              "      <td>0.09744</td>\n",
              "      <td>0.4956</td>\n",
              "      <td>1.1560</td>\n",
              "      <td>3.445</td>\n",
              "      <td>27.23</td>\n",
              "      <td>0.009110</td>\n",
              "      <td>0.07458</td>\n",
              "      <td>0.05661</td>\n",
              "      <td>0.01867</td>\n",
              "      <td>0.05963</td>\n",
              "      <td>0.009208</td>\n",
              "      <td>14.91</td>\n",
              "      <td>26.50</td>\n",
              "      <td>98.87</td>\n",
              "      <td>567.7</td>\n",
              "      <td>0.2098</td>\n",
              "      <td>0.8663</td>\n",
              "      <td>0.6869</td>\n",
              "      <td>0.2575</td>\n",
              "      <td>0.6638</td>\n",
              "      <td>0.17300</td>\n",
              "    </tr>\n",
              "    <tr>\n",
              "      <th>84358402</th>\n",
              "      <td>20.29</td>\n",
              "      <td>14.34</td>\n",
              "      <td>135.10</td>\n",
              "      <td>1297.0</td>\n",
              "      <td>0.10030</td>\n",
              "      <td>0.13280</td>\n",
              "      <td>0.1980</td>\n",
              "      <td>0.10430</td>\n",
              "      <td>0.1809</td>\n",
              "      <td>0.05883</td>\n",
              "      <td>0.7572</td>\n",
              "      <td>0.7813</td>\n",
              "      <td>5.438</td>\n",
              "      <td>94.44</td>\n",
              "      <td>0.011490</td>\n",
              "      <td>0.02461</td>\n",
              "      <td>0.05688</td>\n",
              "      <td>0.01885</td>\n",
              "      <td>0.01756</td>\n",
              "      <td>0.005115</td>\n",
              "      <td>22.54</td>\n",
              "      <td>16.67</td>\n",
              "      <td>152.20</td>\n",
              "      <td>1575.0</td>\n",
              "      <td>0.1374</td>\n",
              "      <td>0.2050</td>\n",
              "      <td>0.4000</td>\n",
              "      <td>0.1625</td>\n",
              "      <td>0.2364</td>\n",
              "      <td>0.07678</td>\n",
              "    </tr>\n",
              "  </tbody>\n",
              "</table>\n",
              "</div>"
            ],
            "text/plain": [
              "          radius_mean  texture_mean  ...  symmetry_worst  fractal_dimension_worst\n",
              "id                                   ...                                         \n",
              "842302          17.99         10.38  ...          0.4601                  0.11890\n",
              "842517          20.57         17.77  ...          0.2750                  0.08902\n",
              "84300903        19.69         21.25  ...          0.3613                  0.08758\n",
              "84348301        11.42         20.38  ...          0.6638                  0.17300\n",
              "84358402        20.29         14.34  ...          0.2364                  0.07678\n",
              "\n",
              "[5 rows x 30 columns]"
            ]
          },
          "metadata": {
            "tags": []
          },
          "execution_count": 12
        }
      ]
    },
    {
      "cell_type": "code",
      "metadata": {
        "colab": {
          "base_uri": "https://localhost:8080/"
        },
        "id": "ybLkQJvZO0Lq",
        "outputId": "37a4f274-1eff-4f88-fc25-2503b60c32d9"
      },
      "source": [
        "x.shape"
      ],
      "id": "ybLkQJvZO0Lq",
      "execution_count": null,
      "outputs": [
        {
          "output_type": "execute_result",
          "data": {
            "text/plain": [
              "(569, 30)"
            ]
          },
          "metadata": {
            "tags": []
          },
          "execution_count": 13
        }
      ]
    },
    {
      "cell_type": "code",
      "metadata": {
        "colab": {
          "base_uri": "https://localhost:8080/"
        },
        "id": "VJBbOiNUYOkn",
        "outputId": "e5d23a93-9799-4a03-d4b8-4a8cac93d8ca"
      },
      "source": [
        "y= data.iloc[:,0]\n",
        "y.head()"
      ],
      "id": "VJBbOiNUYOkn",
      "execution_count": null,
      "outputs": [
        {
          "output_type": "execute_result",
          "data": {
            "text/plain": [
              "id\n",
              "842302      1\n",
              "842517      1\n",
              "84300903    1\n",
              "84348301    1\n",
              "84358402    1\n",
              "Name: diagnosis, dtype: int64"
            ]
          },
          "metadata": {
            "tags": []
          },
          "execution_count": 14
        }
      ]
    },
    {
      "cell_type": "markdown",
      "metadata": {
        "id": "mEzIVJvm0XpW"
      },
      "source": [
        "Feature Selection using RandomForestClassifier"
      ],
      "id": "mEzIVJvm0XpW"
    },
    {
      "cell_type": "code",
      "metadata": {
        "id": "0uKqg4jw_TJN"
      },
      "source": [
        "# lets select important features first using Random Forset classifier.\n",
        "from sklearn.ensemble import RandomForestClassifier\n",
        "rf_model= RandomForestClassifier(n_estimators=100)"
      ],
      "id": "0uKqg4jw_TJN",
      "execution_count": null,
      "outputs": []
    },
    {
      "cell_type": "code",
      "metadata": {
        "id": "-595KUbC_TUE"
      },
      "source": [
        "#now fit the model\n",
        "rf_model.fit(x,y)\n",
        "\n",
        "#now get important features\n",
        "important_feature= rf_model.feature_importances_"
      ],
      "id": "-595KUbC_TUE",
      "execution_count": null,
      "outputs": []
    },
    {
      "cell_type": "code",
      "metadata": {
        "id": "p_zjj0Ny_TY7"
      },
      "source": [
        "# now lets visualize the important features\n",
        "df=pd.DataFrame({\"Features\":pd.DataFrame(x).columns,\"Importance\":important_feature})\n",
        "df.set_index(\"Importance\")\n",
        "\n",
        "#sort the features in Ascending order \n",
        "df=df.sort_values(\"Importance\", ascending=False) "
      ],
      "id": "p_zjj0Ny_TY7",
      "execution_count": null,
      "outputs": []
    },
    {
      "cell_type": "code",
      "metadata": {
        "colab": {
          "base_uri": "https://localhost:8080/"
        },
        "id": "fo1Dw-rFLo-d",
        "outputId": "0aa71ba0-8152-4722-a2ab-6abca1b79017"
      },
      "source": [
        "# Top 12 Important feature names\n",
        "imp_feature=list(df.Features.iloc[0:12])\n",
        "imp_feature"
      ],
      "id": "fo1Dw-rFLo-d",
      "execution_count": null,
      "outputs": [
        {
          "output_type": "execute_result",
          "data": {
            "text/plain": [
              "['area_worst',\n",
              " 'radius_worst',\n",
              " 'perimeter_worst',\n",
              " 'concave points_worst',\n",
              " 'concave points_mean',\n",
              " 'perimeter_mean',\n",
              " 'concavity_worst',\n",
              " 'area_se',\n",
              " 'concavity_mean',\n",
              " 'area_mean',\n",
              " 'radius_mean',\n",
              " 'perimeter_se']"
            ]
          },
          "metadata": {
            "tags": []
          },
          "execution_count": 18
        }
      ]
    },
    {
      "cell_type": "code",
      "metadata": {
        "colab": {
          "base_uri": "https://localhost:8080/",
          "height": 426
        },
        "id": "wJawSDAUKWeL",
        "outputId": "40ca10b0-67a0-4024-a666-29c11812abcd"
      },
      "source": [
        "df.head(12)"
      ],
      "id": "wJawSDAUKWeL",
      "execution_count": null,
      "outputs": [
        {
          "output_type": "execute_result",
          "data": {
            "text/html": [
              "<div>\n",
              "<style scoped>\n",
              "    .dataframe tbody tr th:only-of-type {\n",
              "        vertical-align: middle;\n",
              "    }\n",
              "\n",
              "    .dataframe tbody tr th {\n",
              "        vertical-align: top;\n",
              "    }\n",
              "\n",
              "    .dataframe thead th {\n",
              "        text-align: right;\n",
              "    }\n",
              "</style>\n",
              "<table border=\"1\" class=\"dataframe\">\n",
              "  <thead>\n",
              "    <tr style=\"text-align: right;\">\n",
              "      <th></th>\n",
              "      <th>Features</th>\n",
              "      <th>Importance</th>\n",
              "    </tr>\n",
              "  </thead>\n",
              "  <tbody>\n",
              "    <tr>\n",
              "      <th>23</th>\n",
              "      <td>area_worst</td>\n",
              "      <td>0.144693</td>\n",
              "    </tr>\n",
              "    <tr>\n",
              "      <th>20</th>\n",
              "      <td>radius_worst</td>\n",
              "      <td>0.132321</td>\n",
              "    </tr>\n",
              "    <tr>\n",
              "      <th>22</th>\n",
              "      <td>perimeter_worst</td>\n",
              "      <td>0.127033</td>\n",
              "    </tr>\n",
              "    <tr>\n",
              "      <th>27</th>\n",
              "      <td>concave points_worst</td>\n",
              "      <td>0.106479</td>\n",
              "    </tr>\n",
              "    <tr>\n",
              "      <th>7</th>\n",
              "      <td>concave points_mean</td>\n",
              "      <td>0.062790</td>\n",
              "    </tr>\n",
              "    <tr>\n",
              "      <th>2</th>\n",
              "      <td>perimeter_mean</td>\n",
              "      <td>0.043717</td>\n",
              "    </tr>\n",
              "    <tr>\n",
              "      <th>26</th>\n",
              "      <td>concavity_worst</td>\n",
              "      <td>0.041974</td>\n",
              "    </tr>\n",
              "    <tr>\n",
              "      <th>13</th>\n",
              "      <td>area_se</td>\n",
              "      <td>0.040958</td>\n",
              "    </tr>\n",
              "    <tr>\n",
              "      <th>6</th>\n",
              "      <td>concavity_mean</td>\n",
              "      <td>0.039632</td>\n",
              "    </tr>\n",
              "    <tr>\n",
              "      <th>3</th>\n",
              "      <td>area_mean</td>\n",
              "      <td>0.038940</td>\n",
              "    </tr>\n",
              "    <tr>\n",
              "      <th>0</th>\n",
              "      <td>radius_mean</td>\n",
              "      <td>0.033357</td>\n",
              "    </tr>\n",
              "    <tr>\n",
              "      <th>12</th>\n",
              "      <td>perimeter_se</td>\n",
              "      <td>0.024902</td>\n",
              "    </tr>\n",
              "  </tbody>\n",
              "</table>\n",
              "</div>"
            ],
            "text/plain": [
              "                Features  Importance\n",
              "23            area_worst    0.144693\n",
              "20          radius_worst    0.132321\n",
              "22       perimeter_worst    0.127033\n",
              "27  concave points_worst    0.106479\n",
              "7    concave points_mean    0.062790\n",
              "2         perimeter_mean    0.043717\n",
              "26       concavity_worst    0.041974\n",
              "13               area_se    0.040958\n",
              "6         concavity_mean    0.039632\n",
              "3              area_mean    0.038940\n",
              "0            radius_mean    0.033357\n",
              "12          perimeter_se    0.024902"
            ]
          },
          "metadata": {
            "tags": []
          },
          "execution_count": 19
        }
      ]
    },
    {
      "cell_type": "code",
      "metadata": {
        "colab": {
          "base_uri": "https://localhost:8080/",
          "height": 275
        },
        "id": "DtKq09xpKX9B",
        "outputId": "8603c984-6a39-4cfd-f909-a137f957f0c0"
      },
      "source": [
        "#Creating final dataframe with important features\n",
        "final_df=x[['area_worst','radius_worst','concave points_worst','perimeter_worst','concave points_mean','concavity_mean','perimeter_mean',\n",
        "            'area_mean','area_se','radius_mean','concavity_worst','compactness_worst']]\n",
        "final_df.head()"
      ],
      "id": "DtKq09xpKX9B",
      "execution_count": null,
      "outputs": [
        {
          "output_type": "execute_result",
          "data": {
            "text/html": [
              "<div>\n",
              "<style scoped>\n",
              "    .dataframe tbody tr th:only-of-type {\n",
              "        vertical-align: middle;\n",
              "    }\n",
              "\n",
              "    .dataframe tbody tr th {\n",
              "        vertical-align: top;\n",
              "    }\n",
              "\n",
              "    .dataframe thead th {\n",
              "        text-align: right;\n",
              "    }\n",
              "</style>\n",
              "<table border=\"1\" class=\"dataframe\">\n",
              "  <thead>\n",
              "    <tr style=\"text-align: right;\">\n",
              "      <th></th>\n",
              "      <th>area_worst</th>\n",
              "      <th>radius_worst</th>\n",
              "      <th>concave points_worst</th>\n",
              "      <th>perimeter_worst</th>\n",
              "      <th>concave points_mean</th>\n",
              "      <th>concavity_mean</th>\n",
              "      <th>perimeter_mean</th>\n",
              "      <th>area_mean</th>\n",
              "      <th>area_se</th>\n",
              "      <th>radius_mean</th>\n",
              "      <th>concavity_worst</th>\n",
              "      <th>compactness_worst</th>\n",
              "    </tr>\n",
              "    <tr>\n",
              "      <th>id</th>\n",
              "      <th></th>\n",
              "      <th></th>\n",
              "      <th></th>\n",
              "      <th></th>\n",
              "      <th></th>\n",
              "      <th></th>\n",
              "      <th></th>\n",
              "      <th></th>\n",
              "      <th></th>\n",
              "      <th></th>\n",
              "      <th></th>\n",
              "      <th></th>\n",
              "    </tr>\n",
              "  </thead>\n",
              "  <tbody>\n",
              "    <tr>\n",
              "      <th>842302</th>\n",
              "      <td>2019.0</td>\n",
              "      <td>25.38</td>\n",
              "      <td>0.2654</td>\n",
              "      <td>184.60</td>\n",
              "      <td>0.14710</td>\n",
              "      <td>0.3001</td>\n",
              "      <td>122.80</td>\n",
              "      <td>1001.0</td>\n",
              "      <td>153.40</td>\n",
              "      <td>17.99</td>\n",
              "      <td>0.7119</td>\n",
              "      <td>0.6656</td>\n",
              "    </tr>\n",
              "    <tr>\n",
              "      <th>842517</th>\n",
              "      <td>1956.0</td>\n",
              "      <td>24.99</td>\n",
              "      <td>0.1860</td>\n",
              "      <td>158.80</td>\n",
              "      <td>0.07017</td>\n",
              "      <td>0.0869</td>\n",
              "      <td>132.90</td>\n",
              "      <td>1326.0</td>\n",
              "      <td>74.08</td>\n",
              "      <td>20.57</td>\n",
              "      <td>0.2416</td>\n",
              "      <td>0.1866</td>\n",
              "    </tr>\n",
              "    <tr>\n",
              "      <th>84300903</th>\n",
              "      <td>1709.0</td>\n",
              "      <td>23.57</td>\n",
              "      <td>0.2430</td>\n",
              "      <td>152.50</td>\n",
              "      <td>0.12790</td>\n",
              "      <td>0.1974</td>\n",
              "      <td>130.00</td>\n",
              "      <td>1203.0</td>\n",
              "      <td>94.03</td>\n",
              "      <td>19.69</td>\n",
              "      <td>0.4504</td>\n",
              "      <td>0.4245</td>\n",
              "    </tr>\n",
              "    <tr>\n",
              "      <th>84348301</th>\n",
              "      <td>567.7</td>\n",
              "      <td>14.91</td>\n",
              "      <td>0.2575</td>\n",
              "      <td>98.87</td>\n",
              "      <td>0.10520</td>\n",
              "      <td>0.2414</td>\n",
              "      <td>77.58</td>\n",
              "      <td>386.1</td>\n",
              "      <td>27.23</td>\n",
              "      <td>11.42</td>\n",
              "      <td>0.6869</td>\n",
              "      <td>0.8663</td>\n",
              "    </tr>\n",
              "    <tr>\n",
              "      <th>84358402</th>\n",
              "      <td>1575.0</td>\n",
              "      <td>22.54</td>\n",
              "      <td>0.1625</td>\n",
              "      <td>152.20</td>\n",
              "      <td>0.10430</td>\n",
              "      <td>0.1980</td>\n",
              "      <td>135.10</td>\n",
              "      <td>1297.0</td>\n",
              "      <td>94.44</td>\n",
              "      <td>20.29</td>\n",
              "      <td>0.4000</td>\n",
              "      <td>0.2050</td>\n",
              "    </tr>\n",
              "  </tbody>\n",
              "</table>\n",
              "</div>"
            ],
            "text/plain": [
              "          area_worst  radius_worst  ...  concavity_worst  compactness_worst\n",
              "id                                  ...                                    \n",
              "842302        2019.0         25.38  ...           0.7119             0.6656\n",
              "842517        1956.0         24.99  ...           0.2416             0.1866\n",
              "84300903      1709.0         23.57  ...           0.4504             0.4245\n",
              "84348301       567.7         14.91  ...           0.6869             0.8663\n",
              "84358402      1575.0         22.54  ...           0.4000             0.2050\n",
              "\n",
              "[5 rows x 12 columns]"
            ]
          },
          "metadata": {
            "tags": []
          },
          "execution_count": 20
        }
      ]
    },
    {
      "cell_type": "code",
      "metadata": {
        "colab": {
          "base_uri": "https://localhost:8080/"
        },
        "id": "B5k1t1pbO425",
        "outputId": "9fcbe84b-e8d0-42e5-9546-34357a777ada"
      },
      "source": [
        "final_df.shape"
      ],
      "id": "B5k1t1pbO425",
      "execution_count": null,
      "outputs": [
        {
          "output_type": "execute_result",
          "data": {
            "text/plain": [
              "(569, 12)"
            ]
          },
          "metadata": {
            "tags": []
          },
          "execution_count": 21
        }
      ]
    },
    {
      "cell_type": "code",
      "metadata": {
        "colab": {
          "base_uri": "https://localhost:8080/",
          "height": 286
        },
        "id": "xJqZXzwtJTWU",
        "outputId": "e4279076-c476-449b-e205-054cce962d9c"
      },
      "source": [
        "#plotting top features\n",
        "df.plot.bar()"
      ],
      "id": "xJqZXzwtJTWU",
      "execution_count": null,
      "outputs": [
        {
          "output_type": "execute_result",
          "data": {
            "text/plain": [
              "<matplotlib.axes._subplots.AxesSubplot at 0x7fb36d1b5650>"
            ]
          },
          "metadata": {
            "tags": []
          },
          "execution_count": 22
        },
        {
          "output_type": "display_data",
          "data": {
            "image/png": "[encoded data removed]",
            "text/plain": [
              "<Figure size 432x288 with 1 Axes>"
            ]
          },
          "metadata": {
            "tags": [],
            "needs_background": "light"
          }
        }
      ]
    },
    {
      "cell_type": "code",
      "metadata": {
        "id": "OC0jD7zTYOo6"
      },
      "source": [
        "#splitting the data \n",
        "from sklearn.model_selection import train_test_split\n",
        "X_train, X_test, Y_train, Y_test = train_test_split(final_df,y, test_size= 0.2, random_state=1)"
      ],
      "id": "OC0jD7zTYOo6",
      "execution_count": null,
      "outputs": []
    },
    {
      "cell_type": "code",
      "metadata": {
        "id": "xBBHNtEYYOcg"
      },
      "source": [
        "# Now we will scale the value to as ANN is sensitive to magnitude of values.\n",
        "from sklearn.preprocessing import StandardScaler\n",
        "scaler= StandardScaler()"
      ],
      "id": "xBBHNtEYYOcg",
      "execution_count": null,
      "outputs": []
    },
    {
      "cell_type": "code",
      "metadata": {
        "id": "CwCHGtzRdakQ"
      },
      "source": [
        "X_train =scaler.fit_transform(X_train)"
      ],
      "id": "CwCHGtzRdakQ",
      "execution_count": null,
      "outputs": []
    },
    {
      "cell_type": "code",
      "metadata": {
        "colab": {
          "base_uri": "https://localhost:8080/"
        },
        "id": "Wu2B3-N2S-8o",
        "outputId": "d57e3102-8dcb-43ba-f9ce-d625a5ff1253"
      },
      "source": [
        "X_train[0]"
      ],
      "id": "Wu2B3-N2S-8o",
      "execution_count": null,
      "outputs": [
        {
          "output_type": "execute_result",
          "data": {
            "text/plain": [
              "array([0.75490595, 0.93209962, 1.21839781, 0.85738005, 0.98174683,\n",
              "       0.37978142, 1.01044815, 0.90312805, 0.16634175, 1.0449852 ,\n",
              "       0.28422474, 0.75892743])"
            ]
          },
          "metadata": {
            "tags": []
          },
          "execution_count": 26
        }
      ]
    },
    {
      "cell_type": "code",
      "metadata": {
        "id": "rhwGNDtIdaqW"
      },
      "source": [
        "X_test= scaler.transform(X_test)"
      ],
      "id": "rhwGNDtIdaqW",
      "execution_count": null,
      "outputs": []
    },
    {
      "cell_type": "markdown",
      "metadata": {
        "id": "QtVTpt4xkkRE"
      },
      "source": [
        "Building First Model with Adamax optimizer\n",
        "model1"
      ],
      "id": "QtVTpt4xkkRE"
    },
    {
      "cell_type": "code",
      "metadata": {
        "id": "SaabcI0Udavd"
      },
      "source": [
        "import keras\n",
        "from keras.models import Sequential\n",
        "from keras.layers import Dense"
      ],
      "id": "SaabcI0Udavd",
      "execution_count": null,
      "outputs": []
    },
    {
      "cell_type": "code",
      "metadata": {
        "id": "iANmtZtodazX"
      },
      "source": [
        "#initilize the Empty model1 first\n",
        "model1=Sequential()"
      ],
      "id": "iANmtZtodazX",
      "execution_count": null,
      "outputs": []
    },
    {
      "cell_type": "code",
      "metadata": {
        "id": "AfOtdPI5ejpV"
      },
      "source": [
        "#Now lets add the input layer first with 12 input features and 5 output units \n",
        "model1.add(Dense(units=5,kernel_initializer=\"he_uniform\", activation=\"relu\",input_dim=12))"
      ],
      "id": "AfOtdPI5ejpV",
      "execution_count": null,
      "outputs": []
    },
    {
      "cell_type": "code",
      "metadata": {
        "id": "mqlweNkCejuC"
      },
      "source": [
        "# add one hidden layer with 5 input nodes\n",
        "model1.add(Dense(units=5,kernel_initializer=\"he_uniform\", activation=\"relu\" ))"
      ],
      "id": "mqlweNkCejuC",
      "execution_count": null,
      "outputs": []
    },
    {
      "cell_type": "code",
      "metadata": {
        "id": "ETVeXaFiejzH"
      },
      "source": [
        "# finally the output layer consist of a single output\n",
        "model1.add(Dense(units=1, kernel_initializer='glorot_uniform', activation=\"sigmoid\"))"
      ],
      "id": "ETVeXaFiejzH",
      "execution_count": null,
      "outputs": []
    },
    {
      "cell_type": "code",
      "metadata": {
        "id": "BpiWpxTycFUx"
      },
      "source": [
        "# we will be using loss=\"binary_crossentropy\" as its used for binary class classification.\n",
        "#and ADAMAX optimizer. with weight distribution \n",
        "#relu with he_uniform\n",
        "#sigmoid with glorot_uniform"
      ],
      "id": "BpiWpxTycFUx",
      "execution_count": null,
      "outputs": []
    },
    {
      "cell_type": "code",
      "metadata": {
        "id": "CvIXV-etSBjI"
      },
      "source": [
        "#compile the model\n",
        "model1.compile(optimizer=\"Adamax\", loss=\"binary_crossentropy\", metrics=[\"accuracy\"])"
      ],
      "id": "CvIXV-etSBjI",
      "execution_count": null,
      "outputs": []
    },
    {
      "cell_type": "code",
      "metadata": {
        "id": "WUnGgB7Xej2A",
        "colab": {
          "base_uri": "https://localhost:8080/"
        },
        "outputId": "aa7b605c-602e-4014-97cf-bc270d2a770c"
      },
      "source": [
        "# lets fit the model\n",
        "model1_history=model1.fit(X_train,Y_train, validation_split=0.2,batch_size=10,epochs=100)"
      ],
      "id": "WUnGgB7Xej2A",
      "execution_count": null,
      "outputs": [
        {
          "output_type": "stream",
          "text": [
            "Epoch 1/100\n",
            "37/37 [==============================] - 1s 16ms/step - loss: 1.2567 - accuracy: 0.4127 - val_loss: 1.2340 - val_accuracy: 0.5495\n",
            "Epoch 2/100\n",
            "37/37 [==============================] - 0s 3ms/step - loss: 1.1789 - accuracy: 0.6273 - val_loss: 1.0542 - val_accuracy: 0.6044\n",
            "Epoch 3/100\n",
            "37/37 [==============================] - 0s 3ms/step - loss: 0.9322 - accuracy: 0.6166 - val_loss: 0.9192 - val_accuracy: 0.6044\n",
            "Epoch 4/100\n",
            "37/37 [==============================] - 0s 3ms/step - loss: 0.8329 - accuracy: 0.6380 - val_loss: 0.8103 - val_accuracy: 0.6154\n",
            "Epoch 5/100\n",
            "37/37 [==============================] - 0s 3ms/step - loss: 0.7340 - accuracy: 0.6319 - val_loss: 0.7181 - val_accuracy: 0.6154\n",
            "Epoch 6/100\n",
            "37/37 [==============================] - 0s 3ms/step - loss: 0.7270 - accuracy: 0.6238 - val_loss: 0.6432 - val_accuracy: 0.6264\n",
            "Epoch 7/100\n",
            "37/37 [==============================] - 0s 3ms/step - loss: 0.6327 - accuracy: 0.6519 - val_loss: 0.5799 - val_accuracy: 0.6374\n",
            "Epoch 8/100\n",
            "37/37 [==============================] - 0s 3ms/step - loss: 0.5243 - accuracy: 0.6782 - val_loss: 0.5270 - val_accuracy: 0.6593\n",
            "Epoch 9/100\n",
            "37/37 [==============================] - 0s 3ms/step - loss: 0.5364 - accuracy: 0.6535 - val_loss: 0.4811 - val_accuracy: 0.6813\n",
            "Epoch 10/100\n",
            "37/37 [==============================] - 0s 3ms/step - loss: 0.4387 - accuracy: 0.7033 - val_loss: 0.4427 - val_accuracy: 0.7582\n",
            "Epoch 11/100\n",
            "37/37 [==============================] - 0s 3ms/step - loss: 0.4021 - accuracy: 0.7421 - val_loss: 0.4104 - val_accuracy: 0.8022\n",
            "Epoch 12/100\n",
            "37/37 [==============================] - 0s 3ms/step - loss: 0.3831 - accuracy: 0.7659 - val_loss: 0.3812 - val_accuracy: 0.8242\n",
            "Epoch 13/100\n",
            "37/37 [==============================] - 0s 3ms/step - loss: 0.3935 - accuracy: 0.7866 - val_loss: 0.3567 - val_accuracy: 0.8462\n",
            "Epoch 14/100\n",
            "37/37 [==============================] - 0s 3ms/step - loss: 0.3412 - accuracy: 0.8160 - val_loss: 0.3379 - val_accuracy: 0.8681\n",
            "Epoch 15/100\n",
            "37/37 [==============================] - 0s 3ms/step - loss: 0.3231 - accuracy: 0.8436 - val_loss: 0.3213 - val_accuracy: 0.9011\n",
            "Epoch 16/100\n",
            "37/37 [==============================] - 0s 3ms/step - loss: 0.3304 - accuracy: 0.8259 - val_loss: 0.3068 - val_accuracy: 0.9121\n",
            "Epoch 17/100\n",
            "37/37 [==============================] - 0s 3ms/step - loss: 0.2731 - accuracy: 0.8564 - val_loss: 0.2934 - val_accuracy: 0.9341\n",
            "Epoch 18/100\n",
            "37/37 [==============================] - 0s 3ms/step - loss: 0.2646 - accuracy: 0.9009 - val_loss: 0.2819 - val_accuracy: 0.9451\n",
            "Epoch 19/100\n",
            "37/37 [==============================] - 0s 3ms/step - loss: 0.2776 - accuracy: 0.8731 - val_loss: 0.2698 - val_accuracy: 0.9560\n",
            "Epoch 20/100\n",
            "37/37 [==============================] - 0s 3ms/step - loss: 0.2387 - accuracy: 0.9087 - val_loss: 0.2597 - val_accuracy: 0.9560\n",
            "Epoch 21/100\n",
            "37/37 [==============================] - 0s 3ms/step - loss: 0.2331 - accuracy: 0.9183 - val_loss: 0.2517 - val_accuracy: 0.9560\n",
            "Epoch 22/100\n",
            "37/37 [==============================] - 0s 3ms/step - loss: 0.2253 - accuracy: 0.9235 - val_loss: 0.2438 - val_accuracy: 0.9560\n",
            "Epoch 23/100\n",
            "37/37 [==============================] - 0s 3ms/step - loss: 0.1963 - accuracy: 0.9495 - val_loss: 0.2372 - val_accuracy: 0.9560\n",
            "Epoch 24/100\n",
            "37/37 [==============================] - 0s 3ms/step - loss: 0.1960 - accuracy: 0.9412 - val_loss: 0.2314 - val_accuracy: 0.9560\n",
            "Epoch 25/100\n",
            "37/37 [==============================] - 0s 3ms/step - loss: 0.1800 - accuracy: 0.9602 - val_loss: 0.2257 - val_accuracy: 0.9560\n",
            "Epoch 26/100\n",
            "37/37 [==============================] - 0s 3ms/step - loss: 0.1852 - accuracy: 0.9448 - val_loss: 0.2206 - val_accuracy: 0.9560\n",
            "Epoch 27/100\n",
            "37/37 [==============================] - 0s 3ms/step - loss: 0.1833 - accuracy: 0.9567 - val_loss: 0.2162 - val_accuracy: 0.9560\n",
            "Epoch 28/100\n",
            "37/37 [==============================] - 0s 3ms/step - loss: 0.1771 - accuracy: 0.9553 - val_loss: 0.2119 - val_accuracy: 0.9560\n",
            "Epoch 29/100\n",
            "37/37 [==============================] - 0s 3ms/step - loss: 0.1957 - accuracy: 0.9527 - val_loss: 0.2081 - val_accuracy: 0.9560\n",
            "Epoch 30/100\n",
            "37/37 [==============================] - 0s 3ms/step - loss: 0.1727 - accuracy: 0.9615 - val_loss: 0.2045 - val_accuracy: 0.9560\n",
            "Epoch 31/100\n",
            "37/37 [==============================] - 0s 3ms/step - loss: 0.1633 - accuracy: 0.9500 - val_loss: 0.2014 - val_accuracy: 0.9560\n",
            "Epoch 32/100\n",
            "37/37 [==============================] - 0s 3ms/step - loss: 0.1466 - accuracy: 0.9596 - val_loss: 0.1983 - val_accuracy: 0.9560\n",
            "Epoch 33/100\n",
            "37/37 [==============================] - 0s 3ms/step - loss: 0.1457 - accuracy: 0.9623 - val_loss: 0.1956 - val_accuracy: 0.9560\n",
            "Epoch 34/100\n",
            "37/37 [==============================] - 0s 3ms/step - loss: 0.1684 - accuracy: 0.9521 - val_loss: 0.1928 - val_accuracy: 0.9560\n",
            "Epoch 35/100\n",
            "37/37 [==============================] - 0s 3ms/step - loss: 0.1495 - accuracy: 0.9666 - val_loss: 0.1898 - val_accuracy: 0.9670\n",
            "Epoch 36/100\n",
            "37/37 [==============================] - 0s 3ms/step - loss: 0.1512 - accuracy: 0.9526 - val_loss: 0.1873 - val_accuracy: 0.9780\n",
            "Epoch 37/100\n",
            "37/37 [==============================] - 0s 3ms/step - loss: 0.1492 - accuracy: 0.9631 - val_loss: 0.1842 - val_accuracy: 0.9780\n",
            "Epoch 38/100\n",
            "37/37 [==============================] - 0s 3ms/step - loss: 0.1503 - accuracy: 0.9427 - val_loss: 0.1817 - val_accuracy: 0.9780\n",
            "Epoch 39/100\n",
            "37/37 [==============================] - 0s 3ms/step - loss: 0.1363 - accuracy: 0.9733 - val_loss: 0.1789 - val_accuracy: 0.9780\n",
            "Epoch 40/100\n",
            "37/37 [==============================] - 0s 3ms/step - loss: 0.1362 - accuracy: 0.9631 - val_loss: 0.1758 - val_accuracy: 0.9780\n",
            "Epoch 41/100\n",
            "37/37 [==============================] - 0s 3ms/step - loss: 0.1432 - accuracy: 0.9441 - val_loss: 0.1734 - val_accuracy: 0.9780\n",
            "Epoch 42/100\n",
            "37/37 [==============================] - 0s 3ms/step - loss: 0.1530 - accuracy: 0.9426 - val_loss: 0.1708 - val_accuracy: 0.9780\n",
            "Epoch 43/100\n",
            "37/37 [==============================] - 0s 3ms/step - loss: 0.1543 - accuracy: 0.9555 - val_loss: 0.1690 - val_accuracy: 0.9780\n",
            "Epoch 44/100\n",
            "37/37 [==============================] - 0s 3ms/step - loss: 0.1319 - accuracy: 0.9580 - val_loss: 0.1669 - val_accuracy: 0.9780\n",
            "Epoch 45/100\n",
            "37/37 [==============================] - 0s 3ms/step - loss: 0.1272 - accuracy: 0.9647 - val_loss: 0.1655 - val_accuracy: 0.9780\n",
            "Epoch 46/100\n",
            "37/37 [==============================] - 0s 3ms/step - loss: 0.1457 - accuracy: 0.9467 - val_loss: 0.1635 - val_accuracy: 0.9780\n",
            "Epoch 47/100\n",
            "37/37 [==============================] - 0s 3ms/step - loss: 0.1227 - accuracy: 0.9708 - val_loss: 0.1613 - val_accuracy: 0.9780\n",
            "Epoch 48/100\n",
            "37/37 [==============================] - 0s 3ms/step - loss: 0.1180 - accuracy: 0.9649 - val_loss: 0.1599 - val_accuracy: 0.9780\n",
            "Epoch 49/100\n",
            "37/37 [==============================] - 0s 3ms/step - loss: 0.1280 - accuracy: 0.9521 - val_loss: 0.1584 - val_accuracy: 0.9780\n",
            "Epoch 50/100\n",
            "37/37 [==============================] - 0s 3ms/step - loss: 0.1364 - accuracy: 0.9432 - val_loss: 0.1571 - val_accuracy: 0.9780\n",
            "Epoch 51/100\n",
            "37/37 [==============================] - 0s 3ms/step - loss: 0.1163 - accuracy: 0.9572 - val_loss: 0.1560 - val_accuracy: 0.9780\n",
            "Epoch 52/100\n",
            "37/37 [==============================] - 0s 3ms/step - loss: 0.1110 - accuracy: 0.9702 - val_loss: 0.1546 - val_accuracy: 0.9780\n",
            "Epoch 53/100\n",
            "37/37 [==============================] - 0s 3ms/step - loss: 0.1182 - accuracy: 0.9675 - val_loss: 0.1534 - val_accuracy: 0.9780\n",
            "Epoch 54/100\n",
            "37/37 [==============================] - 0s 3ms/step - loss: 0.1185 - accuracy: 0.9622 - val_loss: 0.1526 - val_accuracy: 0.9780\n",
            "Epoch 55/100\n",
            "37/37 [==============================] - 0s 3ms/step - loss: 0.1210 - accuracy: 0.9641 - val_loss: 0.1515 - val_accuracy: 0.9780\n",
            "Epoch 56/100\n",
            "37/37 [==============================] - 0s 3ms/step - loss: 0.0943 - accuracy: 0.9743 - val_loss: 0.1501 - val_accuracy: 0.9780\n",
            "Epoch 57/100\n",
            "37/37 [==============================] - 0s 3ms/step - loss: 0.1122 - accuracy: 0.9581 - val_loss: 0.1494 - val_accuracy: 0.9780\n",
            "Epoch 58/100\n",
            "37/37 [==============================] - 0s 3ms/step - loss: 0.1140 - accuracy: 0.9696 - val_loss: 0.1483 - val_accuracy: 0.9780\n",
            "Epoch 59/100\n",
            "37/37 [==============================] - 0s 3ms/step - loss: 0.1200 - accuracy: 0.9659 - val_loss: 0.1477 - val_accuracy: 0.9780\n",
            "Epoch 60/100\n",
            "37/37 [==============================] - 0s 3ms/step - loss: 0.1064 - accuracy: 0.9671 - val_loss: 0.1471 - val_accuracy: 0.9780\n",
            "Epoch 61/100\n",
            "37/37 [==============================] - 0s 3ms/step - loss: 0.1288 - accuracy: 0.9477 - val_loss: 0.1464 - val_accuracy: 0.9780\n",
            "Epoch 62/100\n",
            "37/37 [==============================] - 0s 3ms/step - loss: 0.0985 - accuracy: 0.9619 - val_loss: 0.1459 - val_accuracy: 0.9780\n",
            "Epoch 63/100\n",
            "37/37 [==============================] - 0s 3ms/step - loss: 0.1075 - accuracy: 0.9619 - val_loss: 0.1452 - val_accuracy: 0.9780\n",
            "Epoch 64/100\n",
            "37/37 [==============================] - 0s 3ms/step - loss: 0.1265 - accuracy: 0.9486 - val_loss: 0.1448 - val_accuracy: 0.9780\n",
            "Epoch 65/100\n",
            "37/37 [==============================] - 0s 4ms/step - loss: 0.1026 - accuracy: 0.9636 - val_loss: 0.1442 - val_accuracy: 0.9780\n",
            "Epoch 66/100\n",
            "37/37 [==============================] - 0s 3ms/step - loss: 0.1077 - accuracy: 0.9617 - val_loss: 0.1440 - val_accuracy: 0.9780\n",
            "Epoch 67/100\n",
            "37/37 [==============================] - 0s 3ms/step - loss: 0.1054 - accuracy: 0.9499 - val_loss: 0.1435 - val_accuracy: 0.9780\n",
            "Epoch 68/100\n",
            "37/37 [==============================] - 0s 3ms/step - loss: 0.0995 - accuracy: 0.9610 - val_loss: 0.1430 - val_accuracy: 0.9780\n",
            "Epoch 69/100\n",
            "37/37 [==============================] - 0s 3ms/step - loss: 0.1040 - accuracy: 0.9560 - val_loss: 0.1426 - val_accuracy: 0.9780\n",
            "Epoch 70/100\n",
            "37/37 [==============================] - 0s 3ms/step - loss: 0.1042 - accuracy: 0.9620 - val_loss: 0.1422 - val_accuracy: 0.9780\n",
            "Epoch 71/100\n",
            "37/37 [==============================] - 0s 3ms/step - loss: 0.1142 - accuracy: 0.9433 - val_loss: 0.1423 - val_accuracy: 0.9780\n",
            "Epoch 72/100\n",
            "37/37 [==============================] - 0s 3ms/step - loss: 0.0840 - accuracy: 0.9775 - val_loss: 0.1416 - val_accuracy: 0.9780\n",
            "Epoch 73/100\n",
            "37/37 [==============================] - 0s 3ms/step - loss: 0.0985 - accuracy: 0.9628 - val_loss: 0.1416 - val_accuracy: 0.9780\n",
            "Epoch 74/100\n",
            "37/37 [==============================] - 0s 3ms/step - loss: 0.1099 - accuracy: 0.9623 - val_loss: 0.1414 - val_accuracy: 0.9780\n",
            "Epoch 75/100\n",
            "37/37 [==============================] - 0s 3ms/step - loss: 0.1021 - accuracy: 0.9663 - val_loss: 0.1413 - val_accuracy: 0.9780\n",
            "Epoch 76/100\n",
            "37/37 [==============================] - 0s 3ms/step - loss: 0.1009 - accuracy: 0.9595 - val_loss: 0.1407 - val_accuracy: 0.9780\n",
            "Epoch 77/100\n",
            "37/37 [==============================] - 0s 3ms/step - loss: 0.1033 - accuracy: 0.9636 - val_loss: 0.1409 - val_accuracy: 0.9780\n",
            "Epoch 78/100\n",
            "37/37 [==============================] - 0s 3ms/step - loss: 0.1032 - accuracy: 0.9583 - val_loss: 0.1406 - val_accuracy: 0.9780\n",
            "Epoch 79/100\n",
            "37/37 [==============================] - 0s 3ms/step - loss: 0.0847 - accuracy: 0.9716 - val_loss: 0.1406 - val_accuracy: 0.9780\n",
            "Epoch 80/100\n",
            "37/37 [==============================] - 0s 3ms/step - loss: 0.1020 - accuracy: 0.9620 - val_loss: 0.1402 - val_accuracy: 0.9780\n",
            "Epoch 81/100\n",
            "37/37 [==============================] - 0s 3ms/step - loss: 0.1283 - accuracy: 0.9423 - val_loss: 0.1400 - val_accuracy: 0.9780\n",
            "Epoch 82/100\n",
            "37/37 [==============================] - 0s 3ms/step - loss: 0.1385 - accuracy: 0.9450 - val_loss: 0.1399 - val_accuracy: 0.9780\n",
            "Epoch 83/100\n",
            "37/37 [==============================] - 0s 3ms/step - loss: 0.0848 - accuracy: 0.9729 - val_loss: 0.1397 - val_accuracy: 0.9780\n",
            "Epoch 84/100\n",
            "37/37 [==============================] - 0s 3ms/step - loss: 0.1072 - accuracy: 0.9575 - val_loss: 0.1394 - val_accuracy: 0.9780\n",
            "Epoch 85/100\n",
            "37/37 [==============================] - 0s 3ms/step - loss: 0.1106 - accuracy: 0.9532 - val_loss: 0.1394 - val_accuracy: 0.9780\n",
            "Epoch 86/100\n",
            "37/37 [==============================] - 0s 3ms/step - loss: 0.1171 - accuracy: 0.9442 - val_loss: 0.1394 - val_accuracy: 0.9780\n",
            "Epoch 87/100\n",
            "37/37 [==============================] - 0s 3ms/step - loss: 0.1069 - accuracy: 0.9628 - val_loss: 0.1393 - val_accuracy: 0.9780\n",
            "Epoch 88/100\n",
            "37/37 [==============================] - 0s 3ms/step - loss: 0.0851 - accuracy: 0.9645 - val_loss: 0.1391 - val_accuracy: 0.9780\n",
            "Epoch 89/100\n",
            "37/37 [==============================] - 0s 3ms/step - loss: 0.0974 - accuracy: 0.9675 - val_loss: 0.1393 - val_accuracy: 0.9780\n",
            "Epoch 90/100\n",
            "37/37 [==============================] - 0s 3ms/step - loss: 0.0760 - accuracy: 0.9780 - val_loss: 0.1389 - val_accuracy: 0.9780\n",
            "Epoch 91/100\n",
            "37/37 [==============================] - 0s 3ms/step - loss: 0.1048 - accuracy: 0.9637 - val_loss: 0.1390 - val_accuracy: 0.9780\n",
            "Epoch 92/100\n",
            "37/37 [==============================] - 0s 3ms/step - loss: 0.0747 - accuracy: 0.9786 - val_loss: 0.1389 - val_accuracy: 0.9780\n",
            "Epoch 93/100\n",
            "37/37 [==============================] - 0s 3ms/step - loss: 0.0867 - accuracy: 0.9703 - val_loss: 0.1386 - val_accuracy: 0.9780\n",
            "Epoch 94/100\n",
            "37/37 [==============================] - 0s 3ms/step - loss: 0.0977 - accuracy: 0.9641 - val_loss: 0.1387 - val_accuracy: 0.9780\n",
            "Epoch 95/100\n",
            "37/37 [==============================] - 0s 3ms/step - loss: 0.0995 - accuracy: 0.9652 - val_loss: 0.1384 - val_accuracy: 0.9780\n",
            "Epoch 96/100\n",
            "37/37 [==============================] - 0s 3ms/step - loss: 0.0947 - accuracy: 0.9614 - val_loss: 0.1382 - val_accuracy: 0.9780\n",
            "Epoch 97/100\n",
            "37/37 [==============================] - 0s 3ms/step - loss: 0.0766 - accuracy: 0.9796 - val_loss: 0.1383 - val_accuracy: 0.9780\n",
            "Epoch 98/100\n",
            "37/37 [==============================] - 0s 3ms/step - loss: 0.0900 - accuracy: 0.9695 - val_loss: 0.1383 - val_accuracy: 0.9780\n",
            "Epoch 99/100\n",
            "37/37 [==============================] - 0s 3ms/step - loss: 0.0961 - accuracy: 0.9665 - val_loss: 0.1382 - val_accuracy: 0.9780\n",
            "Epoch 100/100\n",
            "37/37 [==============================] - 0s 3ms/step - loss: 0.0901 - accuracy: 0.9606 - val_loss: 0.1383 - val_accuracy: 0.9780\n"
          ],
          "name": "stdout"
        }
      ]
    },
    {
      "cell_type": "code",
      "metadata": {
        "id": "11B6tMtnej5Y"
      },
      "source": [
        "# now lets visualize the Loss and Val_Loss to check how the loss value is optimized.\n",
        "#get the model history in distory dictionary"
      ],
      "id": "11B6tMtnej5Y",
      "execution_count": null,
      "outputs": []
    },
    {
      "cell_type": "code",
      "metadata": {
        "id": "03RHBIcMb9E1"
      },
      "source": [
        "history_model1_dict=model1_history.history"
      ],
      "id": "03RHBIcMb9E1",
      "execution_count": null,
      "outputs": []
    },
    {
      "cell_type": "code",
      "metadata": {
        "colab": {
          "base_uri": "https://localhost:8080/"
        },
        "id": "bQX0gW8ueLDr",
        "outputId": "448be796-0102-43dd-9a57-99c635b7ec17"
      },
      "source": [
        "history_model1_dict.keys()"
      ],
      "id": "bQX0gW8ueLDr",
      "execution_count": null,
      "outputs": [
        {
          "output_type": "execute_result",
          "data": {
            "text/plain": [
              "dict_keys(['loss', 'accuracy', 'val_loss', 'val_accuracy'])"
            ]
          },
          "metadata": {
            "tags": []
          },
          "execution_count": 38
        }
      ]
    },
    {
      "cell_type": "code",
      "metadata": {
        "colab": {
          "base_uri": "https://localhost:8080/",
          "height": 639
        },
        "id": "D4E399tib9JF",
        "outputId": "8692a94e-545b-4358-c19b-abb6371d39a8"
      },
      "source": [
        "#plotting for model1\n",
        "# Plot for Loss vs Val Loss\n",
        "loss=history_model1_dict[\"loss\"]\n",
        "val_loss=history_model1_dict[\"val_loss\"]\n",
        "plt.figure(figsize=(12,10))\n",
        "plt.plot(loss,\"b\",label=\"Training-Loss\")\n",
        "plt.plot(val_loss,\"g\",label=\"Val-Training-Loss\")\n",
        "plt.legend()\n",
        "plt.title(\"Loss VS Val_loss model1\")\n",
        "plt.xlabel(\"Epochs\")"
      ],
      "id": "D4E399tib9JF",
      "execution_count": null,
      "outputs": [
        {
          "output_type": "execute_result",
          "data": {
            "text/plain": [
              "Text(0.5, 0, 'Epochs')"
            ]
          },
          "metadata": {
            "tags": []
          },
          "execution_count": 39
        },
        {
          "output_type": "display_data",
          "data": {
            "image/png": "[encoded data removed]",
            "text/plain": [
              "<Figure size 864x720 with 1 Axes>"
            ]
          },
          "metadata": {
            "tags": [],
            "needs_background": "light"
          }
        }
      ]
    },
    {
      "cell_type": "code",
      "metadata": {
        "colab": {
          "base_uri": "https://localhost:8080/",
          "height": 639
        },
        "id": "7lfdQ1fob9NB",
        "outputId": "8cd8e6a6-3400-4163-94de-0423a71a848f"
      },
      "source": [
        "# Plot for acc vs Val Loss for model1\n",
        "acc=history_model1_dict[\"accuracy\"]\n",
        "val_acc=history_model1_dict[\"val_accuracy\"]\n",
        "plt.figure(figsize=(12,10))\n",
        "plt.plot(acc,\"b\",label=\"Training-Accuracy\")\n",
        "plt.plot(val_acc,\"g\",label=\"Val-Accuracy\")\n",
        "plt.legend()\n",
        "plt.title(\"Accuracy VS Val_Accuracy model1\")\n",
        "plt.xlabel(\"Epochs\")"
      ],
      "id": "7lfdQ1fob9NB",
      "execution_count": null,
      "outputs": [
        {
          "output_type": "execute_result",
          "data": {
            "text/plain": [
              "Text(0.5, 0, 'Epochs')"
            ]
          },
          "metadata": {
            "tags": []
          },
          "execution_count": 40
        },
        {
          "output_type": "display_data",
          "data": {
            "image/png": "[encoded data removed]",
            "text/plain": [
              "<Figure size 864x720 with 1 Axes>"
            ]
          },
          "metadata": {
            "tags": [],
            "needs_background": "light"
          }
        }
      ]
    },
    {
      "cell_type": "code",
      "metadata": {
        "colab": {
          "base_uri": "https://localhost:8080/"
        },
        "id": "5VX0tcIHb9Qk",
        "outputId": "6fc183df-1b6d-48ca-e70e-f376b2afaf7a"
      },
      "source": [
        "# our model1 is trained well and now lets check the accuracy of the test data Evaluate model\n",
        "model1_test_loss, model1_test_acc =model1.evaluate(X_test,Y_test)\n",
        "print(\"Accuracy of the Model on test data is :\", model1_test_acc)\n",
        "print(\"Test loss of the Model on test data is :\", model1_test_loss)"
      ],
      "id": "5VX0tcIHb9Qk",
      "execution_count": null,
      "outputs": [
        {
          "output_type": "stream",
          "text": [
            "4/4 [==============================] - 0s 3ms/step - loss: 0.2537 - accuracy: 0.9474\n",
            "Accuracy of the Model on test data is : 0.9473684430122375\n",
            "Test loss of the Model on test data is : 0.25370755791664124\n"
          ],
          "name": "stdout"
        }
      ]
    },
    {
      "cell_type": "code",
      "metadata": {
        "id": "2ujKLsJciB24"
      },
      "source": [
        "#Lets check prediction using model1\n",
        "model1_y_pred = model1.predict(X_test)\n",
        "model1_y_pred = (model1_y_pred > 0.5)"
      ],
      "id": "2ujKLsJciB24",
      "execution_count": null,
      "outputs": []
    },
    {
      "cell_type": "code",
      "metadata": {
        "colab": {
          "base_uri": "https://localhost:8080/"
        },
        "id": "uDJtW3u1iAh0",
        "outputId": "5260ce1c-36cd-4752-fdd1-11dcb4ba1b99"
      },
      "source": [
        "from sklearn.metrics import confusion_matrix, classification_report\n",
        "cm = confusion_matrix(Y_test, model1_y_pred)\n",
        "print(cm)"
      ],
      "id": "uDJtW3u1iAh0",
      "execution_count": null,
      "outputs": [
        {
          "output_type": "stream",
          "text": [
            "[[71  1]\n",
            " [ 5 37]]\n"
          ],
          "name": "stdout"
        }
      ]
    },
    {
      "cell_type": "code",
      "metadata": {
        "colab": {
          "base_uri": "https://localhost:8080/"
        },
        "id": "308mws3tjd__",
        "outputId": "e8230bae-1c7a-4d98-a208-527731b22030"
      },
      "source": [
        "#classification report for model name= model\n",
        "target_class=[\"M\", \"B\"]  #M=1, B=0\n",
        "print(\"Classification report model1\")\n",
        "print(classification_report(Y_test, model1_y_pred, target_names=target_class))"
      ],
      "id": "308mws3tjd__",
      "execution_count": null,
      "outputs": [
        {
          "output_type": "stream",
          "text": [
            "Classification report model1\n",
            "              precision    recall  f1-score   support\n",
            "\n",
            "           M       0.93      0.99      0.96        72\n",
            "           B       0.97      0.88      0.93        42\n",
            "\n",
            "    accuracy                           0.95       114\n",
            "   macro avg       0.95      0.93      0.94       114\n",
            "weighted avg       0.95      0.95      0.95       114\n",
            "\n"
          ],
          "name": "stdout"
        }
      ]
    },
    {
      "cell_type": "markdown",
      "metadata": {
        "id": "VSurJvDdkVr4"
      },
      "source": [
        "now building model2 with other parameter and neuron combination  with Adam optimizer"
      ],
      "id": "VSurJvDdkVr4"
    },
    {
      "cell_type": "code",
      "metadata": {
        "id": "0kZckGrei2nH"
      },
      "source": [
        "# previously we have used ADAMAX optimizer to optimize the weights and loss now lets try with ADAM optimizer \n",
        "#lets import Adam optimizer"
      ],
      "id": "0kZckGrei2nH",
      "execution_count": null,
      "outputs": []
    },
    {
      "cell_type": "code",
      "metadata": {
        "id": "HVK903xZb9US"
      },
      "source": [
        "#Initlize our model again with new name \n",
        "model2=Sequential()\n",
        "#Now lets add the input layer first with 12 input features and 5 output units \n",
        "model2.add(Dense(units=5,kernel_initializer=\"he_uniform\", activation=\"relu\",input_dim=12))\n",
        "\n",
        "# add one hidden layer with 5 input nodes\n",
        "model2.add(Dense(units=5,kernel_initializer=\"he_uniform\", activation=\"relu\" ))\n",
        "\n",
        "# finally the output layer \n",
        "model2.add(Dense(units=1, kernel_initializer='glorot_uniform', activation=\"sigmoid\"))\n",
        "\n",
        "#compile the model using Adam optimizer\n",
        "model2.compile(optimizer=\"Adam\", loss=\"binary_crossentropy\", metrics=[\"accuracy\"])"
      ],
      "id": "HVK903xZb9US",
      "execution_count": null,
      "outputs": []
    },
    {
      "cell_type": "code",
      "metadata": {
        "id": "asian-saver",
        "colab": {
          "base_uri": "https://localhost:8080/"
        },
        "outputId": "410931b9-d3b8-4666-e1b9-75c94dc267ec"
      },
      "source": [
        "# lets fit the model with 150 epochs\n",
        "model2_history=model2.fit(X_train,Y_train, validation_split=0.2,batch_size=10,epochs=150)"
      ],
      "id": "asian-saver",
      "execution_count": null,
      "outputs": [
        {
          "output_type": "stream",
          "text": [
            "Epoch 1/150\n",
            "37/37 [==============================] - 1s 6ms/step - loss: 0.8873 - accuracy: 0.4108 - val_loss: 0.5905 - val_accuracy: 0.7033\n",
            "Epoch 2/150\n",
            "37/37 [==============================] - 0s 3ms/step - loss: 0.5838 - accuracy: 0.7383 - val_loss: 0.4360 - val_accuracy: 0.8901\n",
            "Epoch 3/150\n",
            "37/37 [==============================] - 0s 3ms/step - loss: 0.4504 - accuracy: 0.8423 - val_loss: 0.3388 - val_accuracy: 0.9451\n",
            "Epoch 4/150\n",
            "37/37 [==============================] - 0s 3ms/step - loss: 0.3544 - accuracy: 0.8844 - val_loss: 0.2715 - val_accuracy: 0.9560\n",
            "Epoch 5/150\n",
            "37/37 [==============================] - 0s 3ms/step - loss: 0.2930 - accuracy: 0.8886 - val_loss: 0.2271 - val_accuracy: 0.9451\n",
            "Epoch 6/150\n",
            "37/37 [==============================] - 0s 3ms/step - loss: 0.2416 - accuracy: 0.9175 - val_loss: 0.1986 - val_accuracy: 0.9451\n",
            "Epoch 7/150\n",
            "37/37 [==============================] - 0s 3ms/step - loss: 0.2280 - accuracy: 0.9110 - val_loss: 0.1794 - val_accuracy: 0.9560\n",
            "Epoch 8/150\n",
            "37/37 [==============================] - 0s 3ms/step - loss: 0.1895 - accuracy: 0.9460 - val_loss: 0.1661 - val_accuracy: 0.9560\n",
            "Epoch 9/150\n",
            "37/37 [==============================] - 0s 3ms/step - loss: 0.2039 - accuracy: 0.9195 - val_loss: 0.1558 - val_accuracy: 0.9560\n",
            "Epoch 10/150\n",
            "37/37 [==============================] - 0s 3ms/step - loss: 0.1670 - accuracy: 0.9373 - val_loss: 0.1494 - val_accuracy: 0.9670\n",
            "Epoch 11/150\n",
            "37/37 [==============================] - 0s 3ms/step - loss: 0.1742 - accuracy: 0.9297 - val_loss: 0.1443 - val_accuracy: 0.9670\n",
            "Epoch 12/150\n",
            "37/37 [==============================] - 0s 3ms/step - loss: 0.1615 - accuracy: 0.9304 - val_loss: 0.1399 - val_accuracy: 0.9670\n",
            "Epoch 13/150\n",
            "37/37 [==============================] - 0s 3ms/step - loss: 0.1239 - accuracy: 0.9562 - val_loss: 0.1364 - val_accuracy: 0.9670\n",
            "Epoch 14/150\n",
            "37/37 [==============================] - 0s 3ms/step - loss: 0.1833 - accuracy: 0.9069 - val_loss: 0.1334 - val_accuracy: 0.9670\n",
            "Epoch 15/150\n",
            "37/37 [==============================] - 0s 3ms/step - loss: 0.1370 - accuracy: 0.9411 - val_loss: 0.1313 - val_accuracy: 0.9670\n",
            "Epoch 16/150\n",
            "37/37 [==============================] - 0s 3ms/step - loss: 0.1392 - accuracy: 0.9374 - val_loss: 0.1310 - val_accuracy: 0.9670\n",
            "Epoch 17/150\n",
            "37/37 [==============================] - 0s 3ms/step - loss: 0.1308 - accuracy: 0.9429 - val_loss: 0.1286 - val_accuracy: 0.9670\n",
            "Epoch 18/150\n",
            "37/37 [==============================] - 0s 3ms/step - loss: 0.1431 - accuracy: 0.9303 - val_loss: 0.1279 - val_accuracy: 0.9670\n",
            "Epoch 19/150\n",
            "37/37 [==============================] - 0s 3ms/step - loss: 0.1198 - accuracy: 0.9424 - val_loss: 0.1292 - val_accuracy: 0.9670\n",
            "Epoch 20/150\n",
            "37/37 [==============================] - 0s 3ms/step - loss: 0.1178 - accuracy: 0.9451 - val_loss: 0.1273 - val_accuracy: 0.9670\n",
            "Epoch 21/150\n",
            "37/37 [==============================] - 0s 3ms/step - loss: 0.1481 - accuracy: 0.9252 - val_loss: 0.1272 - val_accuracy: 0.9670\n",
            "Epoch 22/150\n",
            "37/37 [==============================] - 0s 3ms/step - loss: 0.1301 - accuracy: 0.9275 - val_loss: 0.1275 - val_accuracy: 0.9670\n",
            "Epoch 23/150\n",
            "37/37 [==============================] - 0s 3ms/step - loss: 0.1434 - accuracy: 0.9236 - val_loss: 0.1275 - val_accuracy: 0.9670\n",
            "Epoch 24/150\n",
            "37/37 [==============================] - 0s 3ms/step - loss: 0.1424 - accuracy: 0.9245 - val_loss: 0.1266 - val_accuracy: 0.9670\n",
            "Epoch 25/150\n",
            "37/37 [==============================] - 0s 3ms/step - loss: 0.1302 - accuracy: 0.9271 - val_loss: 0.1265 - val_accuracy: 0.9670\n",
            "Epoch 26/150\n",
            "37/37 [==============================] - 0s 3ms/step - loss: 0.1066 - accuracy: 0.9484 - val_loss: 0.1259 - val_accuracy: 0.9670\n",
            "Epoch 27/150\n",
            "37/37 [==============================] - 0s 3ms/step - loss: 0.1373 - accuracy: 0.9325 - val_loss: 0.1272 - val_accuracy: 0.9670\n",
            "Epoch 28/150\n",
            "37/37 [==============================] - 0s 3ms/step - loss: 0.1267 - accuracy: 0.9328 - val_loss: 0.1254 - val_accuracy: 0.9670\n",
            "Epoch 29/150\n",
            "37/37 [==============================] - 0s 3ms/step - loss: 0.0957 - accuracy: 0.9570 - val_loss: 0.1263 - val_accuracy: 0.9670\n",
            "Epoch 30/150\n",
            "37/37 [==============================] - 0s 3ms/step - loss: 0.1283 - accuracy: 0.9292 - val_loss: 0.1279 - val_accuracy: 0.9670\n",
            "Epoch 31/150\n",
            "37/37 [==============================] - 0s 3ms/step - loss: 0.1161 - accuracy: 0.9293 - val_loss: 0.1263 - val_accuracy: 0.9670\n",
            "Epoch 32/150\n",
            "37/37 [==============================] - 0s 3ms/step - loss: 0.1005 - accuracy: 0.9429 - val_loss: 0.1275 - val_accuracy: 0.9670\n",
            "Epoch 33/150\n",
            "37/37 [==============================] - 0s 3ms/step - loss: 0.1249 - accuracy: 0.9215 - val_loss: 0.1287 - val_accuracy: 0.9670\n",
            "Epoch 34/150\n",
            "37/37 [==============================] - 0s 3ms/step - loss: 0.1197 - accuracy: 0.9346 - val_loss: 0.1284 - val_accuracy: 0.9670\n",
            "Epoch 35/150\n",
            "37/37 [==============================] - 0s 3ms/step - loss: 0.1262 - accuracy: 0.9248 - val_loss: 0.1286 - val_accuracy: 0.9670\n",
            "Epoch 36/150\n",
            "37/37 [==============================] - 0s 3ms/step - loss: 0.1129 - accuracy: 0.9312 - val_loss: 0.1284 - val_accuracy: 0.9670\n",
            "Epoch 37/150\n",
            "37/37 [==============================] - 0s 3ms/step - loss: 0.1177 - accuracy: 0.9396 - val_loss: 0.1284 - val_accuracy: 0.9670\n",
            "Epoch 38/150\n",
            "37/37 [==============================] - 0s 3ms/step - loss: 0.1044 - accuracy: 0.9413 - val_loss: 0.1290 - val_accuracy: 0.9670\n",
            "Epoch 39/150\n",
            "37/37 [==============================] - 0s 3ms/step - loss: 0.1232 - accuracy: 0.9276 - val_loss: 0.1291 - val_accuracy: 0.9670\n",
            "Epoch 40/150\n",
            "37/37 [==============================] - 0s 3ms/step - loss: 0.1029 - accuracy: 0.9449 - val_loss: 0.1301 - val_accuracy: 0.9670\n",
            "Epoch 41/150\n",
            "37/37 [==============================] - 0s 3ms/step - loss: 0.1120 - accuracy: 0.9356 - val_loss: 0.1299 - val_accuracy: 0.9670\n",
            "Epoch 42/150\n",
            "37/37 [==============================] - 0s 3ms/step - loss: 0.1149 - accuracy: 0.9230 - val_loss: 0.1297 - val_accuracy: 0.9670\n",
            "Epoch 43/150\n",
            "37/37 [==============================] - 0s 3ms/step - loss: 0.1253 - accuracy: 0.9281 - val_loss: 0.1300 - val_accuracy: 0.9670\n",
            "Epoch 44/150\n",
            "37/37 [==============================] - 0s 3ms/step - loss: 0.1034 - accuracy: 0.9513 - val_loss: 0.1294 - val_accuracy: 0.9670\n",
            "Epoch 45/150\n",
            "37/37 [==============================] - 0s 3ms/step - loss: 0.0971 - accuracy: 0.9458 - val_loss: 0.1306 - val_accuracy: 0.9670\n",
            "Epoch 46/150\n",
            "37/37 [==============================] - 0s 3ms/step - loss: 0.0916 - accuracy: 0.9479 - val_loss: 0.1300 - val_accuracy: 0.9670\n",
            "Epoch 47/150\n",
            "37/37 [==============================] - 0s 3ms/step - loss: 0.1050 - accuracy: 0.9422 - val_loss: 0.1299 - val_accuracy: 0.9670\n",
            "Epoch 48/150\n",
            "37/37 [==============================] - 0s 3ms/step - loss: 0.1036 - accuracy: 0.9435 - val_loss: 0.1307 - val_accuracy: 0.9670\n",
            "Epoch 49/150\n",
            "37/37 [==============================] - 0s 3ms/step - loss: 0.1215 - accuracy: 0.9295 - val_loss: 0.1302 - val_accuracy: 0.9670\n",
            "Epoch 50/150\n",
            "37/37 [==============================] - 0s 3ms/step - loss: 0.0849 - accuracy: 0.9607 - val_loss: 0.1306 - val_accuracy: 0.9670\n",
            "Epoch 51/150\n",
            "37/37 [==============================] - 0s 3ms/step - loss: 0.0858 - accuracy: 0.9548 - val_loss: 0.1318 - val_accuracy: 0.9670\n",
            "Epoch 52/150\n",
            "37/37 [==============================] - 0s 3ms/step - loss: 0.1208 - accuracy: 0.9339 - val_loss: 0.1314 - val_accuracy: 0.9670\n",
            "Epoch 53/150\n",
            "37/37 [==============================] - 0s 3ms/step - loss: 0.1150 - accuracy: 0.9341 - val_loss: 0.1313 - val_accuracy: 0.9670\n",
            "Epoch 54/150\n",
            "37/37 [==============================] - 0s 3ms/step - loss: 0.0895 - accuracy: 0.9512 - val_loss: 0.1324 - val_accuracy: 0.9670\n",
            "Epoch 55/150\n",
            "37/37 [==============================] - 0s 3ms/step - loss: 0.1037 - accuracy: 0.9431 - val_loss: 0.1331 - val_accuracy: 0.9670\n",
            "Epoch 56/150\n",
            "37/37 [==============================] - 0s 3ms/step - loss: 0.0932 - accuracy: 0.9551 - val_loss: 0.1325 - val_accuracy: 0.9670\n",
            "Epoch 57/150\n",
            "37/37 [==============================] - 0s 3ms/step - loss: 0.1114 - accuracy: 0.9329 - val_loss: 0.1335 - val_accuracy: 0.9670\n",
            "Epoch 58/150\n",
            "37/37 [==============================] - 0s 3ms/step - loss: 0.1205 - accuracy: 0.9302 - val_loss: 0.1326 - val_accuracy: 0.9670\n",
            "Epoch 59/150\n",
            "37/37 [==============================] - 0s 3ms/step - loss: 0.0863 - accuracy: 0.9746 - val_loss: 0.1331 - val_accuracy: 0.9670\n",
            "Epoch 60/150\n",
            "37/37 [==============================] - 0s 3ms/step - loss: 0.1026 - accuracy: 0.9430 - val_loss: 0.1345 - val_accuracy: 0.9670\n",
            "Epoch 61/150\n",
            "37/37 [==============================] - 0s 3ms/step - loss: 0.0886 - accuracy: 0.9601 - val_loss: 0.1330 - val_accuracy: 0.9670\n",
            "Epoch 62/150\n",
            "37/37 [==============================] - 0s 3ms/step - loss: 0.0980 - accuracy: 0.9564 - val_loss: 0.1342 - val_accuracy: 0.9670\n",
            "Epoch 63/150\n",
            "37/37 [==============================] - 0s 3ms/step - loss: 0.1117 - accuracy: 0.9393 - val_loss: 0.1347 - val_accuracy: 0.9670\n",
            "Epoch 64/150\n",
            "37/37 [==============================] - 0s 3ms/step - loss: 0.0763 - accuracy: 0.9716 - val_loss: 0.1352 - val_accuracy: 0.9670\n",
            "Epoch 65/150\n",
            "37/37 [==============================] - 0s 3ms/step - loss: 0.1149 - accuracy: 0.9439 - val_loss: 0.1356 - val_accuracy: 0.9670\n",
            "Epoch 66/150\n",
            "37/37 [==============================] - 0s 3ms/step - loss: 0.0898 - accuracy: 0.9465 - val_loss: 0.1365 - val_accuracy: 0.9670\n",
            "Epoch 67/150\n",
            "37/37 [==============================] - 0s 3ms/step - loss: 0.0851 - accuracy: 0.9534 - val_loss: 0.1355 - val_accuracy: 0.9670\n",
            "Epoch 68/150\n",
            "37/37 [==============================] - 0s 3ms/step - loss: 0.0832 - accuracy: 0.9676 - val_loss: 0.1361 - val_accuracy: 0.9670\n",
            "Epoch 69/150\n",
            "37/37 [==============================] - 0s 3ms/step - loss: 0.0789 - accuracy: 0.9662 - val_loss: 0.1360 - val_accuracy: 0.9670\n",
            "Epoch 70/150\n",
            "37/37 [==============================] - 0s 3ms/step - loss: 0.0941 - accuracy: 0.9592 - val_loss: 0.1365 - val_accuracy: 0.9780\n",
            "Epoch 71/150\n",
            "37/37 [==============================] - 0s 3ms/step - loss: 0.0663 - accuracy: 0.9725 - val_loss: 0.1380 - val_accuracy: 0.9670\n",
            "Epoch 72/150\n",
            "37/37 [==============================] - 0s 3ms/step - loss: 0.0776 - accuracy: 0.9628 - val_loss: 0.1372 - val_accuracy: 0.9780\n",
            "Epoch 73/150\n",
            "37/37 [==============================] - 0s 3ms/step - loss: 0.1038 - accuracy: 0.9475 - val_loss: 0.1366 - val_accuracy: 0.9780\n",
            "Epoch 74/150\n",
            "37/37 [==============================] - 0s 3ms/step - loss: 0.0847 - accuracy: 0.9674 - val_loss: 0.1391 - val_accuracy: 0.9780\n",
            "Epoch 75/150\n",
            "37/37 [==============================] - 0s 3ms/step - loss: 0.0911 - accuracy: 0.9540 - val_loss: 0.1397 - val_accuracy: 0.9780\n",
            "Epoch 76/150\n",
            "37/37 [==============================] - 0s 3ms/step - loss: 0.0790 - accuracy: 0.9532 - val_loss: 0.1384 - val_accuracy: 0.9780\n",
            "Epoch 77/150\n",
            "37/37 [==============================] - 0s 3ms/step - loss: 0.0969 - accuracy: 0.9437 - val_loss: 0.1398 - val_accuracy: 0.9780\n",
            "Epoch 78/150\n",
            "37/37 [==============================] - 0s 3ms/step - loss: 0.1006 - accuracy: 0.9361 - val_loss: 0.1387 - val_accuracy: 0.9780\n",
            "Epoch 79/150\n",
            "37/37 [==============================] - 0s 3ms/step - loss: 0.0969 - accuracy: 0.9489 - val_loss: 0.1388 - val_accuracy: 0.9780\n",
            "Epoch 80/150\n",
            "37/37 [==============================] - 0s 3ms/step - loss: 0.1118 - accuracy: 0.9449 - val_loss: 0.1388 - val_accuracy: 0.9780\n",
            "Epoch 81/150\n",
            "37/37 [==============================] - 0s 3ms/step - loss: 0.0757 - accuracy: 0.9703 - val_loss: 0.1385 - val_accuracy: 0.9780\n",
            "Epoch 82/150\n",
            "37/37 [==============================] - 0s 3ms/step - loss: 0.0986 - accuracy: 0.9567 - val_loss: 0.1393 - val_accuracy: 0.9780\n",
            "Epoch 83/150\n",
            "37/37 [==============================] - 0s 3ms/step - loss: 0.0769 - accuracy: 0.9687 - val_loss: 0.1404 - val_accuracy: 0.9780\n",
            "Epoch 84/150\n",
            "37/37 [==============================] - 0s 3ms/step - loss: 0.0920 - accuracy: 0.9463 - val_loss: 0.1409 - val_accuracy: 0.9780\n",
            "Epoch 85/150\n",
            "37/37 [==============================] - 0s 3ms/step - loss: 0.0944 - accuracy: 0.9548 - val_loss: 0.1405 - val_accuracy: 0.9780\n",
            "Epoch 86/150\n",
            "37/37 [==============================] - 0s 3ms/step - loss: 0.0933 - accuracy: 0.9613 - val_loss: 0.1419 - val_accuracy: 0.9780\n",
            "Epoch 87/150\n",
            "37/37 [==============================] - 0s 3ms/step - loss: 0.0853 - accuracy: 0.9523 - val_loss: 0.1420 - val_accuracy: 0.9780\n",
            "Epoch 88/150\n",
            "37/37 [==============================] - 0s 3ms/step - loss: 0.0659 - accuracy: 0.9802 - val_loss: 0.1413 - val_accuracy: 0.9780\n",
            "Epoch 89/150\n",
            "37/37 [==============================] - 0s 3ms/step - loss: 0.0866 - accuracy: 0.9597 - val_loss: 0.1417 - val_accuracy: 0.9780\n",
            "Epoch 90/150\n",
            "37/37 [==============================] - 0s 3ms/step - loss: 0.0752 - accuracy: 0.9618 - val_loss: 0.1417 - val_accuracy: 0.9780\n",
            "Epoch 91/150\n",
            "37/37 [==============================] - 0s 3ms/step - loss: 0.0871 - accuracy: 0.9535 - val_loss: 0.1425 - val_accuracy: 0.9780\n",
            "Epoch 92/150\n",
            "37/37 [==============================] - 0s 3ms/step - loss: 0.0800 - accuracy: 0.9649 - val_loss: 0.1433 - val_accuracy: 0.9780\n",
            "Epoch 93/150\n",
            "37/37 [==============================] - 0s 3ms/step - loss: 0.0888 - accuracy: 0.9656 - val_loss: 0.1425 - val_accuracy: 0.9780\n",
            "Epoch 94/150\n",
            "37/37 [==============================] - 0s 3ms/step - loss: 0.0961 - accuracy: 0.9425 - val_loss: 0.1424 - val_accuracy: 0.9890\n",
            "Epoch 95/150\n",
            "37/37 [==============================] - 0s 3ms/step - loss: 0.0880 - accuracy: 0.9644 - val_loss: 0.1428 - val_accuracy: 0.9890\n",
            "Epoch 96/150\n",
            "37/37 [==============================] - 0s 3ms/step - loss: 0.1046 - accuracy: 0.9588 - val_loss: 0.1439 - val_accuracy: 0.9780\n",
            "Epoch 97/150\n",
            "37/37 [==============================] - 0s 3ms/step - loss: 0.0835 - accuracy: 0.9658 - val_loss: 0.1442 - val_accuracy: 0.9780\n",
            "Epoch 98/150\n",
            "37/37 [==============================] - 0s 3ms/step - loss: 0.0783 - accuracy: 0.9609 - val_loss: 0.1441 - val_accuracy: 0.9890\n",
            "Epoch 99/150\n",
            "37/37 [==============================] - 0s 3ms/step - loss: 0.0936 - accuracy: 0.9502 - val_loss: 0.1438 - val_accuracy: 0.9890\n",
            "Epoch 100/150\n",
            "37/37 [==============================] - 0s 3ms/step - loss: 0.0648 - accuracy: 0.9677 - val_loss: 0.1441 - val_accuracy: 0.9890\n",
            "Epoch 101/150\n",
            "37/37 [==============================] - 0s 3ms/step - loss: 0.0955 - accuracy: 0.9487 - val_loss: 0.1445 - val_accuracy: 0.9780\n",
            "Epoch 102/150\n",
            "37/37 [==============================] - 0s 3ms/step - loss: 0.0761 - accuracy: 0.9592 - val_loss: 0.1459 - val_accuracy: 0.9780\n",
            "Epoch 103/150\n",
            "37/37 [==============================] - 0s 3ms/step - loss: 0.0691 - accuracy: 0.9567 - val_loss: 0.1460 - val_accuracy: 0.9780\n",
            "Epoch 104/150\n",
            "37/37 [==============================] - 0s 3ms/step - loss: 0.0698 - accuracy: 0.9667 - val_loss: 0.1445 - val_accuracy: 0.9780\n",
            "Epoch 105/150\n",
            "37/37 [==============================] - 0s 3ms/step - loss: 0.0773 - accuracy: 0.9748 - val_loss: 0.1452 - val_accuracy: 0.9780\n",
            "Epoch 106/150\n",
            "37/37 [==============================] - 0s 4ms/step - loss: 0.0677 - accuracy: 0.9577 - val_loss: 0.1461 - val_accuracy: 0.9780\n",
            "Epoch 107/150\n",
            "37/37 [==============================] - 0s 3ms/step - loss: 0.0693 - accuracy: 0.9697 - val_loss: 0.1458 - val_accuracy: 0.9780\n",
            "Epoch 108/150\n",
            "37/37 [==============================] - 0s 4ms/step - loss: 0.0804 - accuracy: 0.9668 - val_loss: 0.1460 - val_accuracy: 0.9780\n",
            "Epoch 109/150\n",
            "37/37 [==============================] - 0s 4ms/step - loss: 0.0729 - accuracy: 0.9691 - val_loss: 0.1460 - val_accuracy: 0.9780\n",
            "Epoch 110/150\n",
            "37/37 [==============================] - 0s 3ms/step - loss: 0.0881 - accuracy: 0.9602 - val_loss: 0.1474 - val_accuracy: 0.9780\n",
            "Epoch 111/150\n",
            "37/37 [==============================] - 0s 3ms/step - loss: 0.0671 - accuracy: 0.9706 - val_loss: 0.1475 - val_accuracy: 0.9780\n",
            "Epoch 112/150\n",
            "37/37 [==============================] - 0s 3ms/step - loss: 0.0699 - accuracy: 0.9677 - val_loss: 0.1476 - val_accuracy: 0.9780\n",
            "Epoch 113/150\n",
            "37/37 [==============================] - 0s 3ms/step - loss: 0.0758 - accuracy: 0.9721 - val_loss: 0.1472 - val_accuracy: 0.9780\n",
            "Epoch 114/150\n",
            "37/37 [==============================] - 0s 3ms/step - loss: 0.0681 - accuracy: 0.9737 - val_loss: 0.1479 - val_accuracy: 0.9780\n",
            "Epoch 115/150\n",
            "37/37 [==============================] - 0s 3ms/step - loss: 0.0953 - accuracy: 0.9582 - val_loss: 0.1477 - val_accuracy: 0.9780\n",
            "Epoch 116/150\n",
            "37/37 [==============================] - 0s 3ms/step - loss: 0.0965 - accuracy: 0.9637 - val_loss: 0.1484 - val_accuracy: 0.9780\n",
            "Epoch 117/150\n",
            "37/37 [==============================] - 0s 3ms/step - loss: 0.0496 - accuracy: 0.9844 - val_loss: 0.1487 - val_accuracy: 0.9780\n",
            "Epoch 118/150\n",
            "37/37 [==============================] - 0s 3ms/step - loss: 0.0571 - accuracy: 0.9803 - val_loss: 0.1486 - val_accuracy: 0.9780\n",
            "Epoch 119/150\n",
            "37/37 [==============================] - 0s 3ms/step - loss: 0.0774 - accuracy: 0.9645 - val_loss: 0.1487 - val_accuracy: 0.9780\n",
            "Epoch 120/150\n",
            "37/37 [==============================] - 0s 3ms/step - loss: 0.0510 - accuracy: 0.9801 - val_loss: 0.1489 - val_accuracy: 0.9780\n",
            "Epoch 121/150\n",
            "37/37 [==============================] - 0s 3ms/step - loss: 0.0749 - accuracy: 0.9606 - val_loss: 0.1497 - val_accuracy: 0.9780\n",
            "Epoch 122/150\n",
            "37/37 [==============================] - 0s 3ms/step - loss: 0.0940 - accuracy: 0.9605 - val_loss: 0.1496 - val_accuracy: 0.9780\n",
            "Epoch 123/150\n",
            "37/37 [==============================] - 0s 3ms/step - loss: 0.0732 - accuracy: 0.9713 - val_loss: 0.1499 - val_accuracy: 0.9780\n",
            "Epoch 124/150\n",
            "37/37 [==============================] - 0s 3ms/step - loss: 0.0589 - accuracy: 0.9761 - val_loss: 0.1516 - val_accuracy: 0.9780\n",
            "Epoch 125/150\n",
            "37/37 [==============================] - 0s 3ms/step - loss: 0.0626 - accuracy: 0.9806 - val_loss: 0.1495 - val_accuracy: 0.9780\n",
            "Epoch 126/150\n",
            "37/37 [==============================] - 0s 3ms/step - loss: 0.0989 - accuracy: 0.9471 - val_loss: 0.1501 - val_accuracy: 0.9780\n",
            "Epoch 127/150\n",
            "37/37 [==============================] - 0s 3ms/step - loss: 0.0677 - accuracy: 0.9660 - val_loss: 0.1504 - val_accuracy: 0.9780\n",
            "Epoch 128/150\n",
            "37/37 [==============================] - 0s 3ms/step - loss: 0.0529 - accuracy: 0.9788 - val_loss: 0.1511 - val_accuracy: 0.9780\n",
            "Epoch 129/150\n",
            "37/37 [==============================] - 0s 3ms/step - loss: 0.0805 - accuracy: 0.9492 - val_loss: 0.1513 - val_accuracy: 0.9780\n",
            "Epoch 130/150\n",
            "37/37 [==============================] - 0s 3ms/step - loss: 0.0560 - accuracy: 0.9769 - val_loss: 0.1515 - val_accuracy: 0.9780\n",
            "Epoch 131/150\n",
            "37/37 [==============================] - 0s 3ms/step - loss: 0.0597 - accuracy: 0.9779 - val_loss: 0.1518 - val_accuracy: 0.9780\n",
            "Epoch 132/150\n",
            "37/37 [==============================] - 0s 3ms/step - loss: 0.0648 - accuracy: 0.9725 - val_loss: 0.1524 - val_accuracy: 0.9780\n",
            "Epoch 133/150\n",
            "37/37 [==============================] - 0s 3ms/step - loss: 0.0779 - accuracy: 0.9611 - val_loss: 0.1524 - val_accuracy: 0.9780\n",
            "Epoch 134/150\n",
            "37/37 [==============================] - 0s 3ms/step - loss: 0.0658 - accuracy: 0.9681 - val_loss: 0.1526 - val_accuracy: 0.9780\n",
            "Epoch 135/150\n",
            "37/37 [==============================] - 0s 3ms/step - loss: 0.0470 - accuracy: 0.9858 - val_loss: 0.1534 - val_accuracy: 0.9780\n",
            "Epoch 136/150\n",
            "37/37 [==============================] - 0s 3ms/step - loss: 0.0489 - accuracy: 0.9841 - val_loss: 0.1536 - val_accuracy: 0.9780\n",
            "Epoch 137/150\n",
            "37/37 [==============================] - 0s 3ms/step - loss: 0.0723 - accuracy: 0.9704 - val_loss: 0.1545 - val_accuracy: 0.9780\n",
            "Epoch 138/150\n",
            "37/37 [==============================] - 0s 3ms/step - loss: 0.0462 - accuracy: 0.9824 - val_loss: 0.1548 - val_accuracy: 0.9780\n",
            "Epoch 139/150\n",
            "37/37 [==============================] - 0s 3ms/step - loss: 0.0631 - accuracy: 0.9819 - val_loss: 0.1557 - val_accuracy: 0.9780\n",
            "Epoch 140/150\n",
            "37/37 [==============================] - 0s 3ms/step - loss: 0.0561 - accuracy: 0.9835 - val_loss: 0.1564 - val_accuracy: 0.9780\n",
            "Epoch 141/150\n",
            "37/37 [==============================] - 0s 3ms/step - loss: 0.0603 - accuracy: 0.9712 - val_loss: 0.1569 - val_accuracy: 0.9780\n",
            "Epoch 142/150\n",
            "37/37 [==============================] - 0s 3ms/step - loss: 0.0625 - accuracy: 0.9762 - val_loss: 0.1573 - val_accuracy: 0.9780\n",
            "Epoch 143/150\n",
            "37/37 [==============================] - 0s 3ms/step - loss: 0.0625 - accuracy: 0.9770 - val_loss: 0.1574 - val_accuracy: 0.9780\n",
            "Epoch 144/150\n",
            "37/37 [==============================] - 0s 3ms/step - loss: 0.0721 - accuracy: 0.9770 - val_loss: 0.1585 - val_accuracy: 0.9780\n",
            "Epoch 145/150\n",
            "37/37 [==============================] - 0s 3ms/step - loss: 0.0845 - accuracy: 0.9673 - val_loss: 0.1596 - val_accuracy: 0.9780\n",
            "Epoch 146/150\n",
            "37/37 [==============================] - 0s 3ms/step - loss: 0.0709 - accuracy: 0.9693 - val_loss: 0.1599 - val_accuracy: 0.9780\n",
            "Epoch 147/150\n",
            "37/37 [==============================] - 0s 3ms/step - loss: 0.0842 - accuracy: 0.9790 - val_loss: 0.1616 - val_accuracy: 0.9780\n",
            "Epoch 148/150\n",
            "37/37 [==============================] - 0s 3ms/step - loss: 0.0565 - accuracy: 0.9776 - val_loss: 0.1627 - val_accuracy: 0.9780\n",
            "Epoch 149/150\n",
            "37/37 [==============================] - 0s 3ms/step - loss: 0.0656 - accuracy: 0.9769 - val_loss: 0.1630 - val_accuracy: 0.9780\n",
            "Epoch 150/150\n",
            "37/37 [==============================] - 0s 4ms/step - loss: 0.0568 - accuracy: 0.9839 - val_loss: 0.1647 - val_accuracy: 0.9780\n"
          ],
          "name": "stdout"
        }
      ]
    },
    {
      "cell_type": "code",
      "metadata": {
        "id": "30uaEkLjkhMT"
      },
      "source": [
        "# now lets visualize the Loss and Val_Loss to check how the loss value is optimized.\n",
        "#get the model_adam history in distory dictionary\n",
        "model2_history_dict=model2_history.history"
      ],
      "id": "30uaEkLjkhMT",
      "execution_count": null,
      "outputs": []
    },
    {
      "cell_type": "code",
      "metadata": {
        "colab": {
          "base_uri": "https://localhost:8080/",
          "height": 639
        },
        "id": "S2WGQfsXkhQA",
        "outputId": "764dea30-8ef0-4fe6-b99d-93b634874631"
      },
      "source": [
        "# Plot for Loss vs Val Loss with Adam optimizer\n",
        "adam_loss=model2_history_dict[\"loss\"]\n",
        "adam_val_loss=model2_history_dict[\"val_loss\"]\n",
        "plt.figure(figsize=(12,10))\n",
        "plt.plot(adam_loss,\"b\",label=\"Training-Loss\")\n",
        "plt.plot(adam_val_loss,\"g\",label=\"Val-Training-Loss\")\n",
        "plt.legend()\n",
        "plt.title(\"Loss VS Val_loss With ADAM optimizer\")\n",
        "plt.xlabel(\"Epochs\")"
      ],
      "id": "S2WGQfsXkhQA",
      "execution_count": null,
      "outputs": [
        {
          "output_type": "execute_result",
          "data": {
            "text/plain": [
              "Text(0.5, 0, 'Epochs')"
            ]
          },
          "metadata": {
            "tags": []
          },
          "execution_count": 49
        },
        {
          "output_type": "display_data",
          "data": {
            "image/png": "[encoded data removed]",
            "text/plain": [
              "<Figure size 864x720 with 1 Axes>"
            ]
          },
          "metadata": {
            "tags": [],
            "needs_background": "light"
          }
        }
      ]
    },
    {
      "cell_type": "code",
      "metadata": {
        "colab": {
          "base_uri": "https://localhost:8080/",
          "height": 639
        },
        "id": "6BmECsMYkhUU",
        "outputId": "1d5f714d-99e7-4277-d939-a14f3185c8a2"
      },
      "source": [
        "# Plot for acc vs Val Loss Adam optimizer\n",
        "acc_adam=model2_history_dict[\"accuracy\"]\n",
        "val_acc_adam=model2_history_dict[\"val_accuracy\"]\n",
        "plt.figure(figsize=(12,10))\n",
        "plt.plot(acc_adam,\"b\",label=\"Training-Accuracy\")\n",
        "plt.plot(val_acc_adam,\"g\",label=\"Val-Accuracy\")\n",
        "plt.legend()\n",
        "plt.title(\"Accuracy VS Val_Accuracy\")\n",
        "plt.xlabel(\"Epochs\")"
      ],
      "id": "6BmECsMYkhUU",
      "execution_count": null,
      "outputs": [
        {
          "output_type": "execute_result",
          "data": {
            "text/plain": [
              "Text(0.5, 0, 'Epochs')"
            ]
          },
          "metadata": {
            "tags": []
          },
          "execution_count": 50
        },
        {
          "output_type": "display_data",
          "data": {
            "image/png": "[encoded data removed]",
            "text/plain": [
              "<Figure size 864x720 with 1 Axes>"
            ]
          },
          "metadata": {
            "tags": [],
            "needs_background": "light"
          }
        }
      ]
    },
    {
      "cell_type": "code",
      "metadata": {
        "colab": {
          "base_uri": "https://localhost:8080/"
        },
        "id": "84YcV6vokhXT",
        "outputId": "16b62605-3cba-4583-a233-d3706b53d588"
      },
      "source": [
        "# our model is trained well using ADAM optimizer and now lets check the accuracy of the test data\n",
        "model2_test_loss, model2_test_acc =model2.evaluate(X_test,Y_test)\n",
        "print(\"Accuracy of the Mode2 on test data is :\", model2_test_acc)\n",
        "print(\"Test loss of the Mode2 on test data is :\", model2_test_loss)"
      ],
      "id": "84YcV6vokhXT",
      "execution_count": null,
      "outputs": [
        {
          "output_type": "stream",
          "text": [
            "4/4 [==============================] - 0s 3ms/step - loss: 0.3170 - accuracy: 0.9474\n",
            "Accuracy of the Mode2 on test data is : 0.9473684430122375\n",
            "Test loss of the Mode2 on test data is : 0.317045658826828\n"
          ],
          "name": "stdout"
        }
      ]
    },
    {
      "cell_type": "code",
      "metadata": {
        "id": "kFl9cWVTlcTd"
      },
      "source": [
        "#Lets check prediction using model2\n",
        "model2_y_pred= model2.predict(X_test)\n",
        "model2_y_pred = (model2_y_pred > 0.5)"
      ],
      "id": "kFl9cWVTlcTd",
      "execution_count": null,
      "outputs": []
    },
    {
      "cell_type": "code",
      "metadata": {
        "colab": {
          "base_uri": "https://localhost:8080/"
        },
        "id": "sXq-7PTN4tR6",
        "outputId": "95d97405-9ecb-4ddc-d41b-3c9479e0f029"
      },
      "source": [
        "from sklearn.metrics import confusion_matrix, classification_report\n",
        "cm2 = confusion_matrix(Y_test, model2_y_pred)\n",
        "print(\"Confusion Matrix\")\n",
        "print(cm2)"
      ],
      "id": "sXq-7PTN4tR6",
      "execution_count": null,
      "outputs": [
        {
          "output_type": "stream",
          "text": [
            "Confusion Matrix\n",
            "[[71  1]\n",
            " [ 5 37]]\n"
          ],
          "name": "stdout"
        }
      ]
    },
    {
      "cell_type": "code",
      "metadata": {
        "colab": {
          "base_uri": "https://localhost:8080/"
        },
        "id": "3NCaza7Z4tR_",
        "outputId": "b5e9bae6-de88-4c09-90c8-9a4e64b1026a"
      },
      "source": [
        "#classification report for model name= model\n",
        "target_class=[\"M\", \"B\"]  #M=1, B=0\n",
        "print(\"Classification report model2\")\n",
        "print(classification_report(Y_test, model2_y_pred, target_names=target_class))"
      ],
      "id": "3NCaza7Z4tR_",
      "execution_count": null,
      "outputs": [
        {
          "output_type": "stream",
          "text": [
            "Classification report model2\n",
            "              precision    recall  f1-score   support\n",
            "\n",
            "           M       0.93      0.99      0.96        72\n",
            "           B       0.97      0.88      0.93        42\n",
            "\n",
            "    accuracy                           0.95       114\n",
            "   macro avg       0.95      0.93      0.94       114\n",
            "weighted avg       0.95      0.95      0.95       114\n",
            "\n"
          ],
          "name": "stdout"
        }
      ]
    },
    {
      "cell_type": "markdown",
      "metadata": {
        "id": "bfm7Qev53nSk"
      },
      "source": [
        "Now Building Model 3"
      ],
      "id": "bfm7Qev53nSk"
    },
    {
      "cell_type": "code",
      "metadata": {
        "id": "uWOl_DnUyAhp"
      },
      "source": [
        "#npw lets build another model with different parameters named model3 "
      ],
      "id": "uWOl_DnUyAhp",
      "execution_count": null,
      "outputs": []
    },
    {
      "cell_type": "code",
      "metadata": {
        "id": "_C2c9p-CyAnk"
      },
      "source": [
        "#Initlize our model again with new name model3\n",
        "model3=Sequential()\n",
        "#Now lets add the input layer first with 12 input features and 8 output units \n",
        "model3.add(Dense(units=8,kernel_initializer=\"he_uniform\", activation=\"relu\",input_dim=12))\n",
        "\n",
        "# add one hidden layer with 4 input nodes\n",
        "model3.add(Dense(units=4,kernel_initializer=\"he_uniform\", activation=\"relu\" ))\n",
        "\n",
        "# finally the output layer \n",
        "model3.add(Dense(units=1, kernel_initializer='glorot_uniform', activation=\"sigmoid\"))\n",
        "\n",
        "#compile the model3\n",
        "model3.compile(optimizer=\"Adamax\", loss=\"binary_crossentropy\", metrics=[\"accuracy\"])"
      ],
      "id": "_C2c9p-CyAnk",
      "execution_count": null,
      "outputs": []
    },
    {
      "cell_type": "code",
      "metadata": {
        "colab": {
          "base_uri": "https://localhost:8080/"
        },
        "id": "y8_Y6zaC5Jp1",
        "outputId": "28cd70be-d9a0-48fc-fc07-7915459e996e"
      },
      "source": [
        "# lets fit the model3\n",
        "model3_history=model3.fit(X_train,Y_train, validation_split=0.2,batch_size=10,epochs=150)"
      ],
      "id": "y8_Y6zaC5Jp1",
      "execution_count": null,
      "outputs": [
        {
          "output_type": "stream",
          "text": [
            "Epoch 1/150\n",
            "37/37 [==============================] - 1s 6ms/step - loss: 0.6277 - accuracy: 0.8097 - val_loss: 0.5945 - val_accuracy: 0.8901\n",
            "Epoch 2/150\n",
            "37/37 [==============================] - 0s 3ms/step - loss: 0.5978 - accuracy: 0.8702 - val_loss: 0.5521 - val_accuracy: 0.9121\n",
            "Epoch 3/150\n",
            "37/37 [==============================] - 0s 3ms/step - loss: 0.5477 - accuracy: 0.8926 - val_loss: 0.5121 - val_accuracy: 0.9341\n",
            "Epoch 4/150\n",
            "37/37 [==============================] - 0s 3ms/step - loss: 0.4993 - accuracy: 0.9267 - val_loss: 0.4700 - val_accuracy: 0.9341\n",
            "Epoch 5/150\n",
            "37/37 [==============================] - 0s 3ms/step - loss: 0.4516 - accuracy: 0.9210 - val_loss: 0.4179 - val_accuracy: 0.9451\n",
            "Epoch 6/150\n",
            "37/37 [==============================] - 0s 3ms/step - loss: 0.4158 - accuracy: 0.9240 - val_loss: 0.3562 - val_accuracy: 0.9451\n",
            "Epoch 7/150\n",
            "37/37 [==============================] - 0s 3ms/step - loss: 0.3580 - accuracy: 0.9265 - val_loss: 0.3023 - val_accuracy: 0.9451\n",
            "Epoch 8/150\n",
            "37/37 [==============================] - 0s 3ms/step - loss: 0.3189 - accuracy: 0.9328 - val_loss: 0.2642 - val_accuracy: 0.9451\n",
            "Epoch 9/150\n",
            "37/37 [==============================] - 0s 3ms/step - loss: 0.3005 - accuracy: 0.9219 - val_loss: 0.2368 - val_accuracy: 0.9451\n",
            "Epoch 10/150\n",
            "37/37 [==============================] - 0s 3ms/step - loss: 0.2459 - accuracy: 0.9407 - val_loss: 0.2164 - val_accuracy: 0.9670\n",
            "Epoch 11/150\n",
            "37/37 [==============================] - 0s 3ms/step - loss: 0.2185 - accuracy: 0.9451 - val_loss: 0.2003 - val_accuracy: 0.9670\n",
            "Epoch 12/150\n",
            "37/37 [==============================] - 0s 3ms/step - loss: 0.2242 - accuracy: 0.9275 - val_loss: 0.1884 - val_accuracy: 0.9670\n",
            "Epoch 13/150\n",
            "37/37 [==============================] - 0s 3ms/step - loss: 0.2123 - accuracy: 0.9355 - val_loss: 0.1787 - val_accuracy: 0.9560\n",
            "Epoch 14/150\n",
            "37/37 [==============================] - 0s 3ms/step - loss: 0.2021 - accuracy: 0.9441 - val_loss: 0.1709 - val_accuracy: 0.9560\n",
            "Epoch 15/150\n",
            "37/37 [==============================] - 0s 3ms/step - loss: 0.1906 - accuracy: 0.9454 - val_loss: 0.1649 - val_accuracy: 0.9560\n",
            "Epoch 16/150\n",
            "37/37 [==============================] - 0s 3ms/step - loss: 0.2002 - accuracy: 0.9298 - val_loss: 0.1601 - val_accuracy: 0.9560\n",
            "Epoch 17/150\n",
            "37/37 [==============================] - 0s 3ms/step - loss: 0.1775 - accuracy: 0.9443 - val_loss: 0.1557 - val_accuracy: 0.9560\n",
            "Epoch 18/150\n",
            "37/37 [==============================] - 0s 3ms/step - loss: 0.1736 - accuracy: 0.9402 - val_loss: 0.1526 - val_accuracy: 0.9560\n",
            "Epoch 19/150\n",
            "37/37 [==============================] - 0s 3ms/step - loss: 0.1513 - accuracy: 0.9561 - val_loss: 0.1497 - val_accuracy: 0.9560\n",
            "Epoch 20/150\n",
            "37/37 [==============================] - 0s 3ms/step - loss: 0.1784 - accuracy: 0.9457 - val_loss: 0.1473 - val_accuracy: 0.9560\n",
            "Epoch 21/150\n",
            "37/37 [==============================] - 0s 3ms/step - loss: 0.1725 - accuracy: 0.9377 - val_loss: 0.1454 - val_accuracy: 0.9560\n",
            "Epoch 22/150\n",
            "37/37 [==============================] - 0s 3ms/step - loss: 0.1601 - accuracy: 0.9397 - val_loss: 0.1442 - val_accuracy: 0.9560\n",
            "Epoch 23/150\n",
            "37/37 [==============================] - 0s 3ms/step - loss: 0.1519 - accuracy: 0.9494 - val_loss: 0.1424 - val_accuracy: 0.9560\n",
            "Epoch 24/150\n",
            "37/37 [==============================] - 0s 3ms/step - loss: 0.1714 - accuracy: 0.9238 - val_loss: 0.1414 - val_accuracy: 0.9560\n",
            "Epoch 25/150\n",
            "37/37 [==============================] - 0s 3ms/step - loss: 0.1348 - accuracy: 0.9552 - val_loss: 0.1402 - val_accuracy: 0.9560\n",
            "Epoch 26/150\n",
            "37/37 [==============================] - 0s 3ms/step - loss: 0.1398 - accuracy: 0.9568 - val_loss: 0.1393 - val_accuracy: 0.9560\n",
            "Epoch 27/150\n",
            "37/37 [==============================] - 0s 3ms/step - loss: 0.1361 - accuracy: 0.9558 - val_loss: 0.1382 - val_accuracy: 0.9560\n",
            "Epoch 28/150\n",
            "37/37 [==============================] - 0s 3ms/step - loss: 0.1177 - accuracy: 0.9554 - val_loss: 0.1376 - val_accuracy: 0.9560\n",
            "Epoch 29/150\n",
            "37/37 [==============================] - 0s 3ms/step - loss: 0.1202 - accuracy: 0.9594 - val_loss: 0.1373 - val_accuracy: 0.9560\n",
            "Epoch 30/150\n",
            "37/37 [==============================] - 0s 3ms/step - loss: 0.1449 - accuracy: 0.9329 - val_loss: 0.1369 - val_accuracy: 0.9560\n",
            "Epoch 31/150\n",
            "37/37 [==============================] - 0s 3ms/step - loss: 0.1109 - accuracy: 0.9643 - val_loss: 0.1365 - val_accuracy: 0.9560\n",
            "Epoch 32/150\n",
            "37/37 [==============================] - 0s 3ms/step - loss: 0.1297 - accuracy: 0.9485 - val_loss: 0.1360 - val_accuracy: 0.9560\n",
            "Epoch 33/150\n",
            "37/37 [==============================] - 0s 3ms/step - loss: 0.1261 - accuracy: 0.9439 - val_loss: 0.1357 - val_accuracy: 0.9560\n",
            "Epoch 34/150\n",
            "37/37 [==============================] - 0s 3ms/step - loss: 0.1186 - accuracy: 0.9438 - val_loss: 0.1355 - val_accuracy: 0.9560\n",
            "Epoch 35/150\n",
            "37/37 [==============================] - 0s 3ms/step - loss: 0.1256 - accuracy: 0.9477 - val_loss: 0.1353 - val_accuracy: 0.9560\n",
            "Epoch 36/150\n",
            "37/37 [==============================] - 0s 3ms/step - loss: 0.1103 - accuracy: 0.9622 - val_loss: 0.1353 - val_accuracy: 0.9560\n",
            "Epoch 37/150\n",
            "37/37 [==============================] - 0s 3ms/step - loss: 0.1148 - accuracy: 0.9502 - val_loss: 0.1350 - val_accuracy: 0.9560\n",
            "Epoch 38/150\n",
            "37/37 [==============================] - 0s 3ms/step - loss: 0.1380 - accuracy: 0.9354 - val_loss: 0.1350 - val_accuracy: 0.9560\n",
            "Epoch 39/150\n",
            "37/37 [==============================] - 0s 3ms/step - loss: 0.1139 - accuracy: 0.9537 - val_loss: 0.1347 - val_accuracy: 0.9560\n",
            "Epoch 40/150\n",
            "37/37 [==============================] - 0s 3ms/step - loss: 0.1313 - accuracy: 0.9467 - val_loss: 0.1347 - val_accuracy: 0.9560\n",
            "Epoch 41/150\n",
            "37/37 [==============================] - 0s 3ms/step - loss: 0.1088 - accuracy: 0.9572 - val_loss: 0.1349 - val_accuracy: 0.9560\n",
            "Epoch 42/150\n",
            "37/37 [==============================] - 0s 3ms/step - loss: 0.1243 - accuracy: 0.9420 - val_loss: 0.1348 - val_accuracy: 0.9560\n",
            "Epoch 43/150\n",
            "37/37 [==============================] - 0s 3ms/step - loss: 0.1250 - accuracy: 0.9460 - val_loss: 0.1349 - val_accuracy: 0.9560\n",
            "Epoch 44/150\n",
            "37/37 [==============================] - 0s 3ms/step - loss: 0.1411 - accuracy: 0.9179 - val_loss: 0.1348 - val_accuracy: 0.9560\n",
            "Epoch 45/150\n",
            "37/37 [==============================] - 0s 3ms/step - loss: 0.1266 - accuracy: 0.9298 - val_loss: 0.1349 - val_accuracy: 0.9560\n",
            "Epoch 46/150\n",
            "37/37 [==============================] - 0s 3ms/step - loss: 0.1045 - accuracy: 0.9476 - val_loss: 0.1348 - val_accuracy: 0.9560\n",
            "Epoch 47/150\n",
            "37/37 [==============================] - 0s 3ms/step - loss: 0.1326 - accuracy: 0.9236 - val_loss: 0.1353 - val_accuracy: 0.9560\n",
            "Epoch 48/150\n",
            "37/37 [==============================] - 0s 3ms/step - loss: 0.1150 - accuracy: 0.9375 - val_loss: 0.1352 - val_accuracy: 0.9560\n",
            "Epoch 49/150\n",
            "37/37 [==============================] - 0s 3ms/step - loss: 0.1103 - accuracy: 0.9530 - val_loss: 0.1352 - val_accuracy: 0.9560\n",
            "Epoch 50/150\n",
            "37/37 [==============================] - 0s 3ms/step - loss: 0.1348 - accuracy: 0.9185 - val_loss: 0.1355 - val_accuracy: 0.9560\n",
            "Epoch 51/150\n",
            "37/37 [==============================] - 0s 3ms/step - loss: 0.1255 - accuracy: 0.9307 - val_loss: 0.1354 - val_accuracy: 0.9560\n",
            "Epoch 52/150\n",
            "37/37 [==============================] - 0s 3ms/step - loss: 0.1343 - accuracy: 0.9287 - val_loss: 0.1355 - val_accuracy: 0.9560\n",
            "Epoch 53/150\n",
            "37/37 [==============================] - 0s 3ms/step - loss: 0.0926 - accuracy: 0.9567 - val_loss: 0.1359 - val_accuracy: 0.9560\n",
            "Epoch 54/150\n",
            "37/37 [==============================] - 0s 3ms/step - loss: 0.0964 - accuracy: 0.9587 - val_loss: 0.1361 - val_accuracy: 0.9560\n",
            "Epoch 55/150\n",
            "37/37 [==============================] - 0s 3ms/step - loss: 0.0953 - accuracy: 0.9514 - val_loss: 0.1362 - val_accuracy: 0.9560\n",
            "Epoch 56/150\n",
            "37/37 [==============================] - 0s 3ms/step - loss: 0.1254 - accuracy: 0.9206 - val_loss: 0.1361 - val_accuracy: 0.9560\n",
            "Epoch 57/150\n",
            "37/37 [==============================] - 0s 3ms/step - loss: 0.1069 - accuracy: 0.9421 - val_loss: 0.1363 - val_accuracy: 0.9560\n",
            "Epoch 58/150\n",
            "37/37 [==============================] - 0s 3ms/step - loss: 0.1035 - accuracy: 0.9407 - val_loss: 0.1365 - val_accuracy: 0.9560\n",
            "Epoch 59/150\n",
            "37/37 [==============================] - 0s 3ms/step - loss: 0.0902 - accuracy: 0.9581 - val_loss: 0.1367 - val_accuracy: 0.9560\n",
            "Epoch 60/150\n",
            "37/37 [==============================] - 0s 3ms/step - loss: 0.1481 - accuracy: 0.9119 - val_loss: 0.1365 - val_accuracy: 0.9560\n",
            "Epoch 61/150\n",
            "37/37 [==============================] - 0s 3ms/step - loss: 0.0990 - accuracy: 0.9428 - val_loss: 0.1367 - val_accuracy: 0.9560\n",
            "Epoch 62/150\n",
            "37/37 [==============================] - 0s 3ms/step - loss: 0.0988 - accuracy: 0.9408 - val_loss: 0.1368 - val_accuracy: 0.9560\n",
            "Epoch 63/150\n",
            "37/37 [==============================] - 0s 3ms/step - loss: 0.1228 - accuracy: 0.9238 - val_loss: 0.1368 - val_accuracy: 0.9560\n",
            "Epoch 64/150\n",
            "37/37 [==============================] - 0s 3ms/step - loss: 0.1008 - accuracy: 0.9457 - val_loss: 0.1369 - val_accuracy: 0.9560\n",
            "Epoch 65/150\n",
            "37/37 [==============================] - 0s 3ms/step - loss: 0.0937 - accuracy: 0.9551 - val_loss: 0.1369 - val_accuracy: 0.9560\n",
            "Epoch 66/150\n",
            "37/37 [==============================] - 0s 3ms/step - loss: 0.1172 - accuracy: 0.9444 - val_loss: 0.1368 - val_accuracy: 0.9560\n",
            "Epoch 67/150\n",
            "37/37 [==============================] - 0s 3ms/step - loss: 0.1404 - accuracy: 0.9197 - val_loss: 0.1372 - val_accuracy: 0.9560\n",
            "Epoch 68/150\n",
            "37/37 [==============================] - 0s 3ms/step - loss: 0.1109 - accuracy: 0.9428 - val_loss: 0.1372 - val_accuracy: 0.9560\n",
            "Epoch 69/150\n",
            "37/37 [==============================] - 0s 3ms/step - loss: 0.1076 - accuracy: 0.9440 - val_loss: 0.1372 - val_accuracy: 0.9560\n",
            "Epoch 70/150\n",
            "37/37 [==============================] - 0s 3ms/step - loss: 0.1340 - accuracy: 0.9165 - val_loss: 0.1370 - val_accuracy: 0.9560\n",
            "Epoch 71/150\n",
            "37/37 [==============================] - 0s 3ms/step - loss: 0.1249 - accuracy: 0.9235 - val_loss: 0.1372 - val_accuracy: 0.9560\n",
            "Epoch 72/150\n",
            "37/37 [==============================] - 0s 3ms/step - loss: 0.0895 - accuracy: 0.9400 - val_loss: 0.1373 - val_accuracy: 0.9560\n",
            "Epoch 73/150\n",
            "37/37 [==============================] - 0s 3ms/step - loss: 0.0908 - accuracy: 0.9430 - val_loss: 0.1375 - val_accuracy: 0.9560\n",
            "Epoch 74/150\n",
            "37/37 [==============================] - 0s 3ms/step - loss: 0.1007 - accuracy: 0.9384 - val_loss: 0.1375 - val_accuracy: 0.9560\n",
            "Epoch 75/150\n",
            "37/37 [==============================] - 0s 3ms/step - loss: 0.1039 - accuracy: 0.9380 - val_loss: 0.1376 - val_accuracy: 0.9560\n",
            "Epoch 76/150\n",
            "37/37 [==============================] - 0s 3ms/step - loss: 0.1029 - accuracy: 0.9343 - val_loss: 0.1379 - val_accuracy: 0.9560\n",
            "Epoch 77/150\n",
            "37/37 [==============================] - 0s 3ms/step - loss: 0.1005 - accuracy: 0.9405 - val_loss: 0.1381 - val_accuracy: 0.9560\n",
            "Epoch 78/150\n",
            "37/37 [==============================] - 0s 3ms/step - loss: 0.0923 - accuracy: 0.9560 - val_loss: 0.1381 - val_accuracy: 0.9560\n",
            "Epoch 79/150\n",
            "37/37 [==============================] - 0s 3ms/step - loss: 0.1076 - accuracy: 0.9468 - val_loss: 0.1380 - val_accuracy: 0.9560\n",
            "Epoch 80/150\n",
            "37/37 [==============================] - 0s 3ms/step - loss: 0.0950 - accuracy: 0.9509 - val_loss: 0.1379 - val_accuracy: 0.9560\n",
            "Epoch 81/150\n",
            "37/37 [==============================] - 0s 3ms/step - loss: 0.1000 - accuracy: 0.9436 - val_loss: 0.1377 - val_accuracy: 0.9560\n",
            "Epoch 82/150\n",
            "37/37 [==============================] - 0s 3ms/step - loss: 0.0900 - accuracy: 0.9433 - val_loss: 0.1376 - val_accuracy: 0.9560\n",
            "Epoch 83/150\n",
            "37/37 [==============================] - 0s 3ms/step - loss: 0.1300 - accuracy: 0.9262 - val_loss: 0.1377 - val_accuracy: 0.9560\n",
            "Epoch 84/150\n",
            "37/37 [==============================] - 0s 3ms/step - loss: 0.0899 - accuracy: 0.9518 - val_loss: 0.1377 - val_accuracy: 0.9560\n",
            "Epoch 85/150\n",
            "37/37 [==============================] - 0s 3ms/step - loss: 0.0954 - accuracy: 0.9498 - val_loss: 0.1377 - val_accuracy: 0.9560\n",
            "Epoch 86/150\n",
            "37/37 [==============================] - 0s 3ms/step - loss: 0.1375 - accuracy: 0.9222 - val_loss: 0.1375 - val_accuracy: 0.9560\n",
            "Epoch 87/150\n",
            "37/37 [==============================] - 0s 3ms/step - loss: 0.0764 - accuracy: 0.9612 - val_loss: 0.1376 - val_accuracy: 0.9560\n",
            "Epoch 88/150\n",
            "37/37 [==============================] - 0s 3ms/step - loss: 0.0934 - accuracy: 0.9506 - val_loss: 0.1372 - val_accuracy: 0.9560\n",
            "Epoch 89/150\n",
            "37/37 [==============================] - 0s 3ms/step - loss: 0.1270 - accuracy: 0.9227 - val_loss: 0.1371 - val_accuracy: 0.9560\n",
            "Epoch 90/150\n",
            "37/37 [==============================] - 0s 3ms/step - loss: 0.1128 - accuracy: 0.9392 - val_loss: 0.1368 - val_accuracy: 0.9560\n",
            "Epoch 91/150\n",
            "37/37 [==============================] - 0s 3ms/step - loss: 0.0863 - accuracy: 0.9597 - val_loss: 0.1368 - val_accuracy: 0.9560\n",
            "Epoch 92/150\n",
            "37/37 [==============================] - 0s 3ms/step - loss: 0.1036 - accuracy: 0.9559 - val_loss: 0.1367 - val_accuracy: 0.9560\n",
            "Epoch 93/150\n",
            "37/37 [==============================] - 0s 3ms/step - loss: 0.1035 - accuracy: 0.9533 - val_loss: 0.1361 - val_accuracy: 0.9560\n",
            "Epoch 94/150\n",
            "37/37 [==============================] - 0s 3ms/step - loss: 0.0933 - accuracy: 0.9552 - val_loss: 0.1363 - val_accuracy: 0.9560\n",
            "Epoch 95/150\n",
            "37/37 [==============================] - 0s 3ms/step - loss: 0.0807 - accuracy: 0.9601 - val_loss: 0.1361 - val_accuracy: 0.9560\n",
            "Epoch 96/150\n",
            "37/37 [==============================] - 0s 4ms/step - loss: 0.0921 - accuracy: 0.9594 - val_loss: 0.1362 - val_accuracy: 0.9560\n",
            "Epoch 97/150\n",
            "37/37 [==============================] - 0s 3ms/step - loss: 0.0981 - accuracy: 0.9452 - val_loss: 0.1354 - val_accuracy: 0.9560\n",
            "Epoch 98/150\n",
            "37/37 [==============================] - 0s 3ms/step - loss: 0.0969 - accuracy: 0.9537 - val_loss: 0.1352 - val_accuracy: 0.9560\n",
            "Epoch 99/150\n",
            "37/37 [==============================] - 0s 3ms/step - loss: 0.0805 - accuracy: 0.9653 - val_loss: 0.1352 - val_accuracy: 0.9560\n",
            "Epoch 100/150\n",
            "37/37 [==============================] - 0s 3ms/step - loss: 0.0879 - accuracy: 0.9590 - val_loss: 0.1353 - val_accuracy: 0.9560\n",
            "Epoch 101/150\n",
            "37/37 [==============================] - 0s 3ms/step - loss: 0.0967 - accuracy: 0.9510 - val_loss: 0.1350 - val_accuracy: 0.9560\n",
            "Epoch 102/150\n",
            "37/37 [==============================] - 0s 3ms/step - loss: 0.1167 - accuracy: 0.9397 - val_loss: 0.1350 - val_accuracy: 0.9560\n",
            "Epoch 103/150\n",
            "37/37 [==============================] - 0s 3ms/step - loss: 0.0837 - accuracy: 0.9671 - val_loss: 0.1349 - val_accuracy: 0.9560\n",
            "Epoch 104/150\n",
            "37/37 [==============================] - 0s 3ms/step - loss: 0.0701 - accuracy: 0.9669 - val_loss: 0.1351 - val_accuracy: 0.9560\n",
            "Epoch 105/150\n",
            "37/37 [==============================] - 0s 3ms/step - loss: 0.0865 - accuracy: 0.9518 - val_loss: 0.1347 - val_accuracy: 0.9560\n",
            "Epoch 106/150\n",
            "37/37 [==============================] - 0s 3ms/step - loss: 0.0770 - accuracy: 0.9603 - val_loss: 0.1347 - val_accuracy: 0.9560\n",
            "Epoch 107/150\n",
            "37/37 [==============================] - 0s 3ms/step - loss: 0.0871 - accuracy: 0.9649 - val_loss: 0.1347 - val_accuracy: 0.9560\n",
            "Epoch 108/150\n",
            "37/37 [==============================] - 0s 3ms/step - loss: 0.0901 - accuracy: 0.9513 - val_loss: 0.1345 - val_accuracy: 0.9560\n",
            "Epoch 109/150\n",
            "37/37 [==============================] - 0s 3ms/step - loss: 0.0737 - accuracy: 0.9622 - val_loss: 0.1346 - val_accuracy: 0.9560\n",
            "Epoch 110/150\n",
            "37/37 [==============================] - 0s 3ms/step - loss: 0.0868 - accuracy: 0.9559 - val_loss: 0.1347 - val_accuracy: 0.9560\n",
            "Epoch 111/150\n",
            "37/37 [==============================] - 0s 3ms/step - loss: 0.0685 - accuracy: 0.9690 - val_loss: 0.1343 - val_accuracy: 0.9560\n",
            "Epoch 112/150\n",
            "37/37 [==============================] - 0s 3ms/step - loss: 0.0952 - accuracy: 0.9458 - val_loss: 0.1343 - val_accuracy: 0.9560\n",
            "Epoch 113/150\n",
            "37/37 [==============================] - 0s 3ms/step - loss: 0.0922 - accuracy: 0.9488 - val_loss: 0.1344 - val_accuracy: 0.9560\n",
            "Epoch 114/150\n",
            "37/37 [==============================] - 0s 3ms/step - loss: 0.0821 - accuracy: 0.9547 - val_loss: 0.1341 - val_accuracy: 0.9560\n",
            "Epoch 115/150\n",
            "37/37 [==============================] - 0s 3ms/step - loss: 0.0833 - accuracy: 0.9574 - val_loss: 0.1342 - val_accuracy: 0.9560\n",
            "Epoch 116/150\n",
            "37/37 [==============================] - 0s 3ms/step - loss: 0.0798 - accuracy: 0.9707 - val_loss: 0.1339 - val_accuracy: 0.9560\n",
            "Epoch 117/150\n",
            "37/37 [==============================] - 0s 4ms/step - loss: 0.0911 - accuracy: 0.9567 - val_loss: 0.1337 - val_accuracy: 0.9560\n",
            "Epoch 118/150\n",
            "37/37 [==============================] - 0s 3ms/step - loss: 0.0958 - accuracy: 0.9525 - val_loss: 0.1336 - val_accuracy: 0.9560\n",
            "Epoch 119/150\n",
            "37/37 [==============================] - 0s 3ms/step - loss: 0.0816 - accuracy: 0.9606 - val_loss: 0.1335 - val_accuracy: 0.9560\n",
            "Epoch 120/150\n",
            "37/37 [==============================] - 0s 3ms/step - loss: 0.0938 - accuracy: 0.9541 - val_loss: 0.1333 - val_accuracy: 0.9560\n",
            "Epoch 121/150\n",
            "37/37 [==============================] - 0s 3ms/step - loss: 0.0744 - accuracy: 0.9645 - val_loss: 0.1335 - val_accuracy: 0.9560\n",
            "Epoch 122/150\n",
            "37/37 [==============================] - 0s 3ms/step - loss: 0.0935 - accuracy: 0.9574 - val_loss: 0.1333 - val_accuracy: 0.9560\n",
            "Epoch 123/150\n",
            "37/37 [==============================] - 0s 3ms/step - loss: 0.0843 - accuracy: 0.9611 - val_loss: 0.1331 - val_accuracy: 0.9560\n",
            "Epoch 124/150\n",
            "37/37 [==============================] - 0s 3ms/step - loss: 0.1065 - accuracy: 0.9430 - val_loss: 0.1327 - val_accuracy: 0.9560\n",
            "Epoch 125/150\n",
            "37/37 [==============================] - 0s 3ms/step - loss: 0.0734 - accuracy: 0.9608 - val_loss: 0.1329 - val_accuracy: 0.9560\n",
            "Epoch 126/150\n",
            "37/37 [==============================] - 0s 3ms/step - loss: 0.0884 - accuracy: 0.9426 - val_loss: 0.1324 - val_accuracy: 0.9560\n",
            "Epoch 127/150\n",
            "37/37 [==============================] - 0s 3ms/step - loss: 0.0974 - accuracy: 0.9406 - val_loss: 0.1323 - val_accuracy: 0.9560\n",
            "Epoch 128/150\n",
            "37/37 [==============================] - 0s 3ms/step - loss: 0.0836 - accuracy: 0.9651 - val_loss: 0.1325 - val_accuracy: 0.9560\n",
            "Epoch 129/150\n",
            "37/37 [==============================] - 0s 3ms/step - loss: 0.1095 - accuracy: 0.9492 - val_loss: 0.1323 - val_accuracy: 0.9560\n",
            "Epoch 130/150\n",
            "37/37 [==============================] - 0s 3ms/step - loss: 0.0773 - accuracy: 0.9702 - val_loss: 0.1323 - val_accuracy: 0.9560\n",
            "Epoch 131/150\n",
            "37/37 [==============================] - 0s 3ms/step - loss: 0.1007 - accuracy: 0.9442 - val_loss: 0.1324 - val_accuracy: 0.9560\n",
            "Epoch 132/150\n",
            "37/37 [==============================] - 0s 3ms/step - loss: 0.1065 - accuracy: 0.9509 - val_loss: 0.1322 - val_accuracy: 0.9560\n",
            "Epoch 133/150\n",
            "37/37 [==============================] - 0s 3ms/step - loss: 0.0778 - accuracy: 0.9644 - val_loss: 0.1322 - val_accuracy: 0.9560\n",
            "Epoch 134/150\n",
            "37/37 [==============================] - 0s 4ms/step - loss: 0.0839 - accuracy: 0.9551 - val_loss: 0.1320 - val_accuracy: 0.9560\n",
            "Epoch 135/150\n",
            "37/37 [==============================] - 0s 3ms/step - loss: 0.0914 - accuracy: 0.9586 - val_loss: 0.1319 - val_accuracy: 0.9560\n",
            "Epoch 136/150\n",
            "37/37 [==============================] - 0s 3ms/step - loss: 0.0874 - accuracy: 0.9502 - val_loss: 0.1321 - val_accuracy: 0.9560\n",
            "Epoch 137/150\n",
            "37/37 [==============================] - 0s 3ms/step - loss: 0.0764 - accuracy: 0.9616 - val_loss: 0.1320 - val_accuracy: 0.9560\n",
            "Epoch 138/150\n",
            "37/37 [==============================] - 0s 3ms/step - loss: 0.1127 - accuracy: 0.9423 - val_loss: 0.1322 - val_accuracy: 0.9560\n",
            "Epoch 139/150\n",
            "37/37 [==============================] - 0s 3ms/step - loss: 0.0667 - accuracy: 0.9725 - val_loss: 0.1324 - val_accuracy: 0.9560\n",
            "Epoch 140/150\n",
            "37/37 [==============================] - 0s 3ms/step - loss: 0.0866 - accuracy: 0.9554 - val_loss: 0.1324 - val_accuracy: 0.9560\n",
            "Epoch 141/150\n",
            "37/37 [==============================] - 0s 3ms/step - loss: 0.1068 - accuracy: 0.9486 - val_loss: 0.1323 - val_accuracy: 0.9670\n",
            "Epoch 142/150\n",
            "37/37 [==============================] - 0s 3ms/step - loss: 0.1049 - accuracy: 0.9462 - val_loss: 0.1322 - val_accuracy: 0.9670\n",
            "Epoch 143/150\n",
            "37/37 [==============================] - 0s 3ms/step - loss: 0.0791 - accuracy: 0.9644 - val_loss: 0.1322 - val_accuracy: 0.9670\n",
            "Epoch 144/150\n",
            "37/37 [==============================] - 0s 3ms/step - loss: 0.0816 - accuracy: 0.9609 - val_loss: 0.1322 - val_accuracy: 0.9560\n",
            "Epoch 145/150\n",
            "37/37 [==============================] - 0s 3ms/step - loss: 0.0958 - accuracy: 0.9556 - val_loss: 0.1318 - val_accuracy: 0.9560\n",
            "Epoch 146/150\n",
            "37/37 [==============================] - 0s 3ms/step - loss: 0.0798 - accuracy: 0.9559 - val_loss: 0.1316 - val_accuracy: 0.9670\n",
            "Epoch 147/150\n",
            "37/37 [==============================] - 0s 3ms/step - loss: 0.0940 - accuracy: 0.9455 - val_loss: 0.1317 - val_accuracy: 0.9670\n",
            "Epoch 148/150\n",
            "37/37 [==============================] - 0s 3ms/step - loss: 0.0695 - accuracy: 0.9734 - val_loss: 0.1316 - val_accuracy: 0.9670\n",
            "Epoch 149/150\n",
            "37/37 [==============================] - 0s 3ms/step - loss: 0.0564 - accuracy: 0.9766 - val_loss: 0.1312 - val_accuracy: 0.9560\n",
            "Epoch 150/150\n",
            "37/37 [==============================] - 0s 3ms/step - loss: 0.1093 - accuracy: 0.9445 - val_loss: 0.1315 - val_accuracy: 0.9670\n"
          ],
          "name": "stdout"
        }
      ]
    },
    {
      "cell_type": "code",
      "metadata": {
        "id": "cD3yXdsf5RRy"
      },
      "source": [
        "# now lets visualize the Loss and Val_Loss to check how the loss value is optimized.\n",
        "#get the model3 history in dictionary dictionary\n",
        "model3_history_dict=model3_history.history"
      ],
      "id": "cD3yXdsf5RRy",
      "execution_count": null,
      "outputs": []
    },
    {
      "cell_type": "code",
      "metadata": {
        "colab": {
          "base_uri": "https://localhost:8080/",
          "height": 639
        },
        "id": "5M4q9fIA5RU2",
        "outputId": "d286788f-ad33-4f17-8f45-cacbbf165e1b"
      },
      "source": [
        "# Plot for Loss vs Val Loss Model3\n",
        "loss_model3=model3_history_dict[\"loss\"]\n",
        "val_loss_model3=model3_history_dict[\"val_loss\"]\n",
        "plt.figure(figsize=(12,10))\n",
        "plt.plot(loss_model3,\"b\",label=\"Training-Loss\")\n",
        "plt.plot(val_loss_model3,\"g\",label=\"Val-Training-Loss\")\n",
        "plt.legend()\n",
        "plt.title(\"Loss VS Val_loss Model3\")\n",
        "plt.xlabel(\"Epochs\")"
      ],
      "id": "5M4q9fIA5RU2",
      "execution_count": null,
      "outputs": [
        {
          "output_type": "execute_result",
          "data": {
            "text/plain": [
              "Text(0.5, 0, 'Epochs')"
            ]
          },
          "metadata": {
            "tags": []
          },
          "execution_count": 59
        },
        {
          "output_type": "display_data",
          "data": {
            "image/png": "[encoded data removed]",
            "text/plain": [
              "<Figure size 864x720 with 1 Axes>"
            ]
          },
          "metadata": {
            "tags": [],
            "needs_background": "light"
          }
        }
      ]
    },
    {
      "cell_type": "code",
      "metadata": {
        "colab": {
          "base_uri": "https://localhost:8080/",
          "height": 639
        },
        "id": "iwdlyun25RZl",
        "outputId": "868caba5-2077-485e-805d-d0c0fe2f3e9c"
      },
      "source": [
        "# Plot for acc vs Val Loss Model3\n",
        "acc_model3=model3_history_dict[\"accuracy\"]\n",
        "val_acc_model3=model3_history_dict[\"val_accuracy\"]\n",
        "plt.figure(figsize=(12,10))\n",
        "plt.plot(acc_model3,\"b\",label=\"Training-Accuracy\")\n",
        "plt.plot(val_acc_model3,\"g\",label=\"Val-Accuracy\")\n",
        "plt.legend()\n",
        "plt.title(\"Accuracy VS Val_Accuracy  Model3\")\n",
        "plt.xlabel(\"Epochs\")"
      ],
      "id": "iwdlyun25RZl",
      "execution_count": null,
      "outputs": [
        {
          "output_type": "execute_result",
          "data": {
            "text/plain": [
              "Text(0.5, 0, 'Epochs')"
            ]
          },
          "metadata": {
            "tags": []
          },
          "execution_count": 60
        },
        {
          "output_type": "display_data",
          "data": {
            "image/png": "[encoded data removed]",
            "text/plain": [
              "<Figure size 864x720 with 1 Axes>"
            ]
          },
          "metadata": {
            "tags": [],
            "needs_background": "light"
          }
        }
      ]
    },
    {
      "cell_type": "code",
      "metadata": {
        "colab": {
          "base_uri": "https://localhost:8080/"
        },
        "id": "PsmWUysP5RdA",
        "outputId": "765e9ecb-6ed1-461c-c5d0-7e4e755d730d"
      },
      "source": [
        "# our model3 is trained well and now lets check the accuracy of the test data\n",
        "test_loss_model3, test_acc_model3 =model3.evaluate(X_test,Y_test)\n",
        "print(\"Accuracy of the Model3 on test data is :\", test_acc_model3)\n",
        "print(\"Test loss of the Model3 on test data is :\", test_loss_model3)"
      ],
      "id": "PsmWUysP5RdA",
      "execution_count": null,
      "outputs": [
        {
          "output_type": "stream",
          "text": [
            "4/4 [==============================] - 0s 2ms/step - loss: 0.2027 - accuracy: 0.9474\n",
            "Accuracy of the Model3 on test data is : 0.9473684430122375\n",
            "Test loss of the Model3 on test data is : 0.20265714824199677\n"
          ],
          "name": "stdout"
        }
      ]
    },
    {
      "cell_type": "code",
      "metadata": {
        "id": "KDMPq13551l0"
      },
      "source": [
        "#Lets check prediction using model3\n",
        "model3_y_pred= model3.predict(X_test)\n",
        "model3_y_pred = (model3_y_pred > 0.5)"
      ],
      "id": "KDMPq13551l0",
      "execution_count": null,
      "outputs": []
    },
    {
      "cell_type": "code",
      "metadata": {
        "colab": {
          "base_uri": "https://localhost:8080/"
        },
        "id": "eODsVcBI51l4",
        "outputId": "cf7ffb83-7113-41ca-f20e-9d09a04bd175"
      },
      "source": [
        "from sklearn.metrics import confusion_matrix, classification_report\n",
        "cm3 = confusion_matrix(Y_test, model3_y_pred)\n",
        "print(\"Confusion Matrix\")\n",
        "print(cm3)"
      ],
      "id": "eODsVcBI51l4",
      "execution_count": null,
      "outputs": [
        {
          "output_type": "stream",
          "text": [
            "Confusion Matrix\n",
            "[[71  1]\n",
            " [ 5 37]]\n"
          ],
          "name": "stdout"
        }
      ]
    },
    {
      "cell_type": "code",
      "metadata": {
        "colab": {
          "base_uri": "https://localhost:8080/"
        },
        "id": "NYn4BQat51l9",
        "outputId": "eaffe48b-b0f2-4937-937e-974fb88ecc1e"
      },
      "source": [
        "#classification report for model name= model\n",
        "target_class=[\"M\", \"B\"]  #M=1, B=0\n",
        "print(\"Classification report model3\")\n",
        "print(classification_report(Y_test, model3_y_pred, target_names=target_class))"
      ],
      "id": "NYn4BQat51l9",
      "execution_count": null,
      "outputs": [
        {
          "output_type": "stream",
          "text": [
            "Classification report model3\n",
            "              precision    recall  f1-score   support\n",
            "\n",
            "           M       0.93      0.99      0.96        72\n",
            "           B       0.97      0.88      0.93        42\n",
            "\n",
            "    accuracy                           0.95       114\n",
            "   macro avg       0.95      0.93      0.94       114\n",
            "weighted avg       0.95      0.95      0.95       114\n",
            "\n"
          ],
          "name": "stdout"
        }
      ]
    },
    {
      "cell_type": "markdown",
      "metadata": {
        "id": "NUN49VaT38Ow"
      },
      "source": [
        "Building Model 4"
      ],
      "id": "NUN49VaT38Ow"
    },
    {
      "cell_type": "code",
      "metadata": {
        "id": "Dyt7Te7VyAr_"
      },
      "source": [
        "#Initlize our model again with new name model4\n",
        "model4=Sequential()\n",
        "#Now lets add the input layer first with 12 input features and 5 output units \n",
        "model4.add(Dense(units=6,kernel_initializer=\"he_uniform\", activation=\"relu\",input_dim=12))\n",
        "\n",
        "# add one hidden layer with 5 input nodes\n",
        "model4.add(Dense(units=3,kernel_initializer=\"he_uniform\", activation=\"relu\" ))\n",
        "\n",
        "# finally the output layer \n",
        "model4.add(Dense(units=1, kernel_initializer='glorot_uniform', activation=\"sigmoid\"))\n",
        "\n",
        "#compile the model\n",
        "model4.compile(optimizer=\"Adamax\", loss=\"binary_crossentropy\", metrics=[\"accuracy\"])"
      ],
      "id": "Dyt7Te7VyAr_",
      "execution_count": null,
      "outputs": []
    },
    {
      "cell_type": "code",
      "metadata": {
        "colab": {
          "base_uri": "https://localhost:8080/"
        },
        "id": "dnSGHBxRyAwC",
        "outputId": "ddd57ddd-9ac2-4380-b7db-23e45d55e64f"
      },
      "source": [
        "# lets fit the model4\n",
        "model4_history=model4.fit(X_train,Y_train, validation_split=0.2,batch_size=10,epochs=200)"
      ],
      "id": "dnSGHBxRyAwC",
      "execution_count": null,
      "outputs": [
        {
          "output_type": "stream",
          "text": [
            "Epoch 1/200\n",
            "37/37 [==============================] - 1s 7ms/step - loss: 0.7674 - accuracy: 0.2836 - val_loss: 0.6567 - val_accuracy: 0.3956\n",
            "Epoch 2/200\n",
            "37/37 [==============================] - 0s 4ms/step - loss: 0.6774 - accuracy: 0.3968 - val_loss: 0.6119 - val_accuracy: 0.5495\n",
            "Epoch 3/200\n",
            "37/37 [==============================] - 0s 3ms/step - loss: 0.6133 - accuracy: 0.5551 - val_loss: 0.5794 - val_accuracy: 0.7143\n",
            "Epoch 4/200\n",
            "37/37 [==============================] - 0s 4ms/step - loss: 0.5965 - accuracy: 0.6522 - val_loss: 0.5540 - val_accuracy: 0.8132\n",
            "Epoch 5/200\n",
            "37/37 [==============================] - 0s 3ms/step - loss: 0.5783 - accuracy: 0.7869 - val_loss: 0.5299 - val_accuracy: 0.9121\n",
            "Epoch 6/200\n",
            "37/37 [==============================] - 0s 3ms/step - loss: 0.5394 - accuracy: 0.8650 - val_loss: 0.5009 - val_accuracy: 0.9341\n",
            "Epoch 7/200\n",
            "37/37 [==============================] - 0s 3ms/step - loss: 0.5085 - accuracy: 0.8682 - val_loss: 0.4682 - val_accuracy: 0.9451\n",
            "Epoch 8/200\n",
            "37/37 [==============================] - 0s 3ms/step - loss: 0.4910 - accuracy: 0.8805 - val_loss: 0.4325 - val_accuracy: 0.9560\n",
            "Epoch 9/200\n",
            "37/37 [==============================] - 0s 3ms/step - loss: 0.4246 - accuracy: 0.9156 - val_loss: 0.3955 - val_accuracy: 0.9560\n",
            "Epoch 10/200\n",
            "37/37 [==============================] - 0s 3ms/step - loss: 0.4099 - accuracy: 0.9107 - val_loss: 0.3618 - val_accuracy: 0.9560\n",
            "Epoch 11/200\n",
            "37/37 [==============================] - 0s 3ms/step - loss: 0.3775 - accuracy: 0.9028 - val_loss: 0.3270 - val_accuracy: 0.9560\n",
            "Epoch 12/200\n",
            "37/37 [==============================] - 0s 3ms/step - loss: 0.3354 - accuracy: 0.9170 - val_loss: 0.2949 - val_accuracy: 0.9560\n",
            "Epoch 13/200\n",
            "37/37 [==============================] - 0s 3ms/step - loss: 0.3010 - accuracy: 0.9213 - val_loss: 0.2672 - val_accuracy: 0.9560\n",
            "Epoch 14/200\n",
            "37/37 [==============================] - 0s 3ms/step - loss: 0.2768 - accuracy: 0.9431 - val_loss: 0.2428 - val_accuracy: 0.9560\n",
            "Epoch 15/200\n",
            "37/37 [==============================] - 0s 3ms/step - loss: 0.2298 - accuracy: 0.9462 - val_loss: 0.2226 - val_accuracy: 0.9560\n",
            "Epoch 16/200\n",
            "37/37 [==============================] - 0s 3ms/step - loss: 0.2356 - accuracy: 0.9351 - val_loss: 0.2061 - val_accuracy: 0.9560\n",
            "Epoch 17/200\n",
            "37/37 [==============================] - 0s 3ms/step - loss: 0.2206 - accuracy: 0.9246 - val_loss: 0.1925 - val_accuracy: 0.9560\n",
            "Epoch 18/200\n",
            "37/37 [==============================] - 0s 3ms/step - loss: 0.2075 - accuracy: 0.9423 - val_loss: 0.1812 - val_accuracy: 0.9560\n",
            "Epoch 19/200\n",
            "37/37 [==============================] - 0s 3ms/step - loss: 0.1928 - accuracy: 0.9244 - val_loss: 0.1724 - val_accuracy: 0.9560\n",
            "Epoch 20/200\n",
            "37/37 [==============================] - 0s 3ms/step - loss: 0.1832 - accuracy: 0.9228 - val_loss: 0.1652 - val_accuracy: 0.9560\n",
            "Epoch 21/200\n",
            "37/37 [==============================] - 0s 3ms/step - loss: 0.1796 - accuracy: 0.9026 - val_loss: 0.1592 - val_accuracy: 0.9560\n",
            "Epoch 22/200\n",
            "37/37 [==============================] - 0s 3ms/step - loss: 0.1577 - accuracy: 0.9295 - val_loss: 0.1543 - val_accuracy: 0.9560\n",
            "Epoch 23/200\n",
            "37/37 [==============================] - 0s 3ms/step - loss: 0.1560 - accuracy: 0.9327 - val_loss: 0.1504 - val_accuracy: 0.9560\n",
            "Epoch 24/200\n",
            "37/37 [==============================] - 0s 3ms/step - loss: 0.1473 - accuracy: 0.9360 - val_loss: 0.1475 - val_accuracy: 0.9560\n",
            "Epoch 25/200\n",
            "37/37 [==============================] - 0s 3ms/step - loss: 0.1634 - accuracy: 0.9170 - val_loss: 0.1448 - val_accuracy: 0.9560\n",
            "Epoch 26/200\n",
            "37/37 [==============================] - 0s 3ms/step - loss: 0.1453 - accuracy: 0.9255 - val_loss: 0.1430 - val_accuracy: 0.9560\n",
            "Epoch 27/200\n",
            "37/37 [==============================] - 0s 3ms/step - loss: 0.1425 - accuracy: 0.9247 - val_loss: 0.1416 - val_accuracy: 0.9560\n",
            "Epoch 28/200\n",
            "37/37 [==============================] - 0s 3ms/step - loss: 0.1465 - accuracy: 0.9082 - val_loss: 0.1410 - val_accuracy: 0.9560\n",
            "Epoch 29/200\n",
            "37/37 [==============================] - 0s 3ms/step - loss: 0.1550 - accuracy: 0.9066 - val_loss: 0.1401 - val_accuracy: 0.9560\n",
            "Epoch 30/200\n",
            "37/37 [==============================] - 0s 3ms/step - loss: 0.1354 - accuracy: 0.9208 - val_loss: 0.1398 - val_accuracy: 0.9560\n",
            "Epoch 31/200\n",
            "37/37 [==============================] - 0s 3ms/step - loss: 0.1182 - accuracy: 0.9342 - val_loss: 0.1396 - val_accuracy: 0.9560\n",
            "Epoch 32/200\n",
            "37/37 [==============================] - 0s 3ms/step - loss: 0.1377 - accuracy: 0.9225 - val_loss: 0.1394 - val_accuracy: 0.9560\n",
            "Epoch 33/200\n",
            "37/37 [==============================] - 0s 3ms/step - loss: 0.1499 - accuracy: 0.9139 - val_loss: 0.1389 - val_accuracy: 0.9560\n",
            "Epoch 34/200\n",
            "37/37 [==============================] - 0s 3ms/step - loss: 0.1187 - accuracy: 0.9290 - val_loss: 0.1390 - val_accuracy: 0.9560\n",
            "Epoch 35/200\n",
            "37/37 [==============================] - 0s 3ms/step - loss: 0.1381 - accuracy: 0.9108 - val_loss: 0.1390 - val_accuracy: 0.9560\n",
            "Epoch 36/200\n",
            "37/37 [==============================] - 0s 3ms/step - loss: 0.1400 - accuracy: 0.9142 - val_loss: 0.1388 - val_accuracy: 0.9560\n",
            "Epoch 37/200\n",
            "37/37 [==============================] - 0s 3ms/step - loss: 0.1173 - accuracy: 0.9376 - val_loss: 0.1389 - val_accuracy: 0.9560\n",
            "Epoch 38/200\n",
            "37/37 [==============================] - 0s 3ms/step - loss: 0.1348 - accuracy: 0.9188 - val_loss: 0.1389 - val_accuracy: 0.9560\n",
            "Epoch 39/200\n",
            "37/37 [==============================] - 0s 3ms/step - loss: 0.1236 - accuracy: 0.9381 - val_loss: 0.1390 - val_accuracy: 0.9560\n",
            "Epoch 40/200\n",
            "37/37 [==============================] - 0s 3ms/step - loss: 0.1252 - accuracy: 0.9312 - val_loss: 0.1387 - val_accuracy: 0.9560\n",
            "Epoch 41/200\n",
            "37/37 [==============================] - 0s 3ms/step - loss: 0.1264 - accuracy: 0.9299 - val_loss: 0.1387 - val_accuracy: 0.9560\n",
            "Epoch 42/200\n",
            "37/37 [==============================] - 0s 3ms/step - loss: 0.1093 - accuracy: 0.9378 - val_loss: 0.1386 - val_accuracy: 0.9560\n",
            "Epoch 43/200\n",
            "37/37 [==============================] - 0s 3ms/step - loss: 0.1006 - accuracy: 0.9413 - val_loss: 0.1390 - val_accuracy: 0.9560\n",
            "Epoch 44/200\n",
            "37/37 [==============================] - 0s 3ms/step - loss: 0.1132 - accuracy: 0.9262 - val_loss: 0.1390 - val_accuracy: 0.9560\n",
            "Epoch 45/200\n",
            "37/37 [==============================] - 0s 3ms/step - loss: 0.1072 - accuracy: 0.9418 - val_loss: 0.1387 - val_accuracy: 0.9560\n",
            "Epoch 46/200\n",
            "37/37 [==============================] - 0s 3ms/step - loss: 0.1542 - accuracy: 0.8990 - val_loss: 0.1388 - val_accuracy: 0.9560\n",
            "Epoch 47/200\n",
            "37/37 [==============================] - 0s 3ms/step - loss: 0.1212 - accuracy: 0.9307 - val_loss: 0.1391 - val_accuracy: 0.9560\n",
            "Epoch 48/200\n",
            "37/37 [==============================] - 0s 3ms/step - loss: 0.1051 - accuracy: 0.9416 - val_loss: 0.1387 - val_accuracy: 0.9560\n",
            "Epoch 49/200\n",
            "37/37 [==============================] - 0s 3ms/step - loss: 0.1412 - accuracy: 0.9075 - val_loss: 0.1388 - val_accuracy: 0.9560\n",
            "Epoch 50/200\n",
            "37/37 [==============================] - 0s 3ms/step - loss: 0.1148 - accuracy: 0.9398 - val_loss: 0.1389 - val_accuracy: 0.9560\n",
            "Epoch 51/200\n",
            "37/37 [==============================] - 0s 3ms/step - loss: 0.1160 - accuracy: 0.9340 - val_loss: 0.1385 - val_accuracy: 0.9560\n",
            "Epoch 52/200\n",
            "37/37 [==============================] - 0s 3ms/step - loss: 0.1228 - accuracy: 0.9268 - val_loss: 0.1387 - val_accuracy: 0.9560\n",
            "Epoch 53/200\n",
            "37/37 [==============================] - 0s 3ms/step - loss: 0.1008 - accuracy: 0.9375 - val_loss: 0.1386 - val_accuracy: 0.9560\n",
            "Epoch 54/200\n",
            "37/37 [==============================] - 0s 3ms/step - loss: 0.1296 - accuracy: 0.9206 - val_loss: 0.1387 - val_accuracy: 0.9560\n",
            "Epoch 55/200\n",
            "37/37 [==============================] - 0s 3ms/step - loss: 0.0929 - accuracy: 0.9446 - val_loss: 0.1389 - val_accuracy: 0.9560\n",
            "Epoch 56/200\n",
            "37/37 [==============================] - 0s 3ms/step - loss: 0.1075 - accuracy: 0.9284 - val_loss: 0.1386 - val_accuracy: 0.9560\n",
            "Epoch 57/200\n",
            "37/37 [==============================] - 0s 3ms/step - loss: 0.0947 - accuracy: 0.9534 - val_loss: 0.1383 - val_accuracy: 0.9560\n",
            "Epoch 58/200\n",
            "37/37 [==============================] - 0s 3ms/step - loss: 0.0966 - accuracy: 0.9450 - val_loss: 0.1386 - val_accuracy: 0.9560\n",
            "Epoch 59/200\n",
            "37/37 [==============================] - 0s 3ms/step - loss: 0.0888 - accuracy: 0.9546 - val_loss: 0.1387 - val_accuracy: 0.9560\n",
            "Epoch 60/200\n",
            "37/37 [==============================] - 0s 3ms/step - loss: 0.1159 - accuracy: 0.9210 - val_loss: 0.1392 - val_accuracy: 0.9560\n",
            "Epoch 61/200\n",
            "37/37 [==============================] - 0s 3ms/step - loss: 0.1260 - accuracy: 0.9197 - val_loss: 0.1392 - val_accuracy: 0.9560\n",
            "Epoch 62/200\n",
            "37/37 [==============================] - 0s 3ms/step - loss: 0.1169 - accuracy: 0.9232 - val_loss: 0.1391 - val_accuracy: 0.9560\n",
            "Epoch 63/200\n",
            "37/37 [==============================] - 0s 3ms/step - loss: 0.1191 - accuracy: 0.9224 - val_loss: 0.1391 - val_accuracy: 0.9560\n",
            "Epoch 64/200\n",
            "37/37 [==============================] - 0s 3ms/step - loss: 0.1136 - accuracy: 0.9279 - val_loss: 0.1393 - val_accuracy: 0.9560\n",
            "Epoch 65/200\n",
            "37/37 [==============================] - 0s 3ms/step - loss: 0.1080 - accuracy: 0.9362 - val_loss: 0.1392 - val_accuracy: 0.9560\n",
            "Epoch 66/200\n",
            "37/37 [==============================] - 0s 3ms/step - loss: 0.0954 - accuracy: 0.9460 - val_loss: 0.1395 - val_accuracy: 0.9560\n",
            "Epoch 67/200\n",
            "37/37 [==============================] - 0s 3ms/step - loss: 0.1165 - accuracy: 0.9284 - val_loss: 0.1391 - val_accuracy: 0.9560\n",
            "Epoch 68/200\n",
            "37/37 [==============================] - 0s 3ms/step - loss: 0.1059 - accuracy: 0.9462 - val_loss: 0.1390 - val_accuracy: 0.9560\n",
            "Epoch 69/200\n",
            "37/37 [==============================] - 0s 3ms/step - loss: 0.1101 - accuracy: 0.9341 - val_loss: 0.1390 - val_accuracy: 0.9560\n",
            "Epoch 70/200\n",
            "37/37 [==============================] - 0s 3ms/step - loss: 0.1309 - accuracy: 0.9023 - val_loss: 0.1394 - val_accuracy: 0.9560\n",
            "Epoch 71/200\n",
            "37/37 [==============================] - 0s 3ms/step - loss: 0.1105 - accuracy: 0.9289 - val_loss: 0.1392 - val_accuracy: 0.9560\n",
            "Epoch 72/200\n",
            "37/37 [==============================] - 0s 3ms/step - loss: 0.0874 - accuracy: 0.9596 - val_loss: 0.1392 - val_accuracy: 0.9560\n",
            "Epoch 73/200\n",
            "37/37 [==============================] - 0s 3ms/step - loss: 0.1234 - accuracy: 0.9149 - val_loss: 0.1395 - val_accuracy: 0.9560\n",
            "Epoch 74/200\n",
            "37/37 [==============================] - 0s 3ms/step - loss: 0.1367 - accuracy: 0.9101 - val_loss: 0.1393 - val_accuracy: 0.9560\n",
            "Epoch 75/200\n",
            "37/37 [==============================] - 0s 3ms/step - loss: 0.1024 - accuracy: 0.9373 - val_loss: 0.1394 - val_accuracy: 0.9560\n",
            "Epoch 76/200\n",
            "37/37 [==============================] - 0s 3ms/step - loss: 0.0996 - accuracy: 0.9398 - val_loss: 0.1393 - val_accuracy: 0.9560\n",
            "Epoch 77/200\n",
            "37/37 [==============================] - 0s 3ms/step - loss: 0.1048 - accuracy: 0.9371 - val_loss: 0.1391 - val_accuracy: 0.9560\n",
            "Epoch 78/200\n",
            "37/37 [==============================] - 0s 3ms/step - loss: 0.1072 - accuracy: 0.9325 - val_loss: 0.1395 - val_accuracy: 0.9560\n",
            "Epoch 79/200\n",
            "37/37 [==============================] - 0s 3ms/step - loss: 0.0949 - accuracy: 0.9415 - val_loss: 0.1386 - val_accuracy: 0.9560\n",
            "Epoch 80/200\n",
            "37/37 [==============================] - 0s 3ms/step - loss: 0.1019 - accuracy: 0.9312 - val_loss: 0.1390 - val_accuracy: 0.9560\n",
            "Epoch 81/200\n",
            "37/37 [==============================] - 0s 3ms/step - loss: 0.1092 - accuracy: 0.9326 - val_loss: 0.1391 - val_accuracy: 0.9560\n",
            "Epoch 82/200\n",
            "37/37 [==============================] - 0s 3ms/step - loss: 0.0972 - accuracy: 0.9347 - val_loss: 0.1384 - val_accuracy: 0.9560\n",
            "Epoch 83/200\n",
            "37/37 [==============================] - 0s 3ms/step - loss: 0.1081 - accuracy: 0.9248 - val_loss: 0.1387 - val_accuracy: 0.9560\n",
            "Epoch 84/200\n",
            "37/37 [==============================] - 0s 3ms/step - loss: 0.1119 - accuracy: 0.9204 - val_loss: 0.1394 - val_accuracy: 0.9560\n",
            "Epoch 85/200\n",
            "37/37 [==============================] - 0s 3ms/step - loss: 0.1216 - accuracy: 0.9277 - val_loss: 0.1393 - val_accuracy: 0.9560\n",
            "Epoch 86/200\n",
            "37/37 [==============================] - 0s 3ms/step - loss: 0.1093 - accuracy: 0.9321 - val_loss: 0.1394 - val_accuracy: 0.9560\n",
            "Epoch 87/200\n",
            "37/37 [==============================] - 0s 3ms/step - loss: 0.1307 - accuracy: 0.9292 - val_loss: 0.1389 - val_accuracy: 0.9560\n",
            "Epoch 88/200\n",
            "37/37 [==============================] - 0s 3ms/step - loss: 0.1068 - accuracy: 0.9310 - val_loss: 0.1386 - val_accuracy: 0.9560\n",
            "Epoch 89/200\n",
            "37/37 [==============================] - 0s 3ms/step - loss: 0.1169 - accuracy: 0.9328 - val_loss: 0.1389 - val_accuracy: 0.9560\n",
            "Epoch 90/200\n",
            "37/37 [==============================] - 0s 3ms/step - loss: 0.0962 - accuracy: 0.9455 - val_loss: 0.1385 - val_accuracy: 0.9560\n",
            "Epoch 91/200\n",
            "37/37 [==============================] - 0s 3ms/step - loss: 0.1057 - accuracy: 0.9494 - val_loss: 0.1391 - val_accuracy: 0.9560\n",
            "Epoch 92/200\n",
            "37/37 [==============================] - 0s 3ms/step - loss: 0.0990 - accuracy: 0.9438 - val_loss: 0.1386 - val_accuracy: 0.9560\n",
            "Epoch 93/200\n",
            "37/37 [==============================] - 0s 3ms/step - loss: 0.0969 - accuracy: 0.9429 - val_loss: 0.1385 - val_accuracy: 0.9560\n",
            "Epoch 94/200\n",
            "37/37 [==============================] - 0s 3ms/step - loss: 0.1032 - accuracy: 0.9499 - val_loss: 0.1384 - val_accuracy: 0.9560\n",
            "Epoch 95/200\n",
            "37/37 [==============================] - 0s 3ms/step - loss: 0.0917 - accuracy: 0.9486 - val_loss: 0.1385 - val_accuracy: 0.9560\n",
            "Epoch 96/200\n",
            "37/37 [==============================] - 0s 3ms/step - loss: 0.1077 - accuracy: 0.9392 - val_loss: 0.1378 - val_accuracy: 0.9560\n",
            "Epoch 97/200\n",
            "37/37 [==============================] - 0s 3ms/step - loss: 0.1102 - accuracy: 0.9375 - val_loss: 0.1381 - val_accuracy: 0.9560\n",
            "Epoch 98/200\n",
            "37/37 [==============================] - 0s 3ms/step - loss: 0.1082 - accuracy: 0.9382 - val_loss: 0.1379 - val_accuracy: 0.9560\n",
            "Epoch 99/200\n",
            "37/37 [==============================] - 0s 3ms/step - loss: 0.1016 - accuracy: 0.9383 - val_loss: 0.1378 - val_accuracy: 0.9560\n",
            "Epoch 100/200\n",
            "37/37 [==============================] - 0s 3ms/step - loss: 0.1135 - accuracy: 0.9372 - val_loss: 0.1376 - val_accuracy: 0.9560\n",
            "Epoch 101/200\n",
            "37/37 [==============================] - 0s 3ms/step - loss: 0.0957 - accuracy: 0.9452 - val_loss: 0.1379 - val_accuracy: 0.9560\n",
            "Epoch 102/200\n",
            "37/37 [==============================] - 0s 3ms/step - loss: 0.0918 - accuracy: 0.9440 - val_loss: 0.1378 - val_accuracy: 0.9560\n",
            "Epoch 103/200\n",
            "37/37 [==============================] - 0s 3ms/step - loss: 0.1325 - accuracy: 0.9237 - val_loss: 0.1377 - val_accuracy: 0.9560\n",
            "Epoch 104/200\n",
            "37/37 [==============================] - 0s 3ms/step - loss: 0.1397 - accuracy: 0.9238 - val_loss: 0.1375 - val_accuracy: 0.9560\n",
            "Epoch 105/200\n",
            "37/37 [==============================] - 0s 4ms/step - loss: 0.1100 - accuracy: 0.9421 - val_loss: 0.1377 - val_accuracy: 0.9560\n",
            "Epoch 106/200\n",
            "37/37 [==============================] - 0s 4ms/step - loss: 0.1047 - accuracy: 0.9423 - val_loss: 0.1375 - val_accuracy: 0.9560\n",
            "Epoch 107/200\n",
            "37/37 [==============================] - 0s 3ms/step - loss: 0.1131 - accuracy: 0.9368 - val_loss: 0.1370 - val_accuracy: 0.9560\n",
            "Epoch 108/200\n",
            "37/37 [==============================] - 0s 3ms/step - loss: 0.1145 - accuracy: 0.9287 - val_loss: 0.1370 - val_accuracy: 0.9560\n",
            "Epoch 109/200\n",
            "37/37 [==============================] - 0s 3ms/step - loss: 0.1015 - accuracy: 0.9411 - val_loss: 0.1366 - val_accuracy: 0.9560\n",
            "Epoch 110/200\n",
            "37/37 [==============================] - 0s 3ms/step - loss: 0.1152 - accuracy: 0.9331 - val_loss: 0.1364 - val_accuracy: 0.9560\n",
            "Epoch 111/200\n",
            "37/37 [==============================] - 0s 3ms/step - loss: 0.1258 - accuracy: 0.9344 - val_loss: 0.1364 - val_accuracy: 0.9560\n",
            "Epoch 112/200\n",
            "37/37 [==============================] - 0s 3ms/step - loss: 0.0944 - accuracy: 0.9502 - val_loss: 0.1363 - val_accuracy: 0.9560\n",
            "Epoch 113/200\n",
            "37/37 [==============================] - 0s 3ms/step - loss: 0.0901 - accuracy: 0.9536 - val_loss: 0.1366 - val_accuracy: 0.9560\n",
            "Epoch 114/200\n",
            "37/37 [==============================] - 0s 3ms/step - loss: 0.1120 - accuracy: 0.9344 - val_loss: 0.1361 - val_accuracy: 0.9560\n",
            "Epoch 115/200\n",
            "37/37 [==============================] - 0s 3ms/step - loss: 0.0858 - accuracy: 0.9608 - val_loss: 0.1358 - val_accuracy: 0.9560\n",
            "Epoch 116/200\n",
            "37/37 [==============================] - 0s 3ms/step - loss: 0.0911 - accuracy: 0.9446 - val_loss: 0.1356 - val_accuracy: 0.9560\n",
            "Epoch 117/200\n",
            "37/37 [==============================] - 0s 3ms/step - loss: 0.0944 - accuracy: 0.9507 - val_loss: 0.1358 - val_accuracy: 0.9560\n",
            "Epoch 118/200\n",
            "37/37 [==============================] - 0s 3ms/step - loss: 0.1014 - accuracy: 0.9396 - val_loss: 0.1360 - val_accuracy: 0.9560\n",
            "Epoch 119/200\n",
            "37/37 [==============================] - 0s 3ms/step - loss: 0.1061 - accuracy: 0.9430 - val_loss: 0.1357 - val_accuracy: 0.9560\n",
            "Epoch 120/200\n",
            "37/37 [==============================] - 0s 3ms/step - loss: 0.1014 - accuracy: 0.9481 - val_loss: 0.1357 - val_accuracy: 0.9560\n",
            "Epoch 121/200\n",
            "37/37 [==============================] - 0s 3ms/step - loss: 0.1081 - accuracy: 0.9383 - val_loss: 0.1354 - val_accuracy: 0.9560\n",
            "Epoch 122/200\n",
            "37/37 [==============================] - 0s 3ms/step - loss: 0.0876 - accuracy: 0.9591 - val_loss: 0.1352 - val_accuracy: 0.9560\n",
            "Epoch 123/200\n",
            "37/37 [==============================] - 0s 3ms/step - loss: 0.1194 - accuracy: 0.9305 - val_loss: 0.1350 - val_accuracy: 0.9560\n",
            "Epoch 124/200\n",
            "37/37 [==============================] - 0s 3ms/step - loss: 0.0903 - accuracy: 0.9515 - val_loss: 0.1348 - val_accuracy: 0.9560\n",
            "Epoch 125/200\n",
            "37/37 [==============================] - 0s 3ms/step - loss: 0.0974 - accuracy: 0.9514 - val_loss: 0.1350 - val_accuracy: 0.9560\n",
            "Epoch 126/200\n",
            "37/37 [==============================] - 0s 3ms/step - loss: 0.1108 - accuracy: 0.9335 - val_loss: 0.1346 - val_accuracy: 0.9560\n",
            "Epoch 127/200\n",
            "37/37 [==============================] - 0s 3ms/step - loss: 0.1008 - accuracy: 0.9407 - val_loss: 0.1347 - val_accuracy: 0.9560\n",
            "Epoch 128/200\n",
            "37/37 [==============================] - 0s 3ms/step - loss: 0.1083 - accuracy: 0.9373 - val_loss: 0.1342 - val_accuracy: 0.9560\n",
            "Epoch 129/200\n",
            "37/37 [==============================] - 0s 3ms/step - loss: 0.0748 - accuracy: 0.9664 - val_loss: 0.1347 - val_accuracy: 0.9560\n",
            "Epoch 130/200\n",
            "37/37 [==============================] - 0s 3ms/step - loss: 0.1064 - accuracy: 0.9371 - val_loss: 0.1346 - val_accuracy: 0.9560\n",
            "Epoch 131/200\n",
            "37/37 [==============================] - 0s 3ms/step - loss: 0.1164 - accuracy: 0.9294 - val_loss: 0.1341 - val_accuracy: 0.9560\n",
            "Epoch 132/200\n",
            "37/37 [==============================] - 0s 3ms/step - loss: 0.0853 - accuracy: 0.9583 - val_loss: 0.1339 - val_accuracy: 0.9560\n",
            "Epoch 133/200\n",
            "37/37 [==============================] - 0s 3ms/step - loss: 0.0887 - accuracy: 0.9538 - val_loss: 0.1330 - val_accuracy: 0.9560\n",
            "Epoch 134/200\n",
            "37/37 [==============================] - 0s 3ms/step - loss: 0.0983 - accuracy: 0.9438 - val_loss: 0.1334 - val_accuracy: 0.9560\n",
            "Epoch 135/200\n",
            "37/37 [==============================] - 0s 3ms/step - loss: 0.1008 - accuracy: 0.9491 - val_loss: 0.1335 - val_accuracy: 0.9560\n",
            "Epoch 136/200\n",
            "37/37 [==============================] - 0s 3ms/step - loss: 0.1193 - accuracy: 0.9368 - val_loss: 0.1330 - val_accuracy: 0.9560\n",
            "Epoch 137/200\n",
            "37/37 [==============================] - 0s 3ms/step - loss: 0.1091 - accuracy: 0.9374 - val_loss: 0.1330 - val_accuracy: 0.9560\n",
            "Epoch 138/200\n",
            "37/37 [==============================] - 0s 3ms/step - loss: 0.0976 - accuracy: 0.9475 - val_loss: 0.1325 - val_accuracy: 0.9560\n",
            "Epoch 139/200\n",
            "37/37 [==============================] - 0s 3ms/step - loss: 0.1215 - accuracy: 0.9462 - val_loss: 0.1329 - val_accuracy: 0.9560\n",
            "Epoch 140/200\n",
            "37/37 [==============================] - 0s 3ms/step - loss: 0.0972 - accuracy: 0.9511 - val_loss: 0.1327 - val_accuracy: 0.9560\n",
            "Epoch 141/200\n",
            "37/37 [==============================] - 0s 4ms/step - loss: 0.1302 - accuracy: 0.9233 - val_loss: 0.1329 - val_accuracy: 0.9560\n",
            "Epoch 142/200\n",
            "37/37 [==============================] - 0s 3ms/step - loss: 0.0740 - accuracy: 0.9629 - val_loss: 0.1329 - val_accuracy: 0.9560\n",
            "Epoch 143/200\n",
            "37/37 [==============================] - 0s 3ms/step - loss: 0.0836 - accuracy: 0.9516 - val_loss: 0.1325 - val_accuracy: 0.9560\n",
            "Epoch 144/200\n",
            "37/37 [==============================] - 0s 3ms/step - loss: 0.1148 - accuracy: 0.9469 - val_loss: 0.1326 - val_accuracy: 0.9560\n",
            "Epoch 145/200\n",
            "37/37 [==============================] - 0s 3ms/step - loss: 0.1104 - accuracy: 0.9285 - val_loss: 0.1325 - val_accuracy: 0.9560\n",
            "Epoch 146/200\n",
            "37/37 [==============================] - 0s 3ms/step - loss: 0.1315 - accuracy: 0.9350 - val_loss: 0.1323 - val_accuracy: 0.9560\n",
            "Epoch 147/200\n",
            "37/37 [==============================] - 0s 3ms/step - loss: 0.0805 - accuracy: 0.9611 - val_loss: 0.1322 - val_accuracy: 0.9560\n",
            "Epoch 148/200\n",
            "37/37 [==============================] - 0s 3ms/step - loss: 0.0836 - accuracy: 0.9558 - val_loss: 0.1324 - val_accuracy: 0.9560\n",
            "Epoch 149/200\n",
            "37/37 [==============================] - 0s 3ms/step - loss: 0.1048 - accuracy: 0.9313 - val_loss: 0.1319 - val_accuracy: 0.9560\n",
            "Epoch 150/200\n",
            "37/37 [==============================] - 0s 3ms/step - loss: 0.1015 - accuracy: 0.9434 - val_loss: 0.1321 - val_accuracy: 0.9560\n",
            "Epoch 151/200\n",
            "37/37 [==============================] - 0s 3ms/step - loss: 0.0879 - accuracy: 0.9546 - val_loss: 0.1320 - val_accuracy: 0.9560\n",
            "Epoch 152/200\n",
            "37/37 [==============================] - 0s 3ms/step - loss: 0.1004 - accuracy: 0.9447 - val_loss: 0.1317 - val_accuracy: 0.9560\n",
            "Epoch 153/200\n",
            "37/37 [==============================] - 0s 3ms/step - loss: 0.0722 - accuracy: 0.9666 - val_loss: 0.1321 - val_accuracy: 0.9560\n",
            "Epoch 154/200\n",
            "37/37 [==============================] - 0s 3ms/step - loss: 0.1254 - accuracy: 0.9285 - val_loss: 0.1315 - val_accuracy: 0.9560\n",
            "Epoch 155/200\n",
            "37/37 [==============================] - 0s 3ms/step - loss: 0.0744 - accuracy: 0.9585 - val_loss: 0.1317 - val_accuracy: 0.9560\n",
            "Epoch 156/200\n",
            "37/37 [==============================] - 0s 3ms/step - loss: 0.0847 - accuracy: 0.9544 - val_loss: 0.1316 - val_accuracy: 0.9560\n",
            "Epoch 157/200\n",
            "37/37 [==============================] - 0s 3ms/step - loss: 0.0908 - accuracy: 0.9517 - val_loss: 0.1316 - val_accuracy: 0.9560\n",
            "Epoch 158/200\n",
            "37/37 [==============================] - 0s 3ms/step - loss: 0.0867 - accuracy: 0.9555 - val_loss: 0.1314 - val_accuracy: 0.9560\n",
            "Epoch 159/200\n",
            "37/37 [==============================] - 0s 3ms/step - loss: 0.1072 - accuracy: 0.9358 - val_loss: 0.1313 - val_accuracy: 0.9560\n",
            "Epoch 160/200\n",
            "37/37 [==============================] - 0s 3ms/step - loss: 0.1116 - accuracy: 0.9342 - val_loss: 0.1310 - val_accuracy: 0.9560\n",
            "Epoch 161/200\n",
            "37/37 [==============================] - 0s 3ms/step - loss: 0.0917 - accuracy: 0.9665 - val_loss: 0.1313 - val_accuracy: 0.9560\n",
            "Epoch 162/200\n",
            "37/37 [==============================] - 0s 3ms/step - loss: 0.0816 - accuracy: 0.9508 - val_loss: 0.1310 - val_accuracy: 0.9560\n",
            "Epoch 163/200\n",
            "37/37 [==============================] - 0s 3ms/step - loss: 0.1008 - accuracy: 0.9397 - val_loss: 0.1310 - val_accuracy: 0.9560\n",
            "Epoch 164/200\n",
            "37/37 [==============================] - 0s 3ms/step - loss: 0.0983 - accuracy: 0.9433 - val_loss: 0.1307 - val_accuracy: 0.9560\n",
            "Epoch 165/200\n",
            "37/37 [==============================] - 0s 3ms/step - loss: 0.0901 - accuracy: 0.9535 - val_loss: 0.1306 - val_accuracy: 0.9560\n",
            "Epoch 166/200\n",
            "37/37 [==============================] - 0s 4ms/step - loss: 0.0884 - accuracy: 0.9506 - val_loss: 0.1305 - val_accuracy: 0.9560\n",
            "Epoch 167/200\n",
            "37/37 [==============================] - 0s 3ms/step - loss: 0.0785 - accuracy: 0.9557 - val_loss: 0.1303 - val_accuracy: 0.9560\n",
            "Epoch 168/200\n",
            "37/37 [==============================] - 0s 3ms/step - loss: 0.0968 - accuracy: 0.9441 - val_loss: 0.1300 - val_accuracy: 0.9560\n",
            "Epoch 169/200\n",
            "37/37 [==============================] - 0s 3ms/step - loss: 0.1049 - accuracy: 0.9412 - val_loss: 0.1299 - val_accuracy: 0.9560\n",
            "Epoch 170/200\n",
            "37/37 [==============================] - 0s 3ms/step - loss: 0.1021 - accuracy: 0.9401 - val_loss: 0.1297 - val_accuracy: 0.9560\n",
            "Epoch 171/200\n",
            "37/37 [==============================] - 0s 3ms/step - loss: 0.0827 - accuracy: 0.9443 - val_loss: 0.1300 - val_accuracy: 0.9560\n",
            "Epoch 172/200\n",
            "37/37 [==============================] - 0s 3ms/step - loss: 0.0999 - accuracy: 0.9485 - val_loss: 0.1294 - val_accuracy: 0.9560\n",
            "Epoch 173/200\n",
            "37/37 [==============================] - 0s 3ms/step - loss: 0.0808 - accuracy: 0.9534 - val_loss: 0.1296 - val_accuracy: 0.9560\n",
            "Epoch 174/200\n",
            "37/37 [==============================] - 0s 3ms/step - loss: 0.1100 - accuracy: 0.9396 - val_loss: 0.1297 - val_accuracy: 0.9560\n",
            "Epoch 175/200\n",
            "37/37 [==============================] - 0s 3ms/step - loss: 0.1138 - accuracy: 0.9243 - val_loss: 0.1296 - val_accuracy: 0.9560\n",
            "Epoch 176/200\n",
            "37/37 [==============================] - 0s 3ms/step - loss: 0.0792 - accuracy: 0.9466 - val_loss: 0.1293 - val_accuracy: 0.9560\n",
            "Epoch 177/200\n",
            "37/37 [==============================] - 0s 3ms/step - loss: 0.0998 - accuracy: 0.9337 - val_loss: 0.1295 - val_accuracy: 0.9560\n",
            "Epoch 178/200\n",
            "37/37 [==============================] - 0s 3ms/step - loss: 0.0793 - accuracy: 0.9563 - val_loss: 0.1291 - val_accuracy: 0.9560\n",
            "Epoch 179/200\n",
            "37/37 [==============================] - 0s 3ms/step - loss: 0.0947 - accuracy: 0.9420 - val_loss: 0.1291 - val_accuracy: 0.9560\n",
            "Epoch 180/200\n",
            "37/37 [==============================] - 0s 3ms/step - loss: 0.0685 - accuracy: 0.9571 - val_loss: 0.1289 - val_accuracy: 0.9560\n",
            "Epoch 181/200\n",
            "37/37 [==============================] - 0s 3ms/step - loss: 0.0895 - accuracy: 0.9415 - val_loss: 0.1288 - val_accuracy: 0.9560\n",
            "Epoch 182/200\n",
            "37/37 [==============================] - 0s 3ms/step - loss: 0.1063 - accuracy: 0.9432 - val_loss: 0.1289 - val_accuracy: 0.9560\n",
            "Epoch 183/200\n",
            "37/37 [==============================] - 0s 3ms/step - loss: 0.0840 - accuracy: 0.9491 - val_loss: 0.1287 - val_accuracy: 0.9560\n",
            "Epoch 184/200\n",
            "37/37 [==============================] - 0s 3ms/step - loss: 0.0867 - accuracy: 0.9419 - val_loss: 0.1285 - val_accuracy: 0.9560\n",
            "Epoch 185/200\n",
            "37/37 [==============================] - 0s 3ms/step - loss: 0.0926 - accuracy: 0.9549 - val_loss: 0.1285 - val_accuracy: 0.9560\n",
            "Epoch 186/200\n",
            "37/37 [==============================] - 0s 3ms/step - loss: 0.0886 - accuracy: 0.9591 - val_loss: 0.1282 - val_accuracy: 0.9560\n",
            "Epoch 187/200\n",
            "37/37 [==============================] - 0s 3ms/step - loss: 0.0875 - accuracy: 0.9510 - val_loss: 0.1282 - val_accuracy: 0.9560\n",
            "Epoch 188/200\n",
            "37/37 [==============================] - 0s 3ms/step - loss: 0.0857 - accuracy: 0.9508 - val_loss: 0.1283 - val_accuracy: 0.9560\n",
            "Epoch 189/200\n",
            "37/37 [==============================] - 0s 3ms/step - loss: 0.0615 - accuracy: 0.9675 - val_loss: 0.1285 - val_accuracy: 0.9560\n",
            "Epoch 190/200\n",
            "37/37 [==============================] - 0s 3ms/step - loss: 0.1005 - accuracy: 0.9471 - val_loss: 0.1283 - val_accuracy: 0.9560\n",
            "Epoch 191/200\n",
            "37/37 [==============================] - 0s 3ms/step - loss: 0.1102 - accuracy: 0.9371 - val_loss: 0.1278 - val_accuracy: 0.9560\n",
            "Epoch 192/200\n",
            "37/37 [==============================] - 0s 3ms/step - loss: 0.0940 - accuracy: 0.9363 - val_loss: 0.1277 - val_accuracy: 0.9560\n",
            "Epoch 193/200\n",
            "37/37 [==============================] - 0s 3ms/step - loss: 0.0916 - accuracy: 0.9543 - val_loss: 0.1279 - val_accuracy: 0.9560\n",
            "Epoch 194/200\n",
            "37/37 [==============================] - 0s 3ms/step - loss: 0.0877 - accuracy: 0.9455 - val_loss: 0.1277 - val_accuracy: 0.9560\n",
            "Epoch 195/200\n",
            "37/37 [==============================] - 0s 3ms/step - loss: 0.0796 - accuracy: 0.9566 - val_loss: 0.1277 - val_accuracy: 0.9560\n",
            "Epoch 196/200\n",
            "37/37 [==============================] - 0s 3ms/step - loss: 0.0869 - accuracy: 0.9494 - val_loss: 0.1267 - val_accuracy: 0.9560\n",
            "Epoch 197/200\n",
            "37/37 [==============================] - 0s 3ms/step - loss: 0.0987 - accuracy: 0.9464 - val_loss: 0.1271 - val_accuracy: 0.9560\n",
            "Epoch 198/200\n",
            "37/37 [==============================] - 0s 3ms/step - loss: 0.1313 - accuracy: 0.9277 - val_loss: 0.1270 - val_accuracy: 0.9560\n",
            "Epoch 199/200\n",
            "37/37 [==============================] - 0s 3ms/step - loss: 0.0921 - accuracy: 0.9430 - val_loss: 0.1267 - val_accuracy: 0.9560\n",
            "Epoch 200/200\n",
            "37/37 [==============================] - 0s 3ms/step - loss: 0.1010 - accuracy: 0.9433 - val_loss: 0.1265 - val_accuracy: 0.9560\n"
          ],
          "name": "stdout"
        }
      ]
    },
    {
      "cell_type": "code",
      "metadata": {
        "id": "jcmxF0439WK-"
      },
      "source": [
        "# now lets visualize the Loss and Val_Loss to check how the loss value is optimized.\n",
        "#get the model3 history in dictionary dictionary\n",
        "model4_hist_dict=model4_history.history"
      ],
      "id": "jcmxF0439WK-",
      "execution_count": null,
      "outputs": []
    },
    {
      "cell_type": "code",
      "metadata": {
        "colab": {
          "base_uri": "https://localhost:8080/",
          "height": 639
        },
        "id": "H3vEzqCT9WPb",
        "outputId": "844bd7d2-4b67-4e63-8477-a8345e84b2ce"
      },
      "source": [
        "# Plot for Loss vs Val Loss Model4\n",
        "loss_model4=model4_hist_dict[\"loss\"]\n",
        "val_loss_model4=model4_hist_dict[\"val_loss\"]\n",
        "plt.figure(figsize=(12,10))\n",
        "plt.plot(loss_model4,\"b\",label=\"Training-Loss\")\n",
        "plt.plot(val_loss_model4,\"g\",label=\"Val-Training-Loss\")\n",
        "plt.legend()\n",
        "plt.title(\"Loss VS Val_loss Model4\")\n",
        "plt.xlabel(\"Epochs\")"
      ],
      "id": "H3vEzqCT9WPb",
      "execution_count": null,
      "outputs": [
        {
          "output_type": "execute_result",
          "data": {
            "text/plain": [
              "Text(0.5, 0, 'Epochs')"
            ]
          },
          "metadata": {
            "tags": []
          },
          "execution_count": 68
        },
        {
          "output_type": "display_data",
          "data": {
            "image/png": "[encoded data removed]",
            "text/plain": [
              "<Figure size 864x720 with 1 Axes>"
            ]
          },
          "metadata": {
            "tags": [],
            "needs_background": "light"
          }
        }
      ]
    },
    {
      "cell_type": "code",
      "metadata": {
        "colab": {
          "base_uri": "https://localhost:8080/",
          "height": 639
        },
        "id": "r7cV27Wx9WUt",
        "outputId": "65d42819-10d7-4ba3-9aaa-d4eb26039cf6"
      },
      "source": [
        "# Plot for acc vs Val Loss Model4\n",
        "acc_model4=model4_hist_dict[\"accuracy\"]\n",
        "val_acc_model4=model4_hist_dict[\"val_accuracy\"]\n",
        "plt.figure(figsize=(12,10))\n",
        "plt.plot(acc_model4,\"b\",label=\"Training-Accuracy\")\n",
        "plt.plot(val_acc_model4,\"g\",label=\"Val-Accuracy\")\n",
        "plt.legend()\n",
        "plt.title(\"Accuracy VS Val_Accuracy  Model4\")\n",
        "plt.xlabel(\"Epochs\")"
      ],
      "id": "r7cV27Wx9WUt",
      "execution_count": null,
      "outputs": [
        {
          "output_type": "execute_result",
          "data": {
            "text/plain": [
              "Text(0.5, 0, 'Epochs')"
            ]
          },
          "metadata": {
            "tags": []
          },
          "execution_count": 69
        },
        {
          "output_type": "display_data",
          "data": {
            "image/png": "[encoded data removed]",
            "text/plain": [
              "<Figure size 864x720 with 1 Axes>"
            ]
          },
          "metadata": {
            "tags": [],
            "needs_background": "light"
          }
        }
      ]
    },
    {
      "cell_type": "code",
      "metadata": {
        "colab": {
          "base_uri": "https://localhost:8080/"
        },
        "id": "NPQ18KI39WZF",
        "outputId": "deeb5714-55ac-438e-fe79-f01b3793f76d"
      },
      "source": [
        "# our model4 is trained well and now lets check the accuracy of the test data\n",
        "test_loss_model4, test_acc_model4 =model4.evaluate(X_test,Y_test)\n",
        "print(\"Accuracy of the Model4 on test data is :\", test_acc_model4)\n",
        "print(\"Test loss of the Model4 on test data is :\", test_loss_model4)"
      ],
      "id": "NPQ18KI39WZF",
      "execution_count": null,
      "outputs": [
        {
          "output_type": "stream",
          "text": [
            "4/4 [==============================] - 0s 3ms/step - loss: 0.1987 - accuracy: 0.9474\n",
            "Accuracy of the Model4 on test data is : 0.9473684430122375\n",
            "Test loss of the Model4 on test data is : 0.1986696720123291\n"
          ],
          "name": "stdout"
        }
      ]
    },
    {
      "cell_type": "code",
      "metadata": {
        "id": "9tDuBU7IAHOg"
      },
      "source": [
        "#Lets check prediction using model3\n",
        "model4_y_pred= model4.predict(X_test)\n",
        "model4_y_pred = (model4_y_pred > 0.5)"
      ],
      "id": "9tDuBU7IAHOg",
      "execution_count": null,
      "outputs": []
    },
    {
      "cell_type": "code",
      "metadata": {
        "colab": {
          "base_uri": "https://localhost:8080/"
        },
        "id": "Q0pNGoa1AHOo",
        "outputId": "e36ea34f-3781-4edc-ca33-2c5898ca7a91"
      },
      "source": [
        "from sklearn.metrics import confusion_matrix, classification_report\n",
        "cm4 = confusion_matrix(Y_test, model4_y_pred)\n",
        "print(\"Confusion Matrix\")\n",
        "print(cm4)"
      ],
      "id": "Q0pNGoa1AHOo",
      "execution_count": null,
      "outputs": [
        {
          "output_type": "stream",
          "text": [
            "Confusion Matrix\n",
            "[[71  1]\n",
            " [ 5 37]]\n"
          ],
          "name": "stdout"
        }
      ]
    },
    {
      "cell_type": "code",
      "metadata": {
        "colab": {
          "base_uri": "https://localhost:8080/"
        },
        "id": "A0L9EaD_AHOt",
        "outputId": "149b720e-994c-4a5d-c5f5-62a977bbd135"
      },
      "source": [
        "#classification report for model name= model\n",
        "target_class=[\"M\", \"B\"]  #M=1, B=0\n",
        "print(\"Classification report model4\")\n",
        "print(classification_report(Y_test, model4_y_pred, target_names=target_class))"
      ],
      "id": "A0L9EaD_AHOt",
      "execution_count": null,
      "outputs": [
        {
          "output_type": "stream",
          "text": [
            "Classification report model4\n",
            "              precision    recall  f1-score   support\n",
            "\n",
            "           M       0.93      0.99      0.96        72\n",
            "           B       0.97      0.88      0.93        42\n",
            "\n",
            "    accuracy                           0.95       114\n",
            "   macro avg       0.95      0.93      0.94       114\n",
            "weighted avg       0.95      0.95      0.95       114\n",
            "\n"
          ],
          "name": "stdout"
        }
      ]
    },
    {
      "cell_type": "code",
      "metadata": {
        "id": "rtaJwD3xeIBT"
      },
      "source": [
        ""
      ],
      "id": "rtaJwD3xeIBT",
      "execution_count": null,
      "outputs": []
    },
    {
      "cell_type": "markdown",
      "metadata": {
        "id": "CC4YLWegJHyS"
      },
      "source": [
        "Model 5 with Tanh optimizer and \n"
      ],
      "id": "CC4YLWegJHyS"
    },
    {
      "cell_type": "code",
      "metadata": {
        "id": "va3Os-iceIEZ"
      },
      "source": [
        ""
      ],
      "id": "va3Os-iceIEZ",
      "execution_count": null,
      "outputs": []
    },
    {
      "cell_type": "code",
      "metadata": {
        "id": "ieeWYG6sJLP2"
      },
      "source": [
        "#Initlize our model again with new name model5\n",
        "model5=Sequential()\n",
        "#Now lets add the input layer first with 12 input features and 5 output units \n",
        "model5.add(Dense(units=5,kernel_initializer=\"he_uniform\", activation=\"relu\",input_dim=12))\n",
        "\n",
        "# add one hidden layer with 5 input nodes\n",
        "model5.add(Dense(units=5,kernel_initializer=\"he_uniform\", activation=\"relu\" ))\n",
        "\n",
        "# finally the output layer \n",
        "model5.add(Dense(units=1, kernel_initializer='glorot_uniform', activation=\"tanh\"))\n",
        "\n",
        "#compile the model optimizer Tanh\n",
        "model5.compile(optimizer=\"Adamax\", loss=\"binary_crossentropy\", metrics=[\"accuracy\"])"
      ],
      "id": "ieeWYG6sJLP2",
      "execution_count": null,
      "outputs": []
    },
    {
      "cell_type": "code",
      "metadata": {
        "colab": {
          "base_uri": "https://localhost:8080/"
        },
        "id": "y7fiaE4SJLP6",
        "outputId": "bdbbc5b2-b24b-4933-ece4-d8379ec433cb"
      },
      "source": [
        "# lets fit the model5\n",
        "model5_history=model5.fit(X_train,Y_train, validation_split=0.2,batch_size=10,epochs=200)"
      ],
      "id": "y7fiaE4SJLP6",
      "execution_count": null,
      "outputs": [
        {
          "output_type": "stream",
          "text": [
            "Epoch 1/200\n",
            "37/37 [==============================] - 1s 6ms/step - loss: 4.2833 - accuracy: 0.6435 - val_loss: 4.4948 - val_accuracy: 0.6154\n",
            "Epoch 2/200\n",
            "37/37 [==============================] - 0s 3ms/step - loss: 4.2214 - accuracy: 0.6501 - val_loss: 4.3469 - val_accuracy: 0.6154\n",
            "Epoch 3/200\n",
            "37/37 [==============================] - 0s 3ms/step - loss: 4.6111 - accuracy: 0.6243 - val_loss: 4.3271 - val_accuracy: 0.6154\n",
            "Epoch 4/200\n",
            "37/37 [==============================] - 0s 3ms/step - loss: 4.3726 - accuracy: 0.6078 - val_loss: 4.1870 - val_accuracy: 0.6154\n",
            "Epoch 5/200\n",
            "37/37 [==============================] - 0s 3ms/step - loss: 4.6052 - accuracy: 0.6150 - val_loss: 4.1716 - val_accuracy: 0.6154\n",
            "Epoch 6/200\n",
            "37/37 [==============================] - 0s 3ms/step - loss: 4.0951 - accuracy: 0.6467 - val_loss: 4.1568 - val_accuracy: 0.6154\n",
            "Epoch 7/200\n",
            "37/37 [==============================] - 0s 3ms/step - loss: 4.0627 - accuracy: 0.6387 - val_loss: 4.1469 - val_accuracy: 0.6154\n",
            "Epoch 8/200\n",
            "37/37 [==============================] - 0s 3ms/step - loss: 4.0739 - accuracy: 0.6358 - val_loss: 4.1350 - val_accuracy: 0.6154\n",
            "Epoch 9/200\n",
            "37/37 [==============================] - 0s 3ms/step - loss: 4.6655 - accuracy: 0.6153 - val_loss: 4.1263 - val_accuracy: 0.6154\n",
            "Epoch 10/200\n",
            "37/37 [==============================] - 0s 3ms/step - loss: 4.0542 - accuracy: 0.6373 - val_loss: 3.9215 - val_accuracy: 0.6154\n",
            "Epoch 11/200\n",
            "37/37 [==============================] - 0s 3ms/step - loss: 3.2760 - accuracy: 0.6504 - val_loss: 3.7873 - val_accuracy: 0.6154\n",
            "Epoch 12/200\n",
            "37/37 [==============================] - 0s 3ms/step - loss: 3.4097 - accuracy: 0.6732 - val_loss: 3.7287 - val_accuracy: 0.6154\n",
            "Epoch 13/200\n",
            "37/37 [==============================] - 0s 3ms/step - loss: 3.1960 - accuracy: 0.6716 - val_loss: 3.7043 - val_accuracy: 0.6374\n",
            "Epoch 14/200\n",
            "37/37 [==============================] - 0s 3ms/step - loss: 4.1981 - accuracy: 0.6419 - val_loss: 3.5585 - val_accuracy: 0.6374\n",
            "Epoch 15/200\n",
            "37/37 [==============================] - 0s 3ms/step - loss: 3.8515 - accuracy: 0.6182 - val_loss: 3.5231 - val_accuracy: 0.6374\n",
            "Epoch 16/200\n",
            "37/37 [==============================] - 0s 3ms/step - loss: 3.6878 - accuracy: 0.6400 - val_loss: 3.5111 - val_accuracy: 0.6374\n",
            "Epoch 17/200\n",
            "37/37 [==============================] - 0s 3ms/step - loss: 3.0575 - accuracy: 0.6435 - val_loss: 3.5016 - val_accuracy: 0.6484\n",
            "Epoch 18/200\n",
            "37/37 [==============================] - 0s 3ms/step - loss: 3.0657 - accuracy: 0.6561 - val_loss: 3.4927 - val_accuracy: 0.6484\n",
            "Epoch 19/200\n",
            "37/37 [==============================] - 0s 3ms/step - loss: 3.3843 - accuracy: 0.6418 - val_loss: 3.4866 - val_accuracy: 0.6484\n",
            "Epoch 20/200\n",
            "37/37 [==============================] - 0s 3ms/step - loss: 2.8675 - accuracy: 0.6680 - val_loss: 3.3620 - val_accuracy: 0.6484\n",
            "Epoch 21/200\n",
            "37/37 [==============================] - 0s 3ms/step - loss: 3.4689 - accuracy: 0.6468 - val_loss: 3.3421 - val_accuracy: 0.6484\n",
            "Epoch 22/200\n",
            "37/37 [==============================] - 0s 3ms/step - loss: 3.3295 - accuracy: 0.6755 - val_loss: 3.3403 - val_accuracy: 0.6484\n",
            "Epoch 23/200\n",
            "37/37 [==============================] - 0s 3ms/step - loss: 3.6357 - accuracy: 0.6390 - val_loss: 3.3391 - val_accuracy: 0.6484\n",
            "Epoch 24/200\n",
            "37/37 [==============================] - 0s 3ms/step - loss: 3.3623 - accuracy: 0.6329 - val_loss: 3.3380 - val_accuracy: 0.6484\n",
            "Epoch 25/200\n",
            "37/37 [==============================] - 0s 3ms/step - loss: 3.1794 - accuracy: 0.6843 - val_loss: 3.3369 - val_accuracy: 0.6484\n",
            "Epoch 26/200\n",
            "37/37 [==============================] - 0s 3ms/step - loss: 3.6580 - accuracy: 0.6462 - val_loss: 3.3354 - val_accuracy: 0.6484\n",
            "Epoch 27/200\n",
            "37/37 [==============================] - 0s 3ms/step - loss: 3.4463 - accuracy: 0.6708 - val_loss: 3.3342 - val_accuracy: 0.6484\n",
            "Epoch 28/200\n",
            "37/37 [==============================] - 0s 3ms/step - loss: 3.5018 - accuracy: 0.6709 - val_loss: 3.3325 - val_accuracy: 0.6484\n",
            "Epoch 29/200\n",
            "37/37 [==============================] - 0s 3ms/step - loss: 3.3270 - accuracy: 0.6614 - val_loss: 3.3285 - val_accuracy: 0.6484\n",
            "Epoch 30/200\n",
            "37/37 [==============================] - 0s 3ms/step - loss: 3.2166 - accuracy: 0.6476 - val_loss: 3.3270 - val_accuracy: 0.6484\n",
            "Epoch 31/200\n",
            "37/37 [==============================] - 0s 3ms/step - loss: 3.2194 - accuracy: 0.6645 - val_loss: 3.2633 - val_accuracy: 0.6593\n",
            "Epoch 32/200\n",
            "37/37 [==============================] - 0s 3ms/step - loss: 3.0051 - accuracy: 0.7080 - val_loss: 3.2529 - val_accuracy: 0.6593\n",
            "Epoch 33/200\n",
            "37/37 [==============================] - 0s 3ms/step - loss: 2.8465 - accuracy: 0.6916 - val_loss: 3.2478 - val_accuracy: 0.6593\n",
            "Epoch 34/200\n",
            "37/37 [==============================] - 0s 3ms/step - loss: 2.9936 - accuracy: 0.6966 - val_loss: 3.2472 - val_accuracy: 0.6593\n",
            "Epoch 35/200\n",
            "37/37 [==============================] - 0s 3ms/step - loss: 3.0449 - accuracy: 0.6947 - val_loss: 3.2374 - val_accuracy: 0.6593\n",
            "Epoch 36/200\n",
            "37/37 [==============================] - 0s 3ms/step - loss: 3.4998 - accuracy: 0.6731 - val_loss: 3.2328 - val_accuracy: 0.6593\n",
            "Epoch 37/200\n",
            "37/37 [==============================] - 0s 3ms/step - loss: 3.5271 - accuracy: 0.6558 - val_loss: 3.1287 - val_accuracy: 0.6593\n",
            "Epoch 38/200\n",
            "37/37 [==============================] - 0s 3ms/step - loss: 3.3980 - accuracy: 0.6483 - val_loss: 3.0996 - val_accuracy: 0.6593\n",
            "Epoch 39/200\n",
            "37/37 [==============================] - 0s 3ms/step - loss: 2.7872 - accuracy: 0.6976 - val_loss: 2.9732 - val_accuracy: 0.6593\n",
            "Epoch 40/200\n",
            "37/37 [==============================] - 0s 3ms/step - loss: 2.6170 - accuracy: 0.6972 - val_loss: 2.9654 - val_accuracy: 0.6593\n",
            "Epoch 41/200\n",
            "37/37 [==============================] - 0s 3ms/step - loss: 2.9039 - accuracy: 0.6759 - val_loss: 2.9589 - val_accuracy: 0.6703\n",
            "Epoch 42/200\n",
            "37/37 [==============================] - 0s 3ms/step - loss: 2.9458 - accuracy: 0.6631 - val_loss: 2.9532 - val_accuracy: 0.6703\n",
            "Epoch 43/200\n",
            "37/37 [==============================] - 0s 3ms/step - loss: 3.3344 - accuracy: 0.6524 - val_loss: 2.9490 - val_accuracy: 0.6703\n",
            "Epoch 44/200\n",
            "37/37 [==============================] - 0s 3ms/step - loss: 2.9382 - accuracy: 0.7080 - val_loss: 2.9338 - val_accuracy: 0.6703\n",
            "Epoch 45/200\n",
            "37/37 [==============================] - 0s 3ms/step - loss: 3.1112 - accuracy: 0.6773 - val_loss: 2.8782 - val_accuracy: 0.6813\n",
            "Epoch 46/200\n",
            "37/37 [==============================] - 0s 3ms/step - loss: 2.7068 - accuracy: 0.6950 - val_loss: 2.8259 - val_accuracy: 0.6813\n",
            "Epoch 47/200\n",
            "37/37 [==============================] - 0s 3ms/step - loss: 2.5779 - accuracy: 0.6833 - val_loss: 2.8164 - val_accuracy: 0.6813\n",
            "Epoch 48/200\n",
            "37/37 [==============================] - 0s 3ms/step - loss: 3.3096 - accuracy: 0.6672 - val_loss: 2.8099 - val_accuracy: 0.6813\n",
            "Epoch 49/200\n",
            "37/37 [==============================] - 0s 3ms/step - loss: 3.1505 - accuracy: 0.6758 - val_loss: 2.8053 - val_accuracy: 0.6813\n",
            "Epoch 50/200\n",
            "37/37 [==============================] - 0s 3ms/step - loss: 3.0816 - accuracy: 0.6811 - val_loss: 2.8008 - val_accuracy: 0.6813\n",
            "Epoch 51/200\n",
            "37/37 [==============================] - 0s 3ms/step - loss: 2.4989 - accuracy: 0.7199 - val_loss: 2.7968 - val_accuracy: 0.6813\n",
            "Epoch 52/200\n",
            "37/37 [==============================] - 0s 3ms/step - loss: 2.4545 - accuracy: 0.6917 - val_loss: 2.7934 - val_accuracy: 0.6813\n",
            "Epoch 53/200\n",
            "37/37 [==============================] - 0s 3ms/step - loss: 3.1572 - accuracy: 0.6796 - val_loss: 2.7899 - val_accuracy: 0.6813\n",
            "Epoch 54/200\n",
            "37/37 [==============================] - 0s 3ms/step - loss: 3.0418 - accuracy: 0.6459 - val_loss: 2.6869 - val_accuracy: 0.6813\n",
            "Epoch 55/200\n",
            "37/37 [==============================] - 0s 3ms/step - loss: 3.1699 - accuracy: 0.6833 - val_loss: 2.6530 - val_accuracy: 0.6813\n",
            "Epoch 56/200\n",
            "37/37 [==============================] - 0s 3ms/step - loss: 2.9416 - accuracy: 0.6605 - val_loss: 2.6462 - val_accuracy: 0.6813\n",
            "Epoch 57/200\n",
            "37/37 [==============================] - 0s 3ms/step - loss: 2.6970 - accuracy: 0.7020 - val_loss: 2.6400 - val_accuracy: 0.6813\n",
            "Epoch 58/200\n",
            "37/37 [==============================] - 0s 3ms/step - loss: 2.8241 - accuracy: 0.6665 - val_loss: 2.6353 - val_accuracy: 0.6813\n",
            "Epoch 59/200\n",
            "37/37 [==============================] - 0s 3ms/step - loss: 2.8220 - accuracy: 0.6667 - val_loss: 2.5006 - val_accuracy: 0.6813\n",
            "Epoch 60/200\n",
            "37/37 [==============================] - 0s 3ms/step - loss: 2.9223 - accuracy: 0.6842 - val_loss: 2.2757 - val_accuracy: 0.6813\n",
            "Epoch 61/200\n",
            "37/37 [==============================] - 0s 3ms/step - loss: 2.9694 - accuracy: 0.6339 - val_loss: 1.9485 - val_accuracy: 0.6923\n",
            "Epoch 62/200\n",
            "37/37 [==============================] - 0s 3ms/step - loss: 2.3167 - accuracy: 0.6799 - val_loss: 1.2285 - val_accuracy: 0.6923\n",
            "Epoch 63/200\n",
            "37/37 [==============================] - 0s 3ms/step - loss: 1.6193 - accuracy: 0.6533 - val_loss: 1.0290 - val_accuracy: 0.6923\n",
            "Epoch 64/200\n",
            "37/37 [==============================] - 0s 3ms/step - loss: 1.3441 - accuracy: 0.6912 - val_loss: 0.9852 - val_accuracy: 0.6923\n",
            "Epoch 65/200\n",
            "37/37 [==============================] - 0s 3ms/step - loss: 1.0773 - accuracy: 0.7024 - val_loss: 0.9605 - val_accuracy: 0.6923\n",
            "Epoch 66/200\n",
            "37/37 [==============================] - 0s 3ms/step - loss: 1.3943 - accuracy: 0.6774 - val_loss: 0.9446 - val_accuracy: 0.6923\n",
            "Epoch 67/200\n",
            "37/37 [==============================] - 0s 3ms/step - loss: 1.3495 - accuracy: 0.6740 - val_loss: 0.9295 - val_accuracy: 0.6923\n",
            "Epoch 68/200\n",
            "37/37 [==============================] - 0s 3ms/step - loss: 1.1987 - accuracy: 0.6887 - val_loss: 0.7811 - val_accuracy: 0.6923\n",
            "Epoch 69/200\n",
            "37/37 [==============================] - 0s 3ms/step - loss: 1.1600 - accuracy: 0.7020 - val_loss: 0.7623 - val_accuracy: 0.6923\n",
            "Epoch 70/200\n",
            "37/37 [==============================] - 0s 3ms/step - loss: 1.1381 - accuracy: 0.6934 - val_loss: 0.7419 - val_accuracy: 0.6923\n",
            "Epoch 71/200\n",
            "37/37 [==============================] - 0s 3ms/step - loss: 0.9510 - accuracy: 0.7134 - val_loss: 0.7290 - val_accuracy: 0.6923\n",
            "Epoch 72/200\n",
            "37/37 [==============================] - 0s 3ms/step - loss: 1.0570 - accuracy: 0.7229 - val_loss: 0.7179 - val_accuracy: 0.6923\n",
            "Epoch 73/200\n",
            "37/37 [==============================] - 0s 4ms/step - loss: 0.7795 - accuracy: 0.7384 - val_loss: 0.7087 - val_accuracy: 0.6923\n",
            "Epoch 74/200\n",
            "37/37 [==============================] - 0s 3ms/step - loss: 1.0349 - accuracy: 0.6769 - val_loss: 0.6987 - val_accuracy: 0.7033\n",
            "Epoch 75/200\n",
            "37/37 [==============================] - 0s 4ms/step - loss: 0.9108 - accuracy: 0.7169 - val_loss: 0.6906 - val_accuracy: 0.7143\n",
            "Epoch 76/200\n",
            "37/37 [==============================] - 0s 3ms/step - loss: 1.1413 - accuracy: 0.6886 - val_loss: 0.6820 - val_accuracy: 0.7143\n",
            "Epoch 77/200\n",
            "37/37 [==============================] - 0s 3ms/step - loss: 0.9052 - accuracy: 0.6893 - val_loss: 0.6739 - val_accuracy: 0.7143\n",
            "Epoch 78/200\n",
            "37/37 [==============================] - 0s 3ms/step - loss: 0.9537 - accuracy: 0.7119 - val_loss: 0.6661 - val_accuracy: 0.7253\n",
            "Epoch 79/200\n",
            "37/37 [==============================] - 0s 3ms/step - loss: 0.9304 - accuracy: 0.7291 - val_loss: 0.6586 - val_accuracy: 0.7253\n",
            "Epoch 80/200\n",
            "37/37 [==============================] - 0s 3ms/step - loss: 0.9532 - accuracy: 0.7257 - val_loss: 0.6462 - val_accuracy: 0.7253\n",
            "Epoch 81/200\n",
            "37/37 [==============================] - 0s 3ms/step - loss: 1.0891 - accuracy: 0.6939 - val_loss: 0.6374 - val_accuracy: 0.7253\n",
            "Epoch 82/200\n",
            "37/37 [==============================] - 0s 3ms/step - loss: 0.9522 - accuracy: 0.7215 - val_loss: 0.6307 - val_accuracy: 0.7253\n",
            "Epoch 83/200\n",
            "37/37 [==============================] - 0s 3ms/step - loss: 0.8024 - accuracy: 0.7228 - val_loss: 0.6234 - val_accuracy: 0.7253\n",
            "Epoch 84/200\n",
            "37/37 [==============================] - 0s 3ms/step - loss: 0.5383 - accuracy: 0.7495 - val_loss: 0.6167 - val_accuracy: 0.7363\n",
            "Epoch 85/200\n",
            "37/37 [==============================] - 0s 3ms/step - loss: 0.7775 - accuracy: 0.7408 - val_loss: 0.6105 - val_accuracy: 0.7363\n",
            "Epoch 86/200\n",
            "37/37 [==============================] - 0s 3ms/step - loss: 0.7716 - accuracy: 0.7346 - val_loss: 0.6041 - val_accuracy: 0.7363\n",
            "Epoch 87/200\n",
            "37/37 [==============================] - 0s 3ms/step - loss: 0.8070 - accuracy: 0.7580 - val_loss: 0.5979 - val_accuracy: 0.7363\n",
            "Epoch 88/200\n",
            "37/37 [==============================] - 0s 3ms/step - loss: 0.7254 - accuracy: 0.7719 - val_loss: 0.5920 - val_accuracy: 0.7473\n",
            "Epoch 89/200\n",
            "37/37 [==============================] - 0s 3ms/step - loss: 0.7748 - accuracy: 0.7448 - val_loss: 0.5860 - val_accuracy: 0.7473\n",
            "Epoch 90/200\n",
            "37/37 [==============================] - 0s 3ms/step - loss: 0.9404 - accuracy: 0.7524 - val_loss: 0.5805 - val_accuracy: 0.7473\n",
            "Epoch 91/200\n",
            "37/37 [==============================] - 0s 3ms/step - loss: 0.7067 - accuracy: 0.7582 - val_loss: 0.5749 - val_accuracy: 0.7692\n",
            "Epoch 92/200\n",
            "37/37 [==============================] - 0s 3ms/step - loss: 0.7381 - accuracy: 0.7561 - val_loss: 0.5697 - val_accuracy: 0.7692\n",
            "Epoch 93/200\n",
            "37/37 [==============================] - 0s 3ms/step - loss: 0.5859 - accuracy: 0.8077 - val_loss: 0.5643 - val_accuracy: 0.7692\n",
            "Epoch 94/200\n",
            "37/37 [==============================] - 0s 3ms/step - loss: 0.8749 - accuracy: 0.7726 - val_loss: 0.5592 - val_accuracy: 0.7692\n",
            "Epoch 95/200\n",
            "37/37 [==============================] - 0s 3ms/step - loss: 0.5442 - accuracy: 0.7898 - val_loss: 0.5490 - val_accuracy: 0.7692\n",
            "Epoch 96/200\n",
            "37/37 [==============================] - 0s 3ms/step - loss: 0.7267 - accuracy: 0.7843 - val_loss: 0.5451 - val_accuracy: 0.7692\n",
            "Epoch 97/200\n",
            "37/37 [==============================] - 0s 3ms/step - loss: 0.6432 - accuracy: 0.7770 - val_loss: 0.5425 - val_accuracy: 0.7692\n",
            "Epoch 98/200\n",
            "37/37 [==============================] - 0s 3ms/step - loss: 0.7413 - accuracy: 0.7778 - val_loss: 0.5400 - val_accuracy: 0.7692\n",
            "Epoch 99/200\n",
            "37/37 [==============================] - 0s 3ms/step - loss: 0.5800 - accuracy: 0.7823 - val_loss: 0.5373 - val_accuracy: 0.7692\n",
            "Epoch 100/200\n",
            "37/37 [==============================] - 0s 3ms/step - loss: 0.7289 - accuracy: 0.7655 - val_loss: 0.5349 - val_accuracy: 0.7692\n",
            "Epoch 101/200\n",
            "37/37 [==============================] - 0s 3ms/step - loss: 0.7649 - accuracy: 0.7677 - val_loss: 0.5322 - val_accuracy: 0.7802\n",
            "Epoch 102/200\n",
            "37/37 [==============================] - 0s 3ms/step - loss: 0.9310 - accuracy: 0.7758 - val_loss: 0.5294 - val_accuracy: 0.7802\n",
            "Epoch 103/200\n",
            "37/37 [==============================] - 0s 3ms/step - loss: 0.7532 - accuracy: 0.7839 - val_loss: 0.5266 - val_accuracy: 0.7912\n",
            "Epoch 104/200\n",
            "37/37 [==============================] - 0s 3ms/step - loss: 0.7038 - accuracy: 0.8198 - val_loss: 0.5237 - val_accuracy: 0.7912\n",
            "Epoch 105/200\n",
            "37/37 [==============================] - 0s 3ms/step - loss: 0.6821 - accuracy: 0.8034 - val_loss: 0.5209 - val_accuracy: 0.7912\n",
            "Epoch 106/200\n",
            "37/37 [==============================] - 0s 3ms/step - loss: 0.4936 - accuracy: 0.8190 - val_loss: 0.5183 - val_accuracy: 0.7912\n",
            "Epoch 107/200\n",
            "37/37 [==============================] - 0s 3ms/step - loss: 0.7399 - accuracy: 0.7898 - val_loss: 0.5154 - val_accuracy: 0.7912\n",
            "Epoch 108/200\n",
            "37/37 [==============================] - 0s 3ms/step - loss: 0.7744 - accuracy: 0.7812 - val_loss: 0.5123 - val_accuracy: 0.7912\n",
            "Epoch 109/200\n",
            "37/37 [==============================] - 0s 3ms/step - loss: 0.7514 - accuracy: 0.8340 - val_loss: 0.5095 - val_accuracy: 0.7912\n",
            "Epoch 110/200\n",
            "37/37 [==============================] - 0s 3ms/step - loss: 0.6828 - accuracy: 0.8258 - val_loss: 0.5064 - val_accuracy: 0.7912\n",
            "Epoch 111/200\n",
            "37/37 [==============================] - 0s 3ms/step - loss: 0.8133 - accuracy: 0.7736 - val_loss: 0.5033 - val_accuracy: 0.8022\n",
            "Epoch 112/200\n",
            "37/37 [==============================] - 0s 3ms/step - loss: 0.5442 - accuracy: 0.7945 - val_loss: 0.5002 - val_accuracy: 0.8022\n",
            "Epoch 113/200\n",
            "37/37 [==============================] - 0s 3ms/step - loss: 0.5290 - accuracy: 0.8297 - val_loss: 0.4972 - val_accuracy: 0.8132\n",
            "Epoch 114/200\n",
            "37/37 [==============================] - 0s 3ms/step - loss: 0.7201 - accuracy: 0.7973 - val_loss: 0.4942 - val_accuracy: 0.8132\n",
            "Epoch 115/200\n",
            "37/37 [==============================] - 0s 3ms/step - loss: 0.7296 - accuracy: 0.7982 - val_loss: 0.4911 - val_accuracy: 0.8132\n",
            "Epoch 116/200\n",
            "37/37 [==============================] - 0s 3ms/step - loss: 0.7058 - accuracy: 0.8135 - val_loss: 0.4881 - val_accuracy: 0.8132\n",
            "Epoch 117/200\n",
            "37/37 [==============================] - 0s 3ms/step - loss: 0.4564 - accuracy: 0.8173 - val_loss: 0.4846 - val_accuracy: 0.8132\n",
            "Epoch 118/200\n",
            "37/37 [==============================] - 0s 3ms/step - loss: 0.8568 - accuracy: 0.8182 - val_loss: 0.4813 - val_accuracy: 0.8132\n",
            "Epoch 119/200\n",
            "37/37 [==============================] - 0s 3ms/step - loss: 0.8616 - accuracy: 0.7941 - val_loss: 0.4781 - val_accuracy: 0.8242\n",
            "Epoch 120/200\n",
            "37/37 [==============================] - 0s 3ms/step - loss: 0.5518 - accuracy: 0.8292 - val_loss: 0.4749 - val_accuracy: 0.8352\n",
            "Epoch 121/200\n",
            "37/37 [==============================] - 0s 3ms/step - loss: 0.6531 - accuracy: 0.8456 - val_loss: 0.4717 - val_accuracy: 0.8352\n",
            "Epoch 122/200\n",
            "37/37 [==============================] - 0s 3ms/step - loss: 0.8013 - accuracy: 0.8538 - val_loss: 0.4688 - val_accuracy: 0.8352\n",
            "Epoch 123/200\n",
            "37/37 [==============================] - 0s 3ms/step - loss: 0.7038 - accuracy: 0.8610 - val_loss: 0.4656 - val_accuracy: 0.8352\n",
            "Epoch 124/200\n",
            "37/37 [==============================] - 0s 3ms/step - loss: 0.7098 - accuracy: 0.8298 - val_loss: 0.4625 - val_accuracy: 0.8352\n",
            "Epoch 125/200\n",
            "37/37 [==============================] - 0s 4ms/step - loss: 0.5331 - accuracy: 0.8436 - val_loss: 0.4592 - val_accuracy: 0.8352\n",
            "Epoch 126/200\n",
            "37/37 [==============================] - 0s 3ms/step - loss: 0.6148 - accuracy: 0.8580 - val_loss: 0.4555 - val_accuracy: 0.8462\n",
            "Epoch 127/200\n",
            "37/37 [==============================] - 0s 3ms/step - loss: 0.5390 - accuracy: 0.8614 - val_loss: 0.4516 - val_accuracy: 0.8462\n",
            "Epoch 128/200\n",
            "37/37 [==============================] - 0s 3ms/step - loss: 0.8095 - accuracy: 0.8576 - val_loss: 0.4482 - val_accuracy: 0.8462\n",
            "Epoch 129/200\n",
            "37/37 [==============================] - 0s 3ms/step - loss: 0.5242 - accuracy: 0.8881 - val_loss: 0.4415 - val_accuracy: 0.8571\n",
            "Epoch 130/200\n",
            "37/37 [==============================] - 0s 3ms/step - loss: 0.4812 - accuracy: 0.8918 - val_loss: 0.4375 - val_accuracy: 0.8571\n",
            "Epoch 131/200\n",
            "37/37 [==============================] - 0s 3ms/step - loss: 0.5090 - accuracy: 0.8552 - val_loss: 0.4316 - val_accuracy: 0.8571\n",
            "Epoch 132/200\n",
            "37/37 [==============================] - 0s 3ms/step - loss: 0.5271 - accuracy: 0.8747 - val_loss: 0.4278 - val_accuracy: 0.8571\n",
            "Epoch 133/200\n",
            "37/37 [==============================] - 0s 3ms/step - loss: 0.5545 - accuracy: 0.8548 - val_loss: 0.4234 - val_accuracy: 0.8681\n",
            "Epoch 134/200\n",
            "37/37 [==============================] - 0s 3ms/step - loss: 0.4810 - accuracy: 0.8672 - val_loss: 0.4196 - val_accuracy: 0.8681\n",
            "Epoch 135/200\n",
            "37/37 [==============================] - 0s 3ms/step - loss: 0.4995 - accuracy: 0.8875 - val_loss: 0.4155 - val_accuracy: 0.8681\n",
            "Epoch 136/200\n",
            "37/37 [==============================] - 0s 3ms/step - loss: 0.3962 - accuracy: 0.8931 - val_loss: 0.4121 - val_accuracy: 0.8681\n",
            "Epoch 137/200\n",
            "37/37 [==============================] - 0s 3ms/step - loss: 0.7331 - accuracy: 0.8553 - val_loss: 0.4083 - val_accuracy: 0.8681\n",
            "Epoch 138/200\n",
            "37/37 [==============================] - 0s 3ms/step - loss: 0.5259 - accuracy: 0.8832 - val_loss: 0.4049 - val_accuracy: 0.8901\n",
            "Epoch 139/200\n",
            "37/37 [==============================] - 0s 3ms/step - loss: 0.6455 - accuracy: 0.8979 - val_loss: 0.4017 - val_accuracy: 0.9011\n",
            "Epoch 140/200\n",
            "37/37 [==============================] - 0s 3ms/step - loss: 0.5760 - accuracy: 0.8955 - val_loss: 0.3982 - val_accuracy: 0.9011\n",
            "Epoch 141/200\n",
            "37/37 [==============================] - 0s 3ms/step - loss: 0.5177 - accuracy: 0.8824 - val_loss: 0.3948 - val_accuracy: 0.9011\n",
            "Epoch 142/200\n",
            "37/37 [==============================] - 0s 3ms/step - loss: 0.4903 - accuracy: 0.8706 - val_loss: 0.3911 - val_accuracy: 0.9121\n",
            "Epoch 143/200\n",
            "37/37 [==============================] - 0s 3ms/step - loss: 0.6005 - accuracy: 0.8762 - val_loss: 0.3873 - val_accuracy: 0.9121\n",
            "Epoch 144/200\n",
            "37/37 [==============================] - 0s 3ms/step - loss: 0.7214 - accuracy: 0.8626 - val_loss: 0.3839 - val_accuracy: 0.9121\n",
            "Epoch 145/200\n",
            "37/37 [==============================] - 0s 3ms/step - loss: 0.3412 - accuracy: 0.9200 - val_loss: 0.3802 - val_accuracy: 0.9121\n",
            "Epoch 146/200\n",
            "37/37 [==============================] - 0s 3ms/step - loss: 0.3759 - accuracy: 0.9195 - val_loss: 0.3782 - val_accuracy: 0.9121\n",
            "Epoch 147/200\n",
            "37/37 [==============================] - 0s 3ms/step - loss: 0.6090 - accuracy: 0.8910 - val_loss: 0.3762 - val_accuracy: 0.9121\n",
            "Epoch 148/200\n",
            "37/37 [==============================] - 0s 3ms/step - loss: 0.4739 - accuracy: 0.9053 - val_loss: 0.3745 - val_accuracy: 0.9121\n",
            "Epoch 149/200\n",
            "37/37 [==============================] - 0s 3ms/step - loss: 0.6143 - accuracy: 0.8987 - val_loss: 0.3727 - val_accuracy: 0.9121\n",
            "Epoch 150/200\n",
            "37/37 [==============================] - 0s 3ms/step - loss: 0.3722 - accuracy: 0.9178 - val_loss: 0.3708 - val_accuracy: 0.9121\n",
            "Epoch 151/200\n",
            "37/37 [==============================] - 0s 3ms/step - loss: 0.3830 - accuracy: 0.9145 - val_loss: 0.3691 - val_accuracy: 0.9121\n",
            "Epoch 152/200\n",
            "37/37 [==============================] - 0s 3ms/step - loss: 0.6594 - accuracy: 0.8868 - val_loss: 0.3675 - val_accuracy: 0.9121\n",
            "Epoch 153/200\n",
            "37/37 [==============================] - 0s 3ms/step - loss: 0.3919 - accuracy: 0.9218 - val_loss: 0.3659 - val_accuracy: 0.9121\n",
            "Epoch 154/200\n",
            "37/37 [==============================] - 0s 3ms/step - loss: 0.4737 - accuracy: 0.9200 - val_loss: 0.3644 - val_accuracy: 0.9121\n",
            "Epoch 155/200\n",
            "37/37 [==============================] - 0s 3ms/step - loss: 0.3476 - accuracy: 0.9088 - val_loss: 0.3628 - val_accuracy: 0.9121\n",
            "Epoch 156/200\n",
            "37/37 [==============================] - 0s 3ms/step - loss: 0.3257 - accuracy: 0.9137 - val_loss: 0.3611 - val_accuracy: 0.9121\n",
            "Epoch 157/200\n",
            "37/37 [==============================] - 0s 3ms/step - loss: 0.4977 - accuracy: 0.8950 - val_loss: 0.3595 - val_accuracy: 0.9121\n",
            "Epoch 158/200\n",
            "37/37 [==============================] - 0s 3ms/step - loss: 0.4859 - accuracy: 0.9182 - val_loss: 0.3579 - val_accuracy: 0.9121\n",
            "Epoch 159/200\n",
            "37/37 [==============================] - 0s 3ms/step - loss: 0.3948 - accuracy: 0.9195 - val_loss: 0.3564 - val_accuracy: 0.9121\n",
            "Epoch 160/200\n",
            "37/37 [==============================] - 0s 3ms/step - loss: 0.5561 - accuracy: 0.8958 - val_loss: 0.3548 - val_accuracy: 0.9121\n",
            "Epoch 161/200\n",
            "37/37 [==============================] - 0s 3ms/step - loss: 0.4177 - accuracy: 0.8989 - val_loss: 0.3532 - val_accuracy: 0.9121\n",
            "Epoch 162/200\n",
            "37/37 [==============================] - 0s 3ms/step - loss: 0.4560 - accuracy: 0.8799 - val_loss: 0.3498 - val_accuracy: 0.9121\n",
            "Epoch 163/200\n",
            "37/37 [==============================] - 0s 4ms/step - loss: 0.2877 - accuracy: 0.9111 - val_loss: 0.3482 - val_accuracy: 0.9121\n",
            "Epoch 164/200\n",
            "37/37 [==============================] - 0s 3ms/step - loss: 0.4159 - accuracy: 0.9041 - val_loss: 0.3466 - val_accuracy: 0.9121\n",
            "Epoch 165/200\n",
            "37/37 [==============================] - 0s 4ms/step - loss: 0.3375 - accuracy: 0.9178 - val_loss: 0.3452 - val_accuracy: 0.9121\n",
            "Epoch 166/200\n",
            "37/37 [==============================] - 0s 4ms/step - loss: 0.5717 - accuracy: 0.8935 - val_loss: 0.3436 - val_accuracy: 0.9121\n",
            "Epoch 167/200\n",
            "37/37 [==============================] - 0s 4ms/step - loss: 0.4106 - accuracy: 0.9182 - val_loss: 0.3422 - val_accuracy: 0.9231\n",
            "Epoch 168/200\n",
            "37/37 [==============================] - 0s 3ms/step - loss: 0.3278 - accuracy: 0.9125 - val_loss: 0.3409 - val_accuracy: 0.9231\n",
            "Epoch 169/200\n",
            "37/37 [==============================] - 0s 3ms/step - loss: 0.3031 - accuracy: 0.9280 - val_loss: 0.3393 - val_accuracy: 0.9231\n",
            "Epoch 170/200\n",
            "37/37 [==============================] - 0s 4ms/step - loss: 0.4060 - accuracy: 0.9128 - val_loss: 0.3381 - val_accuracy: 0.9231\n",
            "Epoch 171/200\n",
            "37/37 [==============================] - 0s 3ms/step - loss: 0.3548 - accuracy: 0.9172 - val_loss: 0.3368 - val_accuracy: 0.9341\n",
            "Epoch 172/200\n",
            "37/37 [==============================] - 0s 4ms/step - loss: 0.3956 - accuracy: 0.9104 - val_loss: 0.3354 - val_accuracy: 0.9341\n",
            "Epoch 173/200\n",
            "37/37 [==============================] - 0s 3ms/step - loss: 0.4471 - accuracy: 0.9083 - val_loss: 0.3334 - val_accuracy: 0.9341\n",
            "Epoch 174/200\n",
            "37/37 [==============================] - 0s 4ms/step - loss: 0.3174 - accuracy: 0.9159 - val_loss: 0.3319 - val_accuracy: 0.9341\n",
            "Epoch 175/200\n",
            "37/37 [==============================] - 0s 3ms/step - loss: 0.2497 - accuracy: 0.9240 - val_loss: 0.3307 - val_accuracy: 0.9341\n",
            "Epoch 176/200\n",
            "37/37 [==============================] - 0s 3ms/step - loss: 0.2752 - accuracy: 0.9307 - val_loss: 0.3294 - val_accuracy: 0.9451\n",
            "Epoch 177/200\n",
            "37/37 [==============================] - 0s 3ms/step - loss: 0.3440 - accuracy: 0.9043 - val_loss: 0.3286 - val_accuracy: 0.9451\n",
            "Epoch 178/200\n",
            "37/37 [==============================] - 0s 3ms/step - loss: 0.1979 - accuracy: 0.9189 - val_loss: 0.3278 - val_accuracy: 0.9451\n",
            "Epoch 179/200\n",
            "37/37 [==============================] - 0s 4ms/step - loss: 0.2596 - accuracy: 0.9101 - val_loss: 0.3270 - val_accuracy: 0.9451\n",
            "Epoch 180/200\n",
            "37/37 [==============================] - 0s 3ms/step - loss: 0.1670 - accuracy: 0.9419 - val_loss: 0.3264 - val_accuracy: 0.9451\n",
            "Epoch 181/200\n",
            "37/37 [==============================] - 0s 3ms/step - loss: 0.2933 - accuracy: 0.9394 - val_loss: 0.3257 - val_accuracy: 0.9451\n",
            "Epoch 182/200\n",
            "37/37 [==============================] - 0s 3ms/step - loss: 0.2960 - accuracy: 0.9321 - val_loss: 0.3249 - val_accuracy: 0.9451\n",
            "Epoch 183/200\n",
            "37/37 [==============================] - 0s 3ms/step - loss: 0.3540 - accuracy: 0.9148 - val_loss: 0.3242 - val_accuracy: 0.9451\n",
            "Epoch 184/200\n",
            "37/37 [==============================] - 0s 3ms/step - loss: 0.2462 - accuracy: 0.9320 - val_loss: 0.3235 - val_accuracy: 0.9451\n",
            "Epoch 185/200\n",
            "37/37 [==============================] - 0s 3ms/step - loss: 0.1867 - accuracy: 0.9402 - val_loss: 0.3227 - val_accuracy: 0.9451\n",
            "Epoch 186/200\n",
            "37/37 [==============================] - 0s 3ms/step - loss: 0.2223 - accuracy: 0.9196 - val_loss: 0.3220 - val_accuracy: 0.9451\n",
            "Epoch 187/200\n",
            "37/37 [==============================] - 0s 3ms/step - loss: 0.3972 - accuracy: 0.9096 - val_loss: 0.3213 - val_accuracy: 0.9451\n",
            "Epoch 188/200\n",
            "37/37 [==============================] - 0s 3ms/step - loss: 0.2658 - accuracy: 0.9026 - val_loss: 0.3207 - val_accuracy: 0.9451\n",
            "Epoch 189/200\n",
            "37/37 [==============================] - 0s 3ms/step - loss: 0.2224 - accuracy: 0.9291 - val_loss: 0.3200 - val_accuracy: 0.9451\n",
            "Epoch 190/200\n",
            "37/37 [==============================] - 0s 3ms/step - loss: 0.3143 - accuracy: 0.9125 - val_loss: 0.3194 - val_accuracy: 0.9451\n",
            "Epoch 191/200\n",
            "37/37 [==============================] - 0s 3ms/step - loss: 0.2265 - accuracy: 0.9305 - val_loss: 0.3188 - val_accuracy: 0.9451\n",
            "Epoch 192/200\n",
            "37/37 [==============================] - 0s 3ms/step - loss: 0.2519 - accuracy: 0.9198 - val_loss: 0.3180 - val_accuracy: 0.9451\n",
            "Epoch 193/200\n",
            "37/37 [==============================] - 0s 3ms/step - loss: 0.2760 - accuracy: 0.9035 - val_loss: 0.3173 - val_accuracy: 0.9451\n",
            "Epoch 194/200\n",
            "37/37 [==============================] - 0s 3ms/step - loss: 0.2988 - accuracy: 0.9117 - val_loss: 0.3167 - val_accuracy: 0.9451\n",
            "Epoch 195/200\n",
            "37/37 [==============================] - 0s 3ms/step - loss: 0.2425 - accuracy: 0.9200 - val_loss: 0.3160 - val_accuracy: 0.9451\n",
            "Epoch 196/200\n",
            "37/37 [==============================] - 0s 3ms/step - loss: 0.2893 - accuracy: 0.9240 - val_loss: 0.3155 - val_accuracy: 0.9451\n",
            "Epoch 197/200\n",
            "37/37 [==============================] - 0s 3ms/step - loss: 0.2502 - accuracy: 0.9425 - val_loss: 0.3150 - val_accuracy: 0.9451\n",
            "Epoch 198/200\n",
            "37/37 [==============================] - 0s 3ms/step - loss: 0.2385 - accuracy: 0.9339 - val_loss: 0.3143 - val_accuracy: 0.9451\n",
            "Epoch 199/200\n",
            "37/37 [==============================] - 0s 3ms/step - loss: 0.1893 - accuracy: 0.9428 - val_loss: 0.3136 - val_accuracy: 0.9451\n",
            "Epoch 200/200\n",
            "37/37 [==============================] - 0s 3ms/step - loss: 0.2836 - accuracy: 0.9139 - val_loss: 0.3130 - val_accuracy: 0.9451\n"
          ],
          "name": "stdout"
        }
      ]
    },
    {
      "cell_type": "code",
      "metadata": {
        "id": "xxhnPI4EJLQA"
      },
      "source": [
        "# now lets visualize the Loss and Val_Loss to check how the loss value is optimized.\n",
        "#get the model3 history in dictionary dictionary\n",
        "model5_hist_dict=model5_history.history"
      ],
      "id": "xxhnPI4EJLQA",
      "execution_count": null,
      "outputs": []
    },
    {
      "cell_type": "code",
      "metadata": {
        "id": "CdG26QlGJLQC",
        "colab": {
          "base_uri": "https://localhost:8080/",
          "height": 639
        },
        "outputId": "626dcf2c-90f1-4278-cfb3-5bb8520af2cd"
      },
      "source": [
        "# Plot for Loss vs Val Loss Model5\n",
        "loss_model5=model5_hist_dict[\"loss\"]\n",
        "val_loss_model5=model5_hist_dict[\"val_loss\"]\n",
        "plt.figure(figsize=(12,10))\n",
        "plt.plot(loss_model4,\"b\",label=\"Training-Loss\")\n",
        "plt.plot(val_loss_model4,\"g\",label=\"Val-Training-Loss\")\n",
        "plt.legend()\n",
        "plt.title(\"Loss VS Val_loss Model5\")\n",
        "plt.xlabel(\"Epochs\")"
      ],
      "id": "CdG26QlGJLQC",
      "execution_count": null,
      "outputs": [
        {
          "output_type": "execute_result",
          "data": {
            "text/plain": [
              "Text(0.5, 0, 'Epochs')"
            ]
          },
          "metadata": {
            "tags": []
          },
          "execution_count": 77
        },
        {
          "output_type": "display_data",
          "data": {
            "image/png": "[encoded data removed]",
            "text/plain": [
              "<Figure size 864x720 with 1 Axes>"
            ]
          },
          "metadata": {
            "tags": [],
            "needs_background": "light"
          }
        }
      ]
    },
    {
      "cell_type": "code",
      "metadata": {
        "id": "UV4tQydjJLQG",
        "colab": {
          "base_uri": "https://localhost:8080/",
          "height": 639
        },
        "outputId": "3a1114e6-2fbe-4265-cb1d-d4c21d116c4e"
      },
      "source": [
        "# Plot for acc vs Val Loss Model5\n",
        "acc_model5=model5_hist_dict[\"accuracy\"]\n",
        "val_acc_model5=model5_hist_dict[\"val_accuracy\"]\n",
        "plt.figure(figsize=(12,10))\n",
        "plt.plot(acc_model4,\"b\",label=\"Training-Accuracy\")\n",
        "plt.plot(val_acc_model4,\"g\",label=\"Val-Accuracy\")\n",
        "plt.legend()\n",
        "plt.title(\"Accuracy VS Val_Accuracy  Model5\")\n",
        "plt.xlabel(\"Epochs\")"
      ],
      "id": "UV4tQydjJLQG",
      "execution_count": null,
      "outputs": [
        {
          "output_type": "execute_result",
          "data": {
            "text/plain": [
              "Text(0.5, 0, 'Epochs')"
            ]
          },
          "metadata": {
            "tags": []
          },
          "execution_count": 78
        },
        {
          "output_type": "display_data",
          "data": {
            "image/png": "[encoded data removed]",
            "text/plain": [
              "<Figure size 864x720 with 1 Axes>"
            ]
          },
          "metadata": {
            "tags": [],
            "needs_background": "light"
          }
        }
      ]
    },
    {
      "cell_type": "code",
      "metadata": {
        "id": "mf1lbxSyJLQJ",
        "colab": {
          "base_uri": "https://localhost:8080/"
        },
        "outputId": "4e967916-b6eb-4d18-e72f-ea516212816b"
      },
      "source": [
        "# our model4 is trained well and now lets check the accuracy of the test data\n",
        "test_loss_model5, test_acc_model5 =model5.evaluate(X_test,Y_test)\n",
        "print(\"Accuracy of the Model5 on test data is :\", test_acc_model5)\n",
        "print(\"Test loss of the Model5 on test data is :\", test_loss_model5)"
      ],
      "id": "mf1lbxSyJLQJ",
      "execution_count": null,
      "outputs": [
        {
          "output_type": "stream",
          "text": [
            "4/4 [==============================] - 0s 3ms/step - loss: 0.5462 - accuracy: 0.9298\n",
            "Accuracy of the Model5 on test data is : 0.9298245906829834\n",
            "Test loss of the Model5 on test data is : 0.546232283115387\n"
          ],
          "name": "stdout"
        }
      ]
    },
    {
      "cell_type": "code",
      "metadata": {
        "id": "1HqasIbDJLQM"
      },
      "source": [
        "#Lets check prediction using model3\n",
        "model5_y_pred= model5.predict(X_test)\n",
        "model5_y_pred = (model5_y_pred > 0.5)"
      ],
      "id": "1HqasIbDJLQM",
      "execution_count": null,
      "outputs": []
    },
    {
      "cell_type": "code",
      "metadata": {
        "id": "LGH4LeAJJLQP",
        "colab": {
          "base_uri": "https://localhost:8080/"
        },
        "outputId": "f0aef74c-6a3f-4acd-cc66-94a096e8df0a"
      },
      "source": [
        "from sklearn.metrics import confusion_matrix, classification_report\n",
        "cm5 = confusion_matrix(Y_test, model5_y_pred)\n",
        "print(\"Confusion Matrix\") \n",
        "print(cm5)"
      ],
      "id": "LGH4LeAJJLQP",
      "execution_count": null,
      "outputs": [
        {
          "output_type": "stream",
          "text": [
            "Confusion Matrix\n",
            "[[71  1]\n",
            " [ 7 35]]\n"
          ],
          "name": "stdout"
        }
      ]
    },
    {
      "cell_type": "code",
      "metadata": {
        "id": "BWHXMFf8JLQR",
        "colab": {
          "base_uri": "https://localhost:8080/"
        },
        "outputId": "aeed7062-46b2-4c8c-d796-9c76a51400ce"
      },
      "source": [
        "#classification report for model name= model\n",
        "target_class=[\"M\", \"B\"]  #M=1, B=0\n",
        "print(\"Classification report model5\")\n",
        "print(classification_report(Y_test, model5_y_pred, target_names=target_class))"
      ],
      "id": "BWHXMFf8JLQR",
      "execution_count": null,
      "outputs": [
        {
          "output_type": "stream",
          "text": [
            "Classification report model5\n",
            "              precision    recall  f1-score   support\n",
            "\n",
            "           M       0.91      0.99      0.95        72\n",
            "           B       0.97      0.83      0.90        42\n",
            "\n",
            "    accuracy                           0.93       114\n",
            "   macro avg       0.94      0.91      0.92       114\n",
            "weighted avg       0.93      0.93      0.93       114\n",
            "\n"
          ],
          "name": "stdout"
        }
      ]
    },
    {
      "cell_type": "code",
      "metadata": {
        "id": "xv2lKJUseIIE"
      },
      "source": [
        ""
      ],
      "id": "xv2lKJUseIIE",
      "execution_count": null,
      "outputs": []
    },
    {
      "cell_type": "code",
      "metadata": {
        "id": "8gVPEh9xeIMN"
      },
      "source": [
        ""
      ],
      "id": "8gVPEh9xeIMN",
      "execution_count": null,
      "outputs": []
    },
    {
      "cell_type": "code",
      "metadata": {
        "id": "JzYTBPxEeIO_"
      },
      "source": [
        ""
      ],
      "id": "JzYTBPxEeIO_",
      "execution_count": null,
      "outputs": []
    },
    {
      "cell_type": "code",
      "metadata": {
        "id": "7JdtQmdBFjGj"
      },
      "source": [
        ""
      ],
      "id": "7JdtQmdBFjGj",
      "execution_count": null,
      "outputs": []
    },
    {
      "cell_type": "code",
      "metadata": {
        "id": "7xLyMzxxFjMa"
      },
      "source": [
        ""
      ],
      "id": "7xLyMzxxFjMa",
      "execution_count": null,
      "outputs": []
    },
    {
      "cell_type": "code",
      "metadata": {
        "id": "-HluG5nAFjRU"
      },
      "source": [
        ""
      ],
      "id": "-HluG5nAFjRU",
      "execution_count": null,
      "outputs": []
    }
  ]
}